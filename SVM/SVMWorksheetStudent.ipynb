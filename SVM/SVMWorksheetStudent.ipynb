{
  "nbformat": 4,
  "nbformat_minor": 0,
  "metadata": {
    "colab": {
      "name": "SVMWorksheetStudent",
      "version": "0.3.2",
      "provenance": [],
      "collapsed_sections": []
    },
    "kernelspec": {
      "name": "python3",
      "display_name": "Python 3"
    }
  },
  "cells": [
    {
      "metadata": {
        "id": "-UimMCmGe19F",
        "colab_type": "text"
      },
      "cell_type": "markdown",
      "source": [
        "# SVM Tree Worksheet"
      ]
    },
    {
      "metadata": {
        "id": "kedW02LgKjVL",
        "colab_type": "code",
        "colab": {
          "base_uri": "https://localhost:8080/",
          "height": 17
        },
        "outputId": "673318e7-00df-4621-8d95-4c5422241045"
      },
      "cell_type": "code",
      "source": [
        "import numpy as np\n",
        "import pandas as pd\n",
        "from sklearn.model_selection import train_test_split\n",
        "import matplotlib.pyplot as plt\n",
        "from sklearn import svm\n",
        "from sklearn.metrics import accuracy_score\n",
        "from sklearn.svm import SVC # \"Support vector classifier\"\n",
        "from sklearn.model_selection import GridSearchCV\n",
        "from sklearn.ensemble import RandomForestClassifier"
      ],
      "execution_count": 2,
      "outputs": []
    },
    {
      "metadata": {
        "id": "rz35eT5-SMht",
        "colab_type": "text"
      },
      "cell_type": "markdown",
      "source": [
        "#### Load pima indians diabetes dataset below"
      ]
    },
    {
      "metadata": {
        "id": "Ydh9gmDkMGmu",
        "colab_type": "code",
        "colab": {
          "base_uri": "https://localhost:8080/",
          "height": 204
        },
        "outputId": "e9f0dd48-5da1-452d-e1f8-25457343cd8e"
      },
      "cell_type": "code",
      "source": [
        "url = \"https://raw.githubusercontent.com/jbrownlee/Datasets/master/pima-indians-diabetes.data.csv\"\n",
        "names = ['preg', 'plas', 'pres', 'skin', 'test', 'mass', 'pedi', 'age', 'class']\n",
        "pima = pd.read_csv(url)\n",
        "pima.columns=names\n",
        "pima.head()"
      ],
      "execution_count": 4,
      "outputs": [
        {
          "output_type": "execute_result",
          "data": {
            "text/html": [
              "<div>\n",
              "<style scoped>\n",
              "    .dataframe tbody tr th:only-of-type {\n",
              "        vertical-align: middle;\n",
              "    }\n",
              "\n",
              "    .dataframe tbody tr th {\n",
              "        vertical-align: top;\n",
              "    }\n",
              "\n",
              "    .dataframe thead th {\n",
              "        text-align: right;\n",
              "    }\n",
              "</style>\n",
              "<table border=\"1\" class=\"dataframe\">\n",
              "  <thead>\n",
              "    <tr style=\"text-align: right;\">\n",
              "      <th></th>\n",
              "      <th>preg</th>\n",
              "      <th>plas</th>\n",
              "      <th>pres</th>\n",
              "      <th>skin</th>\n",
              "      <th>test</th>\n",
              "      <th>mass</th>\n",
              "      <th>pedi</th>\n",
              "      <th>age</th>\n",
              "      <th>class</th>\n",
              "    </tr>\n",
              "  </thead>\n",
              "  <tbody>\n",
              "    <tr>\n",
              "      <th>0</th>\n",
              "      <td>1</td>\n",
              "      <td>85</td>\n",
              "      <td>66</td>\n",
              "      <td>29</td>\n",
              "      <td>0</td>\n",
              "      <td>26.6</td>\n",
              "      <td>0.351</td>\n",
              "      <td>31</td>\n",
              "      <td>0</td>\n",
              "    </tr>\n",
              "    <tr>\n",
              "      <th>1</th>\n",
              "      <td>8</td>\n",
              "      <td>183</td>\n",
              "      <td>64</td>\n",
              "      <td>0</td>\n",
              "      <td>0</td>\n",
              "      <td>23.3</td>\n",
              "      <td>0.672</td>\n",
              "      <td>32</td>\n",
              "      <td>1</td>\n",
              "    </tr>\n",
              "    <tr>\n",
              "      <th>2</th>\n",
              "      <td>1</td>\n",
              "      <td>89</td>\n",
              "      <td>66</td>\n",
              "      <td>23</td>\n",
              "      <td>94</td>\n",
              "      <td>28.1</td>\n",
              "      <td>0.167</td>\n",
              "      <td>21</td>\n",
              "      <td>0</td>\n",
              "    </tr>\n",
              "    <tr>\n",
              "      <th>3</th>\n",
              "      <td>0</td>\n",
              "      <td>137</td>\n",
              "      <td>40</td>\n",
              "      <td>35</td>\n",
              "      <td>168</td>\n",
              "      <td>43.1</td>\n",
              "      <td>2.288</td>\n",
              "      <td>33</td>\n",
              "      <td>1</td>\n",
              "    </tr>\n",
              "    <tr>\n",
              "      <th>4</th>\n",
              "      <td>5</td>\n",
              "      <td>116</td>\n",
              "      <td>74</td>\n",
              "      <td>0</td>\n",
              "      <td>0</td>\n",
              "      <td>25.6</td>\n",
              "      <td>0.201</td>\n",
              "      <td>30</td>\n",
              "      <td>0</td>\n",
              "    </tr>\n",
              "  </tbody>\n",
              "</table>\n",
              "</div>"
            ],
            "text/plain": [
              "   preg  plas  pres  skin  test  mass   pedi  age  class\n",
              "0     1    85    66    29     0  26.6  0.351   31      0\n",
              "1     8   183    64     0     0  23.3  0.672   32      1\n",
              "2     1    89    66    23    94  28.1  0.167   21      0\n",
              "3     0   137    40    35   168  43.1  2.288   33      1\n",
              "4     5   116    74     0     0  25.6  0.201   30      0"
            ]
          },
          "metadata": {
            "tags": []
          },
          "execution_count": 4
        }
      ]
    },
    {
      "metadata": {
        "id": "OVd3yPrQ3LDG",
        "colab_type": "text"
      },
      "cell_type": "markdown",
      "source": [
        "#### Split data into test and train set with the test_size being 25 %"
      ]
    },
    {
      "metadata": {
        "id": "kOR7RCrf5P_k",
        "colab_type": "code",
        "colab": {
          "base_uri": "https://localhost:8080/",
          "height": 17
        },
        "outputId": "a9cc4b82-d4c3-467f-94c9-75d965dd0f41"
      },
      "cell_type": "code",
      "source": [
        "X = pima.loc[:,\"preg\":\"age\"]\n",
        "y = pima.loc[:, \"class\"]\n",
        "\n",
        "X_train, X_test, y_train, y_test = train_test_split(X, y, test_size=0.25, random_state=0)"
      ],
      "execution_count": 6,
      "outputs": []
    },
    {
      "metadata": {
        "id": "v7lQh69N3YR3",
        "colab_type": "text"
      },
      "cell_type": "markdown",
      "source": [
        "#### Create a model with sklearn's SVC and a high gamma value (perhaps 1.0)"
      ]
    },
    {
      "metadata": {
        "id": "9rYQecrQ8yjn",
        "colab_type": "code",
        "colab": {
          "base_uri": "https://localhost:8080/",
          "height": 85
        },
        "outputId": "ad0a4d3a-ce5b-4660-9bf5-fef2c0620a35"
      },
      "cell_type": "code",
      "source": [
        "model = svm.SVC(kernel=\"rbf\", gamma=1)\n",
        "model.fit(X_train, y_train)"
      ],
      "execution_count": 26,
      "outputs": [
        {
          "output_type": "execute_result",
          "data": {
            "text/plain": [
              "SVC(C=1.0, cache_size=200, class_weight=None, coef0=0.0,\n",
              "  decision_function_shape='ovr', degree=3, gamma=1, kernel='rbf',\n",
              "  max_iter=-1, probability=False, random_state=None, shrinking=True,\n",
              "  tol=0.001, verbose=False)"
            ]
          },
          "metadata": {
            "tags": []
          },
          "execution_count": 26
        }
      ]
    },
    {
      "metadata": {
        "id": "qdiqjUje4ll-",
        "colab_type": "text"
      },
      "cell_type": "markdown",
      "source": [
        "#### Print accuracy of test data and training data (the model should be trained/'fit' on the training data)"
      ]
    },
    {
      "metadata": {
        "id": "O5LqepHk9S0M",
        "colab_type": "code",
        "colab": {
          "base_uri": "https://localhost:8080/",
          "height": 34
        },
        "outputId": "cf64d89c-2e44-4dd5-fd7a-b37cbe1e2b03"
      },
      "cell_type": "code",
      "source": [
        "y_pred = model.predict(X_test)\n",
        "accuracy_score(y_pred, y_test)"
      ],
      "execution_count": 27,
      "outputs": [
        {
          "output_type": "execute_result",
          "data": {
            "text/plain": [
              "0.6822916666666666"
            ]
          },
          "metadata": {
            "tags": []
          },
          "execution_count": 27
        }
      ]
    },
    {
      "metadata": {
        "id": "fC7VlLtI3ZjQ",
        "colab_type": "text"
      },
      "cell_type": "markdown",
      "source": [
        "#### Create a model with sklearn's SVC and a low gamma value (perhaps .001)"
      ]
    },
    {
      "metadata": {
        "id": "3vVHnWuY9pFN",
        "colab_type": "code",
        "colab": {
          "base_uri": "https://localhost:8080/",
          "height": 85
        },
        "outputId": "0d378332-0048-4041-f896-695c715264bc"
      },
      "cell_type": "code",
      "source": [
        "model2 = svm.SVC(kernel=\"rbf\", gamma=0.00001)\n",
        "model2.fit(X_train, y_train)"
      ],
      "execution_count": 45,
      "outputs": [
        {
          "output_type": "execute_result",
          "data": {
            "text/plain": [
              "SVC(C=1.0, cache_size=200, class_weight=None, coef0=0.0,\n",
              "  decision_function_shape='ovr', degree=3, gamma=1e-05, kernel='rbf',\n",
              "  max_iter=-1, probability=False, random_state=None, shrinking=True,\n",
              "  tol=0.001, verbose=False)"
            ]
          },
          "metadata": {
            "tags": []
          },
          "execution_count": 45
        }
      ]
    },
    {
      "metadata": {
        "id": "JQB-U50H4mIx",
        "colab_type": "text"
      },
      "cell_type": "markdown",
      "source": [
        "#### Print accuracy of training data and test data"
      ]
    },
    {
      "metadata": {
        "id": "tr4DGB309s9a",
        "colab_type": "code",
        "colab": {
          "base_uri": "https://localhost:8080/",
          "height": 34
        },
        "outputId": "70d7a1ba-91e7-4b34-be45-e1205da7ed8a"
      },
      "cell_type": "code",
      "source": [
        "y_pred2 = model2.predict(X_test)\n",
        "accuracy_score(y_pred2, y_test)"
      ],
      "execution_count": 46,
      "outputs": [
        {
          "output_type": "execute_result",
          "data": {
            "text/plain": [
              "0.8072916666666666"
            ]
          },
          "metadata": {
            "tags": []
          },
          "execution_count": 46
        }
      ]
    },
    {
      "metadata": {
        "id": "TA9xLHAEIKXY",
        "colab_type": "text"
      },
      "cell_type": "markdown",
      "source": [
        "##### Explain the accuracy results below. "
      ]
    },
    {
      "metadata": {
        "id": "13nLPZ706mom",
        "colab_type": "code",
        "colab": {
          "base_uri": "https://localhost:8080/",
          "height": 17
        },
        "outputId": "dbb6898e-8aee-4cc9-b642-6af2dc9e0c04"
      },
      "cell_type": "code",
      "source": [
        "#gotta find the sweet spot\n",
        "#in this case, smaller gamma value means better accuracy"
      ],
      "execution_count": 42,
      "outputs": []
    },
    {
      "metadata": {
        "id": "Lv21xang3ZAa",
        "colab_type": "text"
      },
      "cell_type": "markdown",
      "source": [
        "## GridSearchCV\n",
        "\n",
        "There are several parameters to tune. Instead of tuning the parameters one by one, GridSearchCV does an exhaustive search over provided parameters. <br><br>"
      ]
    },
    {
      "metadata": {
        "id": "gr2EOA2LYvoF",
        "colab_type": "text"
      },
      "cell_type": "markdown",
      "source": [
        "###Use gamma, C and decision_function_shape as parameters and GridSearchCV to find the best parameters with kernel='rbf'<br>\n",
        "Don't know what decision_function_shape is, look at the SVC documentation <br>\n",
        "Don't know how to use GridSearchCV, google it!<br><br>"
      ]
    },
    {
      "metadata": {
        "id": "zmjogZlyMVMf",
        "colab_type": "code",
        "colab": {
          "base_uri": "https://localhost:8080/",
          "height": 34
        },
        "outputId": "bc50166b-8d9a-4edc-a1e0-769656fc2cac"
      },
      "cell_type": "code",
      "source": [
        "parameters = {\"gamma\":[0.00001, 1], \"C\":[0.00001, 1], \"decision_function_shape\":(\"ovr\", \"ovo\")}\n",
        "grid_search = GridSearchCV(SVC(), parameters)\n",
        "grid_search.fit(X_test, y_test)\n",
        "parameters = grid_search.best_params_\n",
        "parameters"
      ],
      "execution_count": 72,
      "outputs": [
        {
          "output_type": "execute_result",
          "data": {
            "text/plain": [
              "{'C': 1, 'decision_function_shape': 'ovr', 'gamma': 1e-05}"
            ]
          },
          "metadata": {
            "tags": []
          },
          "execution_count": 72
        }
      ]
    },
    {
      "metadata": {
        "id": "tSCF7VHe99nL",
        "colab_type": "code",
        "colab": {
          "base_uri": "https://localhost:8080/",
          "height": 85
        },
        "outputId": "681cb54c-f6dc-4037-a7c5-4408cea048b8"
      },
      "cell_type": "code",
      "source": [
        "new_model = svm.SVC(kernel=\"rbf\", C=parameters[\"C\"], decision_function_shape=parameters[\"decision_function_shape\"], gamma=parameters[\"gamma\"])\n",
        "new_model.fit(X_train, y_train)"
      ],
      "execution_count": 73,
      "outputs": [
        {
          "output_type": "execute_result",
          "data": {
            "text/plain": [
              "SVC(C=1, cache_size=200, class_weight=None, coef0=0.0,\n",
              "  decision_function_shape='ovr', degree=3, gamma=1e-05, kernel='rbf',\n",
              "  max_iter=-1, probability=False, random_state=None, shrinking=True,\n",
              "  tol=0.001, verbose=False)"
            ]
          },
          "metadata": {
            "tags": []
          },
          "execution_count": 73
        }
      ]
    },
    {
      "metadata": {
        "id": "Yfyho8h_Y9_t",
        "colab_type": "text"
      },
      "cell_type": "markdown",
      "source": [
        "### Using the optimal parameters you found, print the accuracy"
      ]
    },
    {
      "metadata": {
        "id": "7p0actkaMxb9",
        "colab_type": "code",
        "colab": {
          "base_uri": "https://localhost:8080/",
          "height": 34
        },
        "outputId": "5c64a913-3a78-40f8-c9d0-fb088191acea"
      },
      "cell_type": "code",
      "source": [
        "new_y_pred = new_model.predict(X_test)\n",
        "accuracy_score(new_y_pred, y_test)"
      ],
      "execution_count": 74,
      "outputs": [
        {
          "output_type": "execute_result",
          "data": {
            "text/plain": [
              "0.8072916666666666"
            ]
          },
          "metadata": {
            "tags": []
          },
          "execution_count": 74
        }
      ]
    },
    {
      "metadata": {
        "id": "kfY6H6PO1vJD",
        "colab_type": "text"
      },
      "cell_type": "markdown",
      "source": [
        "### Create an ensemble that includes svm and random forest (use your code from the decision trees notebook)\n",
        "### Use predict_proba to get probabilities and decide a method to combine the predictions "
      ]
    },
    {
      "metadata": {
        "id": "PYbVYQgnOqpP",
        "colab_type": "code",
        "colab": {}
      },
      "cell_type": "code",
      "source": [
        ""
      ],
      "execution_count": 0,
      "outputs": []
    }
  ]
}