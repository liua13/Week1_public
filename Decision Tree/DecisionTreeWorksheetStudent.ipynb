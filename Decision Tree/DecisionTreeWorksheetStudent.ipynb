{
  "nbformat": 4,
  "nbformat_minor": 0,
  "metadata": {
    "colab": {
      "name": "DecisionTreeWorksheetStudent",
      "version": "0.3.2",
      "provenance": [],
      "collapsed_sections": []
    },
    "kernelspec": {
      "name": "python3",
      "display_name": "Python 3"
    }
  },
  "cells": [
    {
      "metadata": {
        "id": "-UimMCmGe19F",
        "colab_type": "text"
      },
      "cell_type": "markdown",
      "source": [
        "# Decision Tree Worksheet\n"
      ]
    },
    {
      "metadata": {
        "id": "kedW02LgKjVL",
        "colab_type": "code",
        "colab": {
          "base_uri": "https://localhost:8080/",
          "height": 2822
        },
        "outputId": "f617c7dd-f57b-46f5-d0eb-d69a0b5fe767"
      },
      "cell_type": "code",
      "source": [
        "import numpy as np\n",
        "import pandas as pd\n",
        "from sklearn.model_selection import train_test_split\n",
        "from sklearn.tree import DecisionTreeClassifier\n",
        "from sklearn.metrics import accuracy_score\n",
        "from sklearn import tree\n",
        "from sklearn.ensemble import RandomForestClassifier\n",
        "from sklearn import metrics\n",
        "!apt-get install -q graphviz\n",
        "import graphviz\n",
        "import matplotlib.pyplot as plt"
      ],
      "execution_count": 40,
      "outputs": [
        {
          "output_type": "stream",
          "text": [
            "Reading package lists...\n",
            "Building dependency tree...\n",
            "Reading state information...\n",
            "The following additional packages will be installed:\n",
            "  fontconfig libcairo2 libcdt5 libcgraph6 libdatrie1 libgd3 libgraphite2-3\n",
            "  libgvc6 libgvpr2 libharfbuzz0b libjbig0 libltdl7 libpango-1.0-0\n",
            "  libpangocairo-1.0-0 libpangoft2-1.0-0 libpathplan4 libpixman-1-0\n",
            "  libthai-data libthai0 libtiff5 libwebp6 libxaw7 libxcb-render0 libxcb-shm0\n",
            "  libxmu6 libxpm4 libxt6\n",
            "Suggested packages:\n",
            "  gsfonts graphviz-doc libgd-tools\n",
            "The following NEW packages will be installed:\n",
            "  fontconfig graphviz libcairo2 libcdt5 libcgraph6 libdatrie1 libgd3\n",
            "  libgraphite2-3 libgvc6 libgvpr2 libharfbuzz0b libjbig0 libltdl7\n",
            "  libpango-1.0-0 libpangocairo-1.0-0 libpangoft2-1.0-0 libpathplan4\n",
            "  libpixman-1-0 libthai-data libthai0 libtiff5 libwebp6 libxaw7 libxcb-render0\n",
            "  libxcb-shm0 libxmu6 libxpm4 libxt6\n",
            "0 upgraded, 28 newly installed, 0 to remove and 7 not upgraded.\n",
            "Need to get 4,122 kB of archives.\n",
            "After this operation, 20.6 MB of additional disk space will be used.\n",
            "Get:1 http://archive.ubuntu.com/ubuntu artful/main amd64 fontconfig amd64 2.11.94-0ubuntu2 [177 kB]\n",
            "Get:2 http://archive.ubuntu.com/ubuntu artful/main amd64 libjbig0 amd64 2.1-3.1 [26.6 kB]\n",
            "Get:3 http://archive.ubuntu.com/ubuntu artful/main amd64 libcdt5 amd64 2.38.0-16ubuntu2 [19.5 kB]\n",
            "Get:4 http://archive.ubuntu.com/ubuntu artful/main amd64 libcgraph6 amd64 2.38.0-16ubuntu2 [40.0 kB]\n",
            "Get:5 http://archive.ubuntu.com/ubuntu artful-updates/main amd64 libtiff5 amd64 4.0.8-5ubuntu0.1 [150 kB]\n",
            "Get:6 http://archive.ubuntu.com/ubuntu artful/main amd64 libwebp6 amd64 0.6.0-3 [181 kB]\n",
            "Get:7 http://archive.ubuntu.com/ubuntu artful/main amd64 libxpm4 amd64 1:3.5.12-1 [34.0 kB]\n",
            "Get:8 http://archive.ubuntu.com/ubuntu artful/main amd64 libgd3 amd64 2.2.5-3 [119 kB]\n",
            "Get:9 http://archive.ubuntu.com/ubuntu artful/main amd64 libpixman-1-0 amd64 0.34.0-1 [230 kB]\n",
            "Get:10 http://archive.ubuntu.com/ubuntu artful/main amd64 libxcb-render0 amd64 1.12-1ubuntu1 [14.8 kB]\n",
            "Get:11 http://archive.ubuntu.com/ubuntu artful/main amd64 libxcb-shm0 amd64 1.12-1ubuntu1 [5,482 B]\n",
            "Get:12 http://archive.ubuntu.com/ubuntu artful/main amd64 libcairo2 amd64 1.14.10-1ubuntu1 [558 kB]\n",
            "Get:13 http://archive.ubuntu.com/ubuntu artful/main amd64 libltdl7 amd64 2.4.6-2 [38.8 kB]\n",
            "Get:14 http://archive.ubuntu.com/ubuntu artful/main amd64 libthai-data all 0.1.26-3 [132 kB]\n",
            "Get:15 http://archive.ubuntu.com/ubuntu artful/main amd64 libdatrie1 amd64 0.2.10-5 [17.6 kB]\n",
            "Get:16 http://archive.ubuntu.com/ubuntu artful/main amd64 libthai0 amd64 0.1.26-3 [17.7 kB]\n",
            "Get:17 http://archive.ubuntu.com/ubuntu artful/main amd64 libpango-1.0-0 amd64 1.40.12-1 [152 kB]\n",
            "Get:18 http://archive.ubuntu.com/ubuntu artful/main amd64 libgraphite2-3 amd64 1.3.10-2 [78.3 kB]\n",
            "Get:19 http://archive.ubuntu.com/ubuntu artful/main amd64 libharfbuzz0b amd64 1.4.2-1 [211 kB]\n",
            "Get:20 http://archive.ubuntu.com/ubuntu artful/main amd64 libpangoft2-1.0-0 amd64 1.40.12-1 [33.2 kB]\n",
            "Get:21 http://archive.ubuntu.com/ubuntu artful/main amd64 libpangocairo-1.0-0 amd64 1.40.12-1 [20.8 kB]\n",
            "Get:22 http://archive.ubuntu.com/ubuntu artful/main amd64 libpathplan4 amd64 2.38.0-16ubuntu2 [22.6 kB]\n",
            "Get:23 http://archive.ubuntu.com/ubuntu artful/main amd64 libgvc6 amd64 2.38.0-16ubuntu2 [587 kB]\n",
            "Get:24 http://archive.ubuntu.com/ubuntu artful/main amd64 libgvpr2 amd64 2.38.0-16ubuntu2 [167 kB]\n",
            "Get:25 http://archive.ubuntu.com/ubuntu artful/main amd64 libxt6 amd64 1:1.1.5-1 [160 kB]\n",
            "Get:26 http://archive.ubuntu.com/ubuntu artful/main amd64 libxmu6 amd64 2:1.1.2-2 [46.0 kB]\n",
            "Get:27 http://archive.ubuntu.com/ubuntu artful/main amd64 libxaw7 amd64 2:1.0.13-1 [173 kB]\n",
            "Get:28 http://archive.ubuntu.com/ubuntu artful/main amd64 graphviz amd64 2.38.0-16ubuntu2 [710 kB]\n",
            "Fetched 4,122 kB in 1s (3,399 kB/s)\n",
            "Selecting previously unselected package fontconfig.\n",
            "(Reading database ... 18396 files and directories currently installed.)\n",
            "Preparing to unpack .../00-fontconfig_2.11.94-0ubuntu2_amd64.deb ...\n",
            "Unpacking fontconfig (2.11.94-0ubuntu2) ...\n",
            "Selecting previously unselected package libjbig0:amd64.\n",
            "Preparing to unpack .../01-libjbig0_2.1-3.1_amd64.deb ...\n",
            "Unpacking libjbig0:amd64 (2.1-3.1) ...\n",
            "Selecting previously unselected package libcdt5.\n",
            "Preparing to unpack .../02-libcdt5_2.38.0-16ubuntu2_amd64.deb ...\n",
            "Unpacking libcdt5 (2.38.0-16ubuntu2) ...\n",
            "Selecting previously unselected package libcgraph6.\n",
            "Preparing to unpack .../03-libcgraph6_2.38.0-16ubuntu2_amd64.deb ...\n",
            "Unpacking libcgraph6 (2.38.0-16ubuntu2) ...\n",
            "Selecting previously unselected package libtiff5:amd64.\n",
            "Preparing to unpack .../04-libtiff5_4.0.8-5ubuntu0.1_amd64.deb ...\n",
            "Unpacking libtiff5:amd64 (4.0.8-5ubuntu0.1) ...\n",
            "Selecting previously unselected package libwebp6:amd64.\n",
            "Preparing to unpack .../05-libwebp6_0.6.0-3_amd64.deb ...\n",
            "Unpacking libwebp6:amd64 (0.6.0-3) ...\n",
            "Selecting previously unselected package libxpm4:amd64.\n",
            "Preparing to unpack .../06-libxpm4_1%3a3.5.12-1_amd64.deb ...\n",
            "Unpacking libxpm4:amd64 (1:3.5.12-1) ...\n",
            "Selecting previously unselected package libgd3:amd64.\n",
            "Preparing to unpack .../07-libgd3_2.2.5-3_amd64.deb ...\n",
            "Unpacking libgd3:amd64 (2.2.5-3) ...\n",
            "Selecting previously unselected package libpixman-1-0:amd64.\n",
            "Preparing to unpack .../08-libpixman-1-0_0.34.0-1_amd64.deb ...\n",
            "Unpacking libpixman-1-0:amd64 (0.34.0-1) ...\n",
            "Selecting previously unselected package libxcb-render0:amd64.\n",
            "Preparing to unpack .../09-libxcb-render0_1.12-1ubuntu1_amd64.deb ...\n",
            "Unpacking libxcb-render0:amd64 (1.12-1ubuntu1) ...\n",
            "Selecting previously unselected package libxcb-shm0:amd64.\n",
            "Preparing to unpack .../10-libxcb-shm0_1.12-1ubuntu1_amd64.deb ...\n",
            "Unpacking libxcb-shm0:amd64 (1.12-1ubuntu1) ...\n"
          ],
          "name": "stdout"
        },
        {
          "output_type": "stream",
          "text": [
            "Selecting previously unselected package libcairo2:amd64.\r\n",
            "Preparing to unpack .../11-libcairo2_1.14.10-1ubuntu1_amd64.deb ...\r\n",
            "Unpacking libcairo2:amd64 (1.14.10-1ubuntu1) ...\n",
            "Selecting previously unselected package libltdl7:amd64.\n",
            "Preparing to unpack .../12-libltdl7_2.4.6-2_amd64.deb ...\n",
            "Unpacking libltdl7:amd64 (2.4.6-2) ...\n",
            "Selecting previously unselected package libthai-data.\n",
            "Preparing to unpack .../13-libthai-data_0.1.26-3_all.deb ...\n",
            "Unpacking libthai-data (0.1.26-3) ...\n",
            "Selecting previously unselected package libdatrie1:amd64.\n",
            "Preparing to unpack .../14-libdatrie1_0.2.10-5_amd64.deb ...\n",
            "Unpacking libdatrie1:amd64 (0.2.10-5) ...\n",
            "Selecting previously unselected package libthai0:amd64.\n",
            "Preparing to unpack .../15-libthai0_0.1.26-3_amd64.deb ...\n",
            "Unpacking libthai0:amd64 (0.1.26-3) ...\n",
            "Selecting previously unselected package libpango-1.0-0:amd64.\n",
            "Preparing to unpack .../16-libpango-1.0-0_1.40.12-1_amd64.deb ...\n",
            "Unpacking libpango-1.0-0:amd64 (1.40.12-1) ...\n",
            "Selecting previously unselected package libgraphite2-3:amd64.\n",
            "Preparing to unpack .../17-libgraphite2-3_1.3.10-2_amd64.deb ...\n",
            "Unpacking libgraphite2-3:amd64 (1.3.10-2) ...\n",
            "Selecting previously unselected package libharfbuzz0b:amd64.\n",
            "Preparing to unpack .../18-libharfbuzz0b_1.4.2-1_amd64.deb ...\n",
            "Unpacking libharfbuzz0b:amd64 (1.4.2-1) ...\n",
            "Selecting previously unselected package libpangoft2-1.0-0:amd64.\n",
            "Preparing to unpack .../19-libpangoft2-1.0-0_1.40.12-1_amd64.deb ...\n",
            "Unpacking libpangoft2-1.0-0:amd64 (1.40.12-1) ...\n",
            "Selecting previously unselected package libpangocairo-1.0-0:amd64.\n",
            "Preparing to unpack .../20-libpangocairo-1.0-0_1.40.12-1_amd64.deb ...\n",
            "Unpacking libpangocairo-1.0-0:amd64 (1.40.12-1) ...\n",
            "Selecting previously unselected package libpathplan4.\n",
            "Preparing to unpack .../21-libpathplan4_2.38.0-16ubuntu2_amd64.deb ...\n",
            "Unpacking libpathplan4 (2.38.0-16ubuntu2) ...\n",
            "Selecting previously unselected package libgvc6.\n",
            "Preparing to unpack .../22-libgvc6_2.38.0-16ubuntu2_amd64.deb ...\n",
            "Unpacking libgvc6 (2.38.0-16ubuntu2) ...\n",
            "Selecting previously unselected package libgvpr2.\n",
            "Preparing to unpack .../23-libgvpr2_2.38.0-16ubuntu2_amd64.deb ...\n",
            "Unpacking libgvpr2 (2.38.0-16ubuntu2) ...\n",
            "Selecting previously unselected package libxt6:amd64.\n",
            "Preparing to unpack .../24-libxt6_1%3a1.1.5-1_amd64.deb ...\n",
            "Unpacking libxt6:amd64 (1:1.1.5-1) ...\n",
            "Selecting previously unselected package libxmu6:amd64.\n",
            "Preparing to unpack .../25-libxmu6_2%3a1.1.2-2_amd64.deb ...\n",
            "Unpacking libxmu6:amd64 (2:1.1.2-2) ...\n",
            "Selecting previously unselected package libxaw7:amd64.\n",
            "Preparing to unpack .../26-libxaw7_2%3a1.0.13-1_amd64.deb ...\n",
            "Unpacking libxaw7:amd64 (2:1.0.13-1) ...\n",
            "Selecting previously unselected package graphviz.\n",
            "Preparing to unpack .../27-graphviz_2.38.0-16ubuntu2_amd64.deb ...\n",
            "Unpacking graphviz (2.38.0-16ubuntu2) ...\n",
            "Setting up libpathplan4 (2.38.0-16ubuntu2) ...\n",
            "Setting up libxcb-render0:amd64 (1.12-1ubuntu1) ...\n",
            "Setting up libjbig0:amd64 (2.1-3.1) ...\n",
            "Setting up libdatrie1:amd64 (0.2.10-5) ...\n",
            "Setting up libtiff5:amd64 (4.0.8-5ubuntu0.1) ...\n",
            "Setting up libgraphite2-3:amd64 (1.3.10-2) ...\n",
            "Setting up libpixman-1-0:amd64 (0.34.0-1) ...\n",
            "Processing triggers for libc-bin (2.26-0ubuntu2.1) ...\n",
            "Setting up libltdl7:amd64 (2.4.6-2) ...\n",
            "Setting up libxcb-shm0:amd64 (1.12-1ubuntu1) ...\n",
            "Setting up libxpm4:amd64 (1:3.5.12-1) ...\n",
            "Setting up libxt6:amd64 (1:1.1.5-1) ...\n",
            "Setting up libthai-data (0.1.26-3) ...\n",
            "Setting up libcdt5 (2.38.0-16ubuntu2) ...\n",
            "Setting up fontconfig (2.11.94-0ubuntu2) ...\n",
            "Regenerating fonts cache... done.\n",
            "Setting up libcgraph6 (2.38.0-16ubuntu2) ...\n",
            "Setting up libwebp6:amd64 (0.6.0-3) ...\n",
            "Setting up libcairo2:amd64 (1.14.10-1ubuntu1) ...\n",
            "Setting up libgvpr2 (2.38.0-16ubuntu2) ...\n",
            "Setting up libgd3:amd64 (2.2.5-3) ...\n",
            "Setting up libharfbuzz0b:amd64 (1.4.2-1) ...\n",
            "Setting up libthai0:amd64 (0.1.26-3) ...\n",
            "Setting up libxmu6:amd64 (2:1.1.2-2) ...\n",
            "Setting up libpango-1.0-0:amd64 (1.40.12-1) ...\n",
            "Setting up libxaw7:amd64 (2:1.0.13-1) ...\n",
            "Setting up libpangoft2-1.0-0:amd64 (1.40.12-1) ...\n",
            "Setting up libpangocairo-1.0-0:amd64 (1.40.12-1) ...\n",
            "Setting up libgvc6 (2.38.0-16ubuntu2) ...\n",
            "Setting up graphviz (2.38.0-16ubuntu2) ...\n",
            "Processing triggers for libc-bin (2.26-0ubuntu2.1) ...\n"
          ],
          "name": "stdout"
        }
      ]
    },
    {
      "metadata": {
        "id": "rz35eT5-SMht",
        "colab_type": "text"
      },
      "cell_type": "markdown",
      "source": [
        "#### Load pima indians diabetes dataset below"
      ]
    },
    {
      "metadata": {
        "id": "Ydh9gmDkMGmu",
        "colab_type": "code",
        "colab": {
          "base_uri": "https://localhost:8080/",
          "height": 204
        },
        "outputId": "59bb04dd-7a0b-429c-f9a7-f8baf33c10c4"
      },
      "cell_type": "code",
      "source": [
        "url = \"https://raw.githubusercontent.com/jbrownlee/Datasets/master/pima-indians-diabetes.data.csv\"\n",
        "names = ['preg', 'plas', 'pres', 'skin', 'test', 'mass', 'pedi', 'age', 'class']\n",
        "pima = pd.read_csv(url)\n",
        "pima.columns = names\n",
        "pima.head()"
      ],
      "execution_count": 6,
      "outputs": [
        {
          "output_type": "execute_result",
          "data": {
            "text/html": [
              "<div>\n",
              "<style scoped>\n",
              "    .dataframe tbody tr th:only-of-type {\n",
              "        vertical-align: middle;\n",
              "    }\n",
              "\n",
              "    .dataframe tbody tr th {\n",
              "        vertical-align: top;\n",
              "    }\n",
              "\n",
              "    .dataframe thead th {\n",
              "        text-align: right;\n",
              "    }\n",
              "</style>\n",
              "<table border=\"1\" class=\"dataframe\">\n",
              "  <thead>\n",
              "    <tr style=\"text-align: right;\">\n",
              "      <th></th>\n",
              "      <th>preg</th>\n",
              "      <th>plas</th>\n",
              "      <th>pres</th>\n",
              "      <th>skin</th>\n",
              "      <th>test</th>\n",
              "      <th>mass</th>\n",
              "      <th>pedi</th>\n",
              "      <th>age</th>\n",
              "      <th>class</th>\n",
              "    </tr>\n",
              "  </thead>\n",
              "  <tbody>\n",
              "    <tr>\n",
              "      <th>0</th>\n",
              "      <td>1</td>\n",
              "      <td>85</td>\n",
              "      <td>66</td>\n",
              "      <td>29</td>\n",
              "      <td>0</td>\n",
              "      <td>26.6</td>\n",
              "      <td>0.351</td>\n",
              "      <td>31</td>\n",
              "      <td>0</td>\n",
              "    </tr>\n",
              "    <tr>\n",
              "      <th>1</th>\n",
              "      <td>8</td>\n",
              "      <td>183</td>\n",
              "      <td>64</td>\n",
              "      <td>0</td>\n",
              "      <td>0</td>\n",
              "      <td>23.3</td>\n",
              "      <td>0.672</td>\n",
              "      <td>32</td>\n",
              "      <td>1</td>\n",
              "    </tr>\n",
              "    <tr>\n",
              "      <th>2</th>\n",
              "      <td>1</td>\n",
              "      <td>89</td>\n",
              "      <td>66</td>\n",
              "      <td>23</td>\n",
              "      <td>94</td>\n",
              "      <td>28.1</td>\n",
              "      <td>0.167</td>\n",
              "      <td>21</td>\n",
              "      <td>0</td>\n",
              "    </tr>\n",
              "    <tr>\n",
              "      <th>3</th>\n",
              "      <td>0</td>\n",
              "      <td>137</td>\n",
              "      <td>40</td>\n",
              "      <td>35</td>\n",
              "      <td>168</td>\n",
              "      <td>43.1</td>\n",
              "      <td>2.288</td>\n",
              "      <td>33</td>\n",
              "      <td>1</td>\n",
              "    </tr>\n",
              "    <tr>\n",
              "      <th>4</th>\n",
              "      <td>5</td>\n",
              "      <td>116</td>\n",
              "      <td>74</td>\n",
              "      <td>0</td>\n",
              "      <td>0</td>\n",
              "      <td>25.6</td>\n",
              "      <td>0.201</td>\n",
              "      <td>30</td>\n",
              "      <td>0</td>\n",
              "    </tr>\n",
              "  </tbody>\n",
              "</table>\n",
              "</div>"
            ],
            "text/plain": [
              "   preg  plas  pres  skin  test  mass   pedi  age  class\n",
              "0     1    85    66    29     0  26.6  0.351   31      0\n",
              "1     8   183    64     0     0  23.3  0.672   32      1\n",
              "2     1    89    66    23    94  28.1  0.167   21      0\n",
              "3     0   137    40    35   168  43.1  2.288   33      1\n",
              "4     5   116    74     0     0  25.6  0.201   30      0"
            ]
          },
          "metadata": {
            "tags": []
          },
          "execution_count": 6
        }
      ]
    },
    {
      "metadata": {
        "id": "KAFhsJIsSpMR",
        "colab_type": "text"
      },
      "cell_type": "markdown",
      "source": [
        "#### create training and testing dataset with sklearn function: train_test_split"
      ]
    },
    {
      "metadata": {
        "id": "fHbA28aFS2DM",
        "colab_type": "code",
        "colab": {
          "base_uri": "https://localhost:8080/",
          "height": 17
        },
        "outputId": "811dafb3-f46b-4c65-ec6b-7b4d6b844ac3"
      },
      "cell_type": "code",
      "source": [
        "X = pima.loc[:,\"preg\":\"age\"]\n",
        "y = pima.loc[:,\"class\"]\n",
        "X_train, X_test, y_train, y_test = train_test_split(X, y, test_size=0.25, random_state=0)"
      ],
      "execution_count": 7,
      "outputs": []
    },
    {
      "metadata": {
        "id": "4_8DZinWTJRa",
        "colab_type": "text"
      },
      "cell_type": "markdown",
      "source": [
        "#### Create a model with sklearn's DecisionTreeClassifier and predict values on your test set"
      ]
    },
    {
      "metadata": {
        "id": "EgByCP_EhyB2",
        "colab_type": "code",
        "colab": {
          "base_uri": "https://localhost:8080/",
          "height": 119
        },
        "outputId": "f2dc592f-1279-4b80-b586-e0a440ee8f42"
      },
      "cell_type": "code",
      "source": [
        "clf_gini = DecisionTreeClassifier(criterion=\"gini\", random_state=0, max_depth=7, min_samples_leaf=1)\n",
        "clf_gini.fit(X_train, y_train)\n",
        "\n",
        "clf_entropy = DecisionTreeClassifier(criterion=\"entropy\", random_state=0, max_depth=5, min_samples_leaf=3)\n",
        "clf_entropy.fit(X_train, y_train)"
      ],
      "execution_count": 36,
      "outputs": [
        {
          "output_type": "execute_result",
          "data": {
            "text/plain": [
              "DecisionTreeClassifier(class_weight=None, criterion='entropy', max_depth=5,\n",
              "            max_features=None, max_leaf_nodes=None,\n",
              "            min_impurity_decrease=0.0, min_impurity_split=None,\n",
              "            min_samples_leaf=3, min_samples_split=2,\n",
              "            min_weight_fraction_leaf=0.0, presort=False, random_state=0,\n",
              "            splitter='best')"
            ]
          },
          "metadata": {
            "tags": []
          },
          "execution_count": 36
        }
      ]
    },
    {
      "metadata": {
        "id": "6HNa6fxbT6ak",
        "colab_type": "text"
      },
      "cell_type": "markdown",
      "source": [
        "#### Print the accuracy on the test data, play with the parameters and try to improve the accuracy\n",
        "hint: there is an sklearn to calculate accuracy"
      ]
    },
    {
      "metadata": {
        "id": "6Pbu-t_tiqnB",
        "colab_type": "code",
        "colab": {
          "base_uri": "https://localhost:8080/",
          "height": 34
        },
        "outputId": "2a283b7d-e089-447b-88c3-75e83efb0fd3"
      },
      "cell_type": "code",
      "source": [
        "y_pred_gini = clf_gini.predict(X_test)\n",
        "y_pred_entropy = clf_entropy.predict(X_test)\n",
        "\n",
        "acc_gini = accuracy_score(y_test, y_pred_gini)\n",
        "acc_entropy = accuracy_score(y_test, y_pred_entropy)\n",
        "\n",
        "print(str(acc_gini) + \" \" + str(acc_entropy))"
      ],
      "execution_count": 37,
      "outputs": [
        {
          "output_type": "stream",
          "text": [
            "0.7552083333333334 0.7239583333333334\n"
          ],
          "name": "stdout"
        }
      ]
    },
    {
      "metadata": {
        "id": "tKdqOMBKUvGZ",
        "colab_type": "text"
      },
      "cell_type": "markdown",
      "source": [
        "#### Use graphviz to view the decision tree graph\n",
        "##### hint: want to look at a code example, see the Classification Evaluation notebook on github"
      ]
    },
    {
      "metadata": {
        "id": "8o55bY_jl8gj",
        "colab_type": "code",
        "colab": {
          "base_uri": "https://localhost:8080/",
          "height": 1093
        },
        "outputId": "4a44ded7-bbd5-4290-bb56-3e70889d251f"
      },
      "cell_type": "code",
      "source": [
        "graph1 = graphviz.Source(tree.export_graphviz(clf_gini, out_file=None))\n",
        "graph1"
      ],
      "execution_count": 46,
      "outputs": [
        {
          "output_type": "execute_result",
          "data": {
            "text/plain": [
              "<graphviz.files.Source at 0x7f84c3283898>"
            ],
            "image/svg+xml": "<?xml version=\"1.0\" encoding=\"UTF-8\" standalone=\"no\"?>\n<!DOCTYPE svg PUBLIC \"-//W3C//DTD SVG 1.1//EN\"\n \"http://www.w3.org/Graphics/SVG/1.1/DTD/svg11.dtd\">\n<!-- Generated by graphviz version 2.38.0 (20140413.2041)\n -->\n<!-- Title: Tree Pages: 1 -->\n<svg width=\"3764pt\" height=\"789pt\"\n viewBox=\"0.00 0.00 3764.00 789.00\" xmlns=\"http://www.w3.org/2000/svg\" xmlns:xlink=\"http://www.w3.org/1999/xlink\">\n<g id=\"graph0\" class=\"graph\" transform=\"scale(1 1) rotate(0) translate(4 785)\">\n<title>Tree</title>\n<polygon fill=\"white\" stroke=\"none\" points=\"-4,4 -4,-785 3760,-785 3760,4 -4,4\"/>\n<!-- 0 -->\n<g id=\"node1\" class=\"node\"><title>0</title>\n<polygon fill=\"none\" stroke=\"black\" points=\"1596,-781 1447,-781 1447,-713 1596,-713 1596,-781\"/>\n<text text-anchor=\"middle\" x=\"1521.5\" y=\"-765.8\" font-family=\"Times,serif\" font-size=\"14.00\">X[1] &lt;= 127.5</text>\n<text text-anchor=\"middle\" x=\"1521.5\" y=\"-750.8\" font-family=\"Times,serif\" font-size=\"14.00\">gini = 0.46</text>\n<text text-anchor=\"middle\" x=\"1521.5\" y=\"-735.8\" font-family=\"Times,serif\" font-size=\"14.00\">samples = 575</text>\n<text text-anchor=\"middle\" x=\"1521.5\" y=\"-720.8\" font-family=\"Times,serif\" font-size=\"14.00\">value = [369, 206]</text>\n</g>\n<!-- 1 -->\n<g id=\"node2\" class=\"node\"><title>1</title>\n<polygon fill=\"none\" stroke=\"black\" points=\"1054.5,-677 914.5,-677 914.5,-609 1054.5,-609 1054.5,-677\"/>\n<text text-anchor=\"middle\" x=\"984.5\" y=\"-661.8\" font-family=\"Times,serif\" font-size=\"14.00\">X[5] &lt;= 27.35</text>\n<text text-anchor=\"middle\" x=\"984.5\" y=\"-646.8\" font-family=\"Times,serif\" font-size=\"14.00\">gini = 0.31</text>\n<text text-anchor=\"middle\" x=\"984.5\" y=\"-631.8\" font-family=\"Times,serif\" font-size=\"14.00\">samples = 354</text>\n<text text-anchor=\"middle\" x=\"984.5\" y=\"-616.8\" font-family=\"Times,serif\" font-size=\"14.00\">value = [286, 68]</text>\n</g>\n<!-- 0&#45;&gt;1 -->\n<g id=\"edge1\" class=\"edge\"><title>0&#45;&gt;1</title>\n<path fill=\"none\" stroke=\"black\" d=\"M1446.83,-731.817C1346.29,-712.72 1168.1,-678.873 1064.76,-659.246\"/>\n<polygon fill=\"black\" stroke=\"black\" points=\"1065.17,-655.761 1054.69,-657.333 1063.87,-662.638 1065.17,-655.761\"/>\n<text text-anchor=\"middle\" x=\"1068.76\" y=\"-674.299\" font-family=\"Times,serif\" font-size=\"14.00\">True</text>\n</g>\n<!-- 40 -->\n<g id=\"node41\" class=\"node\"><title>40</title>\n<polygon fill=\"none\" stroke=\"black\" points=\"2154.5,-677 2014.5,-677 2014.5,-609 2154.5,-609 2154.5,-677\"/>\n<text text-anchor=\"middle\" x=\"2084.5\" y=\"-661.8\" font-family=\"Times,serif\" font-size=\"14.00\">X[5] &lt;= 29.95</text>\n<text text-anchor=\"middle\" x=\"2084.5\" y=\"-646.8\" font-family=\"Times,serif\" font-size=\"14.00\">gini = 0.469</text>\n<text text-anchor=\"middle\" x=\"2084.5\" y=\"-631.8\" font-family=\"Times,serif\" font-size=\"14.00\">samples = 221</text>\n<text text-anchor=\"middle\" x=\"2084.5\" y=\"-616.8\" font-family=\"Times,serif\" font-size=\"14.00\">value = [83, 138]</text>\n</g>\n<!-- 0&#45;&gt;40 -->\n<g id=\"edge40\" class=\"edge\"><title>0&#45;&gt;40</title>\n<path fill=\"none\" stroke=\"black\" d=\"M1596.26,-732.455C1702.28,-713.248 1895.49,-678.244 2004.36,-658.519\"/>\n<polygon fill=\"black\" stroke=\"black\" points=\"2005.09,-661.943 2014.31,-656.717 2003.84,-655.056 2005.09,-661.943\"/>\n<text text-anchor=\"middle\" x=\"2000.07\" y=\"-673.563\" font-family=\"Times,serif\" font-size=\"14.00\">False</text>\n</g>\n<!-- 2 -->\n<g id=\"node3\" class=\"node\"><title>2</title>\n<polygon fill=\"none\" stroke=\"black\" points=\"645,-573 514,-573 514,-505 645,-505 645,-573\"/>\n<text text-anchor=\"middle\" x=\"579.5\" y=\"-557.8\" font-family=\"Times,serif\" font-size=\"14.00\">X[0] &lt;= 6.5</text>\n<text text-anchor=\"middle\" x=\"579.5\" y=\"-542.8\" font-family=\"Times,serif\" font-size=\"14.00\">gini = 0.037</text>\n<text text-anchor=\"middle\" x=\"579.5\" y=\"-527.8\" font-family=\"Times,serif\" font-size=\"14.00\">samples = 107</text>\n<text text-anchor=\"middle\" x=\"579.5\" y=\"-512.8\" font-family=\"Times,serif\" font-size=\"14.00\">value = [105, 2]</text>\n</g>\n<!-- 1&#45;&gt;2 -->\n<g id=\"edge2\" class=\"edge\"><title>1&#45;&gt;2</title>\n<path fill=\"none\" stroke=\"black\" d=\"M914.417,-624.349C841.94,-606.096 729.165,-577.693 654.817,-558.969\"/>\n<polygon fill=\"black\" stroke=\"black\" points=\"655.595,-555.555 645.043,-556.507 653.885,-562.343 655.595,-555.555\"/>\n</g>\n<!-- 7 -->\n<g id=\"node8\" class=\"node\"><title>7</title>\n<polygon fill=\"none\" stroke=\"black\" points=\"1054.5,-573 914.5,-573 914.5,-505 1054.5,-505 1054.5,-573\"/>\n<text text-anchor=\"middle\" x=\"984.5\" y=\"-557.8\" font-family=\"Times,serif\" font-size=\"14.00\">X[7] &lt;= 30.5</text>\n<text text-anchor=\"middle\" x=\"984.5\" y=\"-542.8\" font-family=\"Times,serif\" font-size=\"14.00\">gini = 0.392</text>\n<text text-anchor=\"middle\" x=\"984.5\" y=\"-527.8\" font-family=\"Times,serif\" font-size=\"14.00\">samples = 247</text>\n<text text-anchor=\"middle\" x=\"984.5\" y=\"-512.8\" font-family=\"Times,serif\" font-size=\"14.00\">value = [181, 66]</text>\n</g>\n<!-- 1&#45;&gt;7 -->\n<g id=\"edge7\" class=\"edge\"><title>1&#45;&gt;7</title>\n<path fill=\"none\" stroke=\"black\" d=\"M984.5,-608.884C984.5,-600.778 984.5,-591.982 984.5,-583.472\"/>\n<polygon fill=\"black\" stroke=\"black\" points=\"988,-583.299 984.5,-573.299 981,-583.299 988,-583.299\"/>\n</g>\n<!-- 3 -->\n<g id=\"node4\" class=\"node\"><title>3</title>\n<polygon fill=\"none\" stroke=\"black\" points=\"500.5,-461.5 378.5,-461.5 378.5,-408.5 500.5,-408.5 500.5,-461.5\"/>\n<text text-anchor=\"middle\" x=\"439.5\" y=\"-446.3\" font-family=\"Times,serif\" font-size=\"14.00\">gini = 0.0</text>\n<text text-anchor=\"middle\" x=\"439.5\" y=\"-431.3\" font-family=\"Times,serif\" font-size=\"14.00\">samples = 90</text>\n<text text-anchor=\"middle\" x=\"439.5\" y=\"-416.3\" font-family=\"Times,serif\" font-size=\"14.00\">value = [90, 0]</text>\n</g>\n<!-- 2&#45;&gt;3 -->\n<g id=\"edge3\" class=\"edge\"><title>2&#45;&gt;3</title>\n<path fill=\"none\" stroke=\"black\" d=\"M534.046,-504.884C517.592,-492.896 499.067,-479.399 482.803,-467.549\"/>\n<polygon fill=\"black\" stroke=\"black\" points=\"484.671,-464.58 474.527,-461.52 480.549,-470.237 484.671,-464.58\"/>\n</g>\n<!-- 4 -->\n<g id=\"node5\" class=\"node\"><title>4</title>\n<polygon fill=\"none\" stroke=\"black\" points=\"640.5,-469 518.5,-469 518.5,-401 640.5,-401 640.5,-469\"/>\n<text text-anchor=\"middle\" x=\"579.5\" y=\"-453.8\" font-family=\"Times,serif\" font-size=\"14.00\">X[7] &lt;= 30.5</text>\n<text text-anchor=\"middle\" x=\"579.5\" y=\"-438.8\" font-family=\"Times,serif\" font-size=\"14.00\">gini = 0.208</text>\n<text text-anchor=\"middle\" x=\"579.5\" y=\"-423.8\" font-family=\"Times,serif\" font-size=\"14.00\">samples = 17</text>\n<text text-anchor=\"middle\" x=\"579.5\" y=\"-408.8\" font-family=\"Times,serif\" font-size=\"14.00\">value = [15, 2]</text>\n</g>\n<!-- 2&#45;&gt;4 -->\n<g id=\"edge4\" class=\"edge\"><title>2&#45;&gt;4</title>\n<path fill=\"none\" stroke=\"black\" d=\"M579.5,-504.884C579.5,-496.778 579.5,-487.982 579.5,-479.472\"/>\n<polygon fill=\"black\" stroke=\"black\" points=\"583,-479.299 579.5,-469.299 576,-479.299 583,-479.299\"/>\n</g>\n<!-- 5 -->\n<g id=\"node6\" class=\"node\"><title>5</title>\n<polygon fill=\"none\" stroke=\"black\" points=\"500,-357.5 387,-357.5 387,-304.5 500,-304.5 500,-357.5\"/>\n<text text-anchor=\"middle\" x=\"443.5\" y=\"-342.3\" font-family=\"Times,serif\" font-size=\"14.00\">gini = 0.0</text>\n<text text-anchor=\"middle\" x=\"443.5\" y=\"-327.3\" font-family=\"Times,serif\" font-size=\"14.00\">samples = 2</text>\n<text text-anchor=\"middle\" x=\"443.5\" y=\"-312.3\" font-family=\"Times,serif\" font-size=\"14.00\">value = [0, 2]</text>\n</g>\n<!-- 4&#45;&gt;5 -->\n<g id=\"edge5\" class=\"edge\"><title>4&#45;&gt;5</title>\n<path fill=\"none\" stroke=\"black\" d=\"M535.345,-400.884C519.361,-388.896 501.365,-375.399 485.566,-363.549\"/>\n<polygon fill=\"black\" stroke=\"black\" points=\"487.627,-360.72 477.527,-357.52 483.427,-366.32 487.627,-360.72\"/>\n</g>\n<!-- 6 -->\n<g id=\"node7\" class=\"node\"><title>6</title>\n<polygon fill=\"none\" stroke=\"black\" points=\"640.5,-357.5 518.5,-357.5 518.5,-304.5 640.5,-304.5 640.5,-357.5\"/>\n<text text-anchor=\"middle\" x=\"579.5\" y=\"-342.3\" font-family=\"Times,serif\" font-size=\"14.00\">gini = 0.0</text>\n<text text-anchor=\"middle\" x=\"579.5\" y=\"-327.3\" font-family=\"Times,serif\" font-size=\"14.00\">samples = 15</text>\n<text text-anchor=\"middle\" x=\"579.5\" y=\"-312.3\" font-family=\"Times,serif\" font-size=\"14.00\">value = [15, 0]</text>\n</g>\n<!-- 4&#45;&gt;6 -->\n<g id=\"edge6\" class=\"edge\"><title>4&#45;&gt;6</title>\n<path fill=\"none\" stroke=\"black\" d=\"M579.5,-400.884C579.5,-390.326 579.5,-378.597 579.5,-367.854\"/>\n<polygon fill=\"black\" stroke=\"black\" points=\"583,-367.52 579.5,-357.52 576,-367.52 583,-367.52\"/>\n</g>\n<!-- 8 -->\n<g id=\"node9\" class=\"node\"><title>8</title>\n<polygon fill=\"none\" stroke=\"black\" points=\"970.5,-469 830.5,-469 830.5,-401 970.5,-401 970.5,-469\"/>\n<text text-anchor=\"middle\" x=\"900.5\" y=\"-453.8\" font-family=\"Times,serif\" font-size=\"14.00\">X[5] &lt;= 45.4</text>\n<text text-anchor=\"middle\" x=\"900.5\" y=\"-438.8\" font-family=\"Times,serif\" font-size=\"14.00\">gini = 0.262</text>\n<text text-anchor=\"middle\" x=\"900.5\" y=\"-423.8\" font-family=\"Times,serif\" font-size=\"14.00\">samples = 142</text>\n<text text-anchor=\"middle\" x=\"900.5\" y=\"-408.8\" font-family=\"Times,serif\" font-size=\"14.00\">value = [120, 22]</text>\n</g>\n<!-- 7&#45;&gt;8 -->\n<g id=\"edge8\" class=\"edge\"><title>7&#45;&gt;8</title>\n<path fill=\"none\" stroke=\"black\" d=\"M957.228,-504.884C949.965,-496.065 942.031,-486.43 934.458,-477.235\"/>\n<polygon fill=\"black\" stroke=\"black\" points=\"936.982,-474.794 927.923,-469.299 931.578,-479.244 936.982,-474.794\"/>\n</g>\n<!-- 23 -->\n<g id=\"node24\" class=\"node\"><title>23</title>\n<polygon fill=\"none\" stroke=\"black\" points=\"1133,-469 1002,-469 1002,-401 1133,-401 1133,-469\"/>\n<text text-anchor=\"middle\" x=\"1067.5\" y=\"-453.8\" font-family=\"Times,serif\" font-size=\"14.00\">X[1] &lt;= 96.5</text>\n<text text-anchor=\"middle\" x=\"1067.5\" y=\"-438.8\" font-family=\"Times,serif\" font-size=\"14.00\">gini = 0.487</text>\n<text text-anchor=\"middle\" x=\"1067.5\" y=\"-423.8\" font-family=\"Times,serif\" font-size=\"14.00\">samples = 105</text>\n<text text-anchor=\"middle\" x=\"1067.5\" y=\"-408.8\" font-family=\"Times,serif\" font-size=\"14.00\">value = [61, 44]</text>\n</g>\n<!-- 7&#45;&gt;23 -->\n<g id=\"edge23\" class=\"edge\"><title>7&#45;&gt;23</title>\n<path fill=\"none\" stroke=\"black\" d=\"M1011.45,-504.884C1018.62,-496.065 1026.46,-486.43 1033.95,-477.235\"/>\n<polygon fill=\"black\" stroke=\"black\" points=\"1036.81,-479.265 1040.4,-469.299 1031.38,-474.847 1036.81,-479.265\"/>\n</g>\n<!-- 9 -->\n<g id=\"node10\" class=\"node\"><title>9</title>\n<polygon fill=\"none\" stroke=\"black\" points=\"798.5,-365 658.5,-365 658.5,-297 798.5,-297 798.5,-365\"/>\n<text text-anchor=\"middle\" x=\"728.5\" y=\"-349.8\" font-family=\"Times,serif\" font-size=\"14.00\">X[6] &lt;= 0.664</text>\n<text text-anchor=\"middle\" x=\"728.5\" y=\"-334.8\" font-family=\"Times,serif\" font-size=\"14.00\">gini = 0.245</text>\n<text text-anchor=\"middle\" x=\"728.5\" y=\"-319.8\" font-family=\"Times,serif\" font-size=\"14.00\">samples = 140</text>\n<text text-anchor=\"middle\" x=\"728.5\" y=\"-304.8\" font-family=\"Times,serif\" font-size=\"14.00\">value = [120, 20]</text>\n</g>\n<!-- 8&#45;&gt;9 -->\n<g id=\"edge9\" class=\"edge\"><title>8&#45;&gt;9</title>\n<path fill=\"none\" stroke=\"black\" d=\"M844.657,-400.884C828.201,-391.125 810.059,-380.366 793.102,-370.31\"/>\n<polygon fill=\"black\" stroke=\"black\" points=\"794.744,-367.215 784.357,-365.125 791.173,-373.236 794.744,-367.215\"/>\n</g>\n<!-- 22 -->\n<g id=\"node23\" class=\"node\"><title>22</title>\n<polygon fill=\"none\" stroke=\"black\" points=\"957,-357.5 844,-357.5 844,-304.5 957,-304.5 957,-357.5\"/>\n<text text-anchor=\"middle\" x=\"900.5\" y=\"-342.3\" font-family=\"Times,serif\" font-size=\"14.00\">gini = 0.0</text>\n<text text-anchor=\"middle\" x=\"900.5\" y=\"-327.3\" font-family=\"Times,serif\" font-size=\"14.00\">samples = 2</text>\n<text text-anchor=\"middle\" x=\"900.5\" y=\"-312.3\" font-family=\"Times,serif\" font-size=\"14.00\">value = [0, 2]</text>\n</g>\n<!-- 8&#45;&gt;22 -->\n<g id=\"edge22\" class=\"edge\"><title>8&#45;&gt;22</title>\n<path fill=\"none\" stroke=\"black\" d=\"M900.5,-400.884C900.5,-390.326 900.5,-378.597 900.5,-367.854\"/>\n<polygon fill=\"black\" stroke=\"black\" points=\"904,-367.52 900.5,-357.52 897,-367.52 904,-367.52\"/>\n</g>\n<!-- 10 -->\n<g id=\"node11\" class=\"node\"><title>10</title>\n<polygon fill=\"none\" stroke=\"black\" points=\"459.5,-261 319.5,-261 319.5,-193 459.5,-193 459.5,-261\"/>\n<text text-anchor=\"middle\" x=\"389.5\" y=\"-245.8\" font-family=\"Times,serif\" font-size=\"14.00\">X[0] &lt;= 7.0</text>\n<text text-anchor=\"middle\" x=\"389.5\" y=\"-230.8\" font-family=\"Times,serif\" font-size=\"14.00\">gini = 0.179</text>\n<text text-anchor=\"middle\" x=\"389.5\" y=\"-215.8\" font-family=\"Times,serif\" font-size=\"14.00\">samples = 111</text>\n<text text-anchor=\"middle\" x=\"389.5\" y=\"-200.8\" font-family=\"Times,serif\" font-size=\"14.00\">value = [100, 11]</text>\n</g>\n<!-- 9&#45;&gt;10 -->\n<g id=\"edge10\" class=\"edge\"><title>9&#45;&gt;10</title>\n<path fill=\"none\" stroke=\"black\" d=\"M658.479,-300.168C655.458,-299.066 652.455,-298.004 649.5,-297 589.992,-276.78 521.199,-258.751 469.327,-246.197\"/>\n<polygon fill=\"black\" stroke=\"black\" points=\"470.057,-242.773 459.516,-243.839 468.421,-249.579 470.057,-242.773\"/>\n</g>\n<!-- 17 -->\n<g id=\"node18\" class=\"node\"><title>17</title>\n<polygon fill=\"none\" stroke=\"black\" points=\"782.5,-261 660.5,-261 660.5,-193 782.5,-193 782.5,-261\"/>\n<text text-anchor=\"middle\" x=\"721.5\" y=\"-245.8\" font-family=\"Times,serif\" font-size=\"14.00\">X[5] &lt;= 32.7</text>\n<text text-anchor=\"middle\" x=\"721.5\" y=\"-230.8\" font-family=\"Times,serif\" font-size=\"14.00\">gini = 0.428</text>\n<text text-anchor=\"middle\" x=\"721.5\" y=\"-215.8\" font-family=\"Times,serif\" font-size=\"14.00\">samples = 29</text>\n<text text-anchor=\"middle\" x=\"721.5\" y=\"-200.8\" font-family=\"Times,serif\" font-size=\"14.00\">value = [20, 9]</text>\n</g>\n<!-- 9&#45;&gt;17 -->\n<g id=\"edge17\" class=\"edge\"><title>9&#45;&gt;17</title>\n<path fill=\"none\" stroke=\"black\" d=\"M726.227,-296.884C725.671,-288.778 725.067,-279.982 724.483,-271.472\"/>\n<polygon fill=\"black\" stroke=\"black\" points=\"727.962,-271.036 723.785,-261.299 720.978,-271.516 727.962,-271.036\"/>\n</g>\n<!-- 11 -->\n<g id=\"node12\" class=\"node\"><title>11</title>\n<polygon fill=\"none\" stroke=\"black\" points=\"254,-157 131,-157 131,-89 254,-89 254,-157\"/>\n<text text-anchor=\"middle\" x=\"192.5\" y=\"-141.8\" font-family=\"Times,serif\" font-size=\"14.00\">X[2] &lt;= 12.0</text>\n<text text-anchor=\"middle\" x=\"192.5\" y=\"-126.8\" font-family=\"Times,serif\" font-size=\"14.00\">gini = 0.153</text>\n<text text-anchor=\"middle\" x=\"192.5\" y=\"-111.8\" font-family=\"Times,serif\" font-size=\"14.00\">samples = 108</text>\n<text text-anchor=\"middle\" x=\"192.5\" y=\"-96.8\" font-family=\"Times,serif\" font-size=\"14.00\">value = [99, 9]</text>\n</g>\n<!-- 10&#45;&gt;11 -->\n<g id=\"edge11\" class=\"edge\"><title>10&#45;&gt;11</title>\n<path fill=\"none\" stroke=\"black\" d=\"M325.54,-192.884C305.575,-182.546 283.443,-171.087 263.052,-160.53\"/>\n<polygon fill=\"black\" stroke=\"black\" points=\"264.617,-157.398 254.127,-155.908 261.398,-163.614 264.617,-157.398\"/>\n</g>\n<!-- 14 -->\n<g id=\"node15\" class=\"node\"><title>14</title>\n<polygon fill=\"none\" stroke=\"black\" points=\"449.5,-157 329.5,-157 329.5,-89 449.5,-89 449.5,-157\"/>\n<text text-anchor=\"middle\" x=\"389.5\" y=\"-141.8\" font-family=\"Times,serif\" font-size=\"14.00\">X[5] &lt;= 32.15</text>\n<text text-anchor=\"middle\" x=\"389.5\" y=\"-126.8\" font-family=\"Times,serif\" font-size=\"14.00\">gini = 0.444</text>\n<text text-anchor=\"middle\" x=\"389.5\" y=\"-111.8\" font-family=\"Times,serif\" font-size=\"14.00\">samples = 3</text>\n<text text-anchor=\"middle\" x=\"389.5\" y=\"-96.8\" font-family=\"Times,serif\" font-size=\"14.00\">value = [1, 2]</text>\n</g>\n<!-- 10&#45;&gt;14 -->\n<g id=\"edge14\" class=\"edge\"><title>10&#45;&gt;14</title>\n<path fill=\"none\" stroke=\"black\" d=\"M389.5,-192.884C389.5,-184.778 389.5,-175.982 389.5,-167.472\"/>\n<polygon fill=\"black\" stroke=\"black\" points=\"393,-167.299 389.5,-157.299 386,-167.299 393,-167.299\"/>\n</g>\n<!-- 12 -->\n<g id=\"node13\" class=\"node\"><title>12</title>\n<polygon fill=\"none\" stroke=\"black\" points=\"113,-53 0,-53 0,-0 113,-0 113,-53\"/>\n<text text-anchor=\"middle\" x=\"56.5\" y=\"-37.8\" font-family=\"Times,serif\" font-size=\"14.00\">gini = 0.0</text>\n<text text-anchor=\"middle\" x=\"56.5\" y=\"-22.8\" font-family=\"Times,serif\" font-size=\"14.00\">samples = 1</text>\n<text text-anchor=\"middle\" x=\"56.5\" y=\"-7.8\" font-family=\"Times,serif\" font-size=\"14.00\">value = [0, 1]</text>\n</g>\n<!-- 11&#45;&gt;12 -->\n<g id=\"edge12\" class=\"edge\"><title>11&#45;&gt;12</title>\n<path fill=\"none\" stroke=\"black\" d=\"M144.934,-88.9485C130.978,-79.2516 115.757,-68.6752 101.938,-59.073\"/>\n<polygon fill=\"black\" stroke=\"black\" points=\"103.748,-56.0687 93.5391,-53.2367 99.754,-61.8172 103.748,-56.0687\"/>\n</g>\n<!-- 13 -->\n<g id=\"node14\" class=\"node\"><title>13</title>\n<polygon fill=\"none\" stroke=\"black\" points=\"254,-53 131,-53 131,-0 254,-0 254,-53\"/>\n<text text-anchor=\"middle\" x=\"192.5\" y=\"-37.8\" font-family=\"Times,serif\" font-size=\"14.00\">gini = 0.138</text>\n<text text-anchor=\"middle\" x=\"192.5\" y=\"-22.8\" font-family=\"Times,serif\" font-size=\"14.00\">samples = 107</text>\n<text text-anchor=\"middle\" x=\"192.5\" y=\"-7.8\" font-family=\"Times,serif\" font-size=\"14.00\">value = [99, 8]</text>\n</g>\n<!-- 11&#45;&gt;13 -->\n<g id=\"edge13\" class=\"edge\"><title>11&#45;&gt;13</title>\n<path fill=\"none\" stroke=\"black\" d=\"M192.5,-88.9485C192.5,-80.7153 192.5,-71.848 192.5,-63.4814\"/>\n<polygon fill=\"black\" stroke=\"black\" points=\"196,-63.2367 192.5,-53.2367 189,-63.2367 196,-63.2367\"/>\n</g>\n<!-- 15 -->\n<g id=\"node16\" class=\"node\"><title>15</title>\n<polygon fill=\"none\" stroke=\"black\" points=\"385,-53 272,-53 272,-0 385,-0 385,-53\"/>\n<text text-anchor=\"middle\" x=\"328.5\" y=\"-37.8\" font-family=\"Times,serif\" font-size=\"14.00\">gini = 0.0</text>\n<text text-anchor=\"middle\" x=\"328.5\" y=\"-22.8\" font-family=\"Times,serif\" font-size=\"14.00\">samples = 2</text>\n<text text-anchor=\"middle\" x=\"328.5\" y=\"-7.8\" font-family=\"Times,serif\" font-size=\"14.00\">value = [0, 2]</text>\n</g>\n<!-- 14&#45;&gt;15 -->\n<g id=\"edge15\" class=\"edge\"><title>14&#45;&gt;15</title>\n<path fill=\"none\" stroke=\"black\" d=\"M368.165,-88.9485C362.496,-80.1664 356.362,-70.6629 350.65,-61.815\"/>\n<polygon fill=\"black\" stroke=\"black\" points=\"353.477,-59.7402 345.113,-53.2367 347.596,-63.5365 353.477,-59.7402\"/>\n</g>\n<!-- 16 -->\n<g id=\"node17\" class=\"node\"><title>16</title>\n<polygon fill=\"none\" stroke=\"black\" points=\"516,-53 403,-53 403,-0 516,-0 516,-53\"/>\n<text text-anchor=\"middle\" x=\"459.5\" y=\"-37.8\" font-family=\"Times,serif\" font-size=\"14.00\">gini = 0.0</text>\n<text text-anchor=\"middle\" x=\"459.5\" y=\"-22.8\" font-family=\"Times,serif\" font-size=\"14.00\">samples = 1</text>\n<text text-anchor=\"middle\" x=\"459.5\" y=\"-7.8\" font-family=\"Times,serif\" font-size=\"14.00\">value = [1, 0]</text>\n</g>\n<!-- 14&#45;&gt;16 -->\n<g id=\"edge16\" class=\"edge\"><title>14&#45;&gt;16</title>\n<path fill=\"none\" stroke=\"black\" d=\"M413.983,-88.9485C420.556,-80.0749 427.674,-70.4648 434.286,-61.5388\"/>\n<polygon fill=\"black\" stroke=\"black\" points=\"437.296,-63.3556 440.436,-53.2367 431.671,-59.189 437.296,-63.3556\"/>\n</g>\n<!-- 18 -->\n<g id=\"node19\" class=\"node\"><title>18</title>\n<polygon fill=\"none\" stroke=\"black\" points=\"646.5,-149.5 524.5,-149.5 524.5,-96.5 646.5,-96.5 646.5,-149.5\"/>\n<text text-anchor=\"middle\" x=\"585.5\" y=\"-134.3\" font-family=\"Times,serif\" font-size=\"14.00\">gini = 0.0</text>\n<text text-anchor=\"middle\" x=\"585.5\" y=\"-119.3\" font-family=\"Times,serif\" font-size=\"14.00\">samples = 13</text>\n<text text-anchor=\"middle\" x=\"585.5\" y=\"-104.3\" font-family=\"Times,serif\" font-size=\"14.00\">value = [13, 0]</text>\n</g>\n<!-- 17&#45;&gt;18 -->\n<g id=\"edge18\" class=\"edge\"><title>17&#45;&gt;18</title>\n<path fill=\"none\" stroke=\"black\" d=\"M677.345,-192.884C661.361,-180.896 643.365,-167.399 627.566,-155.549\"/>\n<polygon fill=\"black\" stroke=\"black\" points=\"629.627,-152.72 619.527,-149.52 625.427,-158.32 629.627,-152.72\"/>\n</g>\n<!-- 19 -->\n<g id=\"node20\" class=\"node\"><title>19</title>\n<polygon fill=\"none\" stroke=\"black\" points=\"778.5,-157 664.5,-157 664.5,-89 778.5,-89 778.5,-157\"/>\n<text text-anchor=\"middle\" x=\"721.5\" y=\"-141.8\" font-family=\"Times,serif\" font-size=\"14.00\">X[3] &lt;= 34.5</text>\n<text text-anchor=\"middle\" x=\"721.5\" y=\"-126.8\" font-family=\"Times,serif\" font-size=\"14.00\">gini = 0.492</text>\n<text text-anchor=\"middle\" x=\"721.5\" y=\"-111.8\" font-family=\"Times,serif\" font-size=\"14.00\">samples = 16</text>\n<text text-anchor=\"middle\" x=\"721.5\" y=\"-96.8\" font-family=\"Times,serif\" font-size=\"14.00\">value = [7, 9]</text>\n</g>\n<!-- 17&#45;&gt;19 -->\n<g id=\"edge19\" class=\"edge\"><title>17&#45;&gt;19</title>\n<path fill=\"none\" stroke=\"black\" d=\"M721.5,-192.884C721.5,-184.778 721.5,-175.982 721.5,-167.472\"/>\n<polygon fill=\"black\" stroke=\"black\" points=\"725,-167.299 721.5,-157.299 718,-167.299 725,-167.299\"/>\n</g>\n<!-- 20 -->\n<g id=\"node21\" class=\"node\"><title>20</title>\n<polygon fill=\"none\" stroke=\"black\" points=\"647,-53 534,-53 534,-0 647,-0 647,-53\"/>\n<text text-anchor=\"middle\" x=\"590.5\" y=\"-37.8\" font-family=\"Times,serif\" font-size=\"14.00\">gini = 0.346</text>\n<text text-anchor=\"middle\" x=\"590.5\" y=\"-22.8\" font-family=\"Times,serif\" font-size=\"14.00\">samples = 9</text>\n<text text-anchor=\"middle\" x=\"590.5\" y=\"-7.8\" font-family=\"Times,serif\" font-size=\"14.00\">value = [2, 7]</text>\n</g>\n<!-- 19&#45;&gt;20 -->\n<g id=\"edge20\" class=\"edge\"><title>19&#45;&gt;20</title>\n<path fill=\"none\" stroke=\"black\" d=\"M675.683,-88.9485C662.367,-79.3431 647.855,-68.8747 634.645,-59.345\"/>\n<polygon fill=\"black\" stroke=\"black\" points=\"636.335,-56.2486 626.177,-53.2367 632.24,-61.9257 636.335,-56.2486\"/>\n</g>\n<!-- 21 -->\n<g id=\"node22\" class=\"node\"><title>21</title>\n<polygon fill=\"none\" stroke=\"black\" points=\"778,-53 665,-53 665,-0 778,-0 778,-53\"/>\n<text text-anchor=\"middle\" x=\"721.5\" y=\"-37.8\" font-family=\"Times,serif\" font-size=\"14.00\">gini = 0.408</text>\n<text text-anchor=\"middle\" x=\"721.5\" y=\"-22.8\" font-family=\"Times,serif\" font-size=\"14.00\">samples = 7</text>\n<text text-anchor=\"middle\" x=\"721.5\" y=\"-7.8\" font-family=\"Times,serif\" font-size=\"14.00\">value = [5, 2]</text>\n</g>\n<!-- 19&#45;&gt;21 -->\n<g id=\"edge21\" class=\"edge\"><title>19&#45;&gt;21</title>\n<path fill=\"none\" stroke=\"black\" d=\"M721.5,-88.9485C721.5,-80.7153 721.5,-71.848 721.5,-63.4814\"/>\n<polygon fill=\"black\" stroke=\"black\" points=\"725,-63.2367 721.5,-53.2367 718,-63.2367 725,-63.2367\"/>\n</g>\n<!-- 24 -->\n<g id=\"node25\" class=\"node\"><title>24</title>\n<polygon fill=\"none\" stroke=\"black\" points=\"1128.5,-365 1006.5,-365 1006.5,-297 1128.5,-297 1128.5,-365\"/>\n<text text-anchor=\"middle\" x=\"1067.5\" y=\"-349.8\" font-family=\"Times,serif\" font-size=\"14.00\">X[1] &lt;= 33.5</text>\n<text text-anchor=\"middle\" x=\"1067.5\" y=\"-334.8\" font-family=\"Times,serif\" font-size=\"14.00\">gini = 0.328</text>\n<text text-anchor=\"middle\" x=\"1067.5\" y=\"-319.8\" font-family=\"Times,serif\" font-size=\"14.00\">samples = 29</text>\n<text text-anchor=\"middle\" x=\"1067.5\" y=\"-304.8\" font-family=\"Times,serif\" font-size=\"14.00\">value = [23, 6]</text>\n</g>\n<!-- 23&#45;&gt;24 -->\n<g id=\"edge24\" class=\"edge\"><title>23&#45;&gt;24</title>\n<path fill=\"none\" stroke=\"black\" d=\"M1067.5,-400.884C1067.5,-392.778 1067.5,-383.982 1067.5,-375.472\"/>\n<polygon fill=\"black\" stroke=\"black\" points=\"1071,-375.299 1067.5,-365.299 1064,-375.299 1071,-375.299\"/>\n</g>\n<!-- 31 -->\n<g id=\"node32\" class=\"node\"><title>31</title>\n<polygon fill=\"none\" stroke=\"black\" points=\"1332,-365 1201,-365 1201,-297 1332,-297 1332,-365\"/>\n<text text-anchor=\"middle\" x=\"1266.5\" y=\"-349.8\" font-family=\"Times,serif\" font-size=\"14.00\">X[2] &lt;= 91.0</text>\n<text text-anchor=\"middle\" x=\"1266.5\" y=\"-334.8\" font-family=\"Times,serif\" font-size=\"14.00\">gini = 0.5</text>\n<text text-anchor=\"middle\" x=\"1266.5\" y=\"-319.8\" font-family=\"Times,serif\" font-size=\"14.00\">samples = 76</text>\n<text text-anchor=\"middle\" x=\"1266.5\" y=\"-304.8\" font-family=\"Times,serif\" font-size=\"14.00\">value = [38, 38]</text>\n</g>\n<!-- 23&#45;&gt;31 -->\n<g id=\"edge31\" class=\"edge\"><title>23&#45;&gt;31</title>\n<path fill=\"none\" stroke=\"black\" d=\"M1132.11,-400.884C1151.5,-390.946 1172.91,-379.971 1192.84,-369.757\"/>\n<polygon fill=\"black\" stroke=\"black\" points=\"1194.57,-372.801 1201.87,-365.125 1191.38,-366.571 1194.57,-372.801\"/>\n</g>\n<!-- 25 -->\n<g id=\"node26\" class=\"node\"><title>25</title>\n<polygon fill=\"none\" stroke=\"black\" points=\"1015,-253.5 902,-253.5 902,-200.5 1015,-200.5 1015,-253.5\"/>\n<text text-anchor=\"middle\" x=\"958.5\" y=\"-238.3\" font-family=\"Times,serif\" font-size=\"14.00\">gini = 0.0</text>\n<text text-anchor=\"middle\" x=\"958.5\" y=\"-223.3\" font-family=\"Times,serif\" font-size=\"14.00\">samples = 2</text>\n<text text-anchor=\"middle\" x=\"958.5\" y=\"-208.3\" font-family=\"Times,serif\" font-size=\"14.00\">value = [0, 2]</text>\n</g>\n<!-- 24&#45;&gt;25 -->\n<g id=\"edge25\" class=\"edge\"><title>24&#45;&gt;25</title>\n<path fill=\"none\" stroke=\"black\" d=\"M1032.11,-296.884C1019.65,-285.226 1005.67,-272.141 993.264,-260.532\"/>\n<polygon fill=\"black\" stroke=\"black\" points=\"995.464,-257.797 985.771,-253.52 990.681,-262.908 995.464,-257.797\"/>\n</g>\n<!-- 26 -->\n<g id=\"node27\" class=\"node\"><title>26</title>\n<polygon fill=\"none\" stroke=\"black\" points=\"1155.5,-261 1033.5,-261 1033.5,-193 1155.5,-193 1155.5,-261\"/>\n<text text-anchor=\"middle\" x=\"1094.5\" y=\"-245.8\" font-family=\"Times,serif\" font-size=\"14.00\">X[6] &lt;= 1.16</text>\n<text text-anchor=\"middle\" x=\"1094.5\" y=\"-230.8\" font-family=\"Times,serif\" font-size=\"14.00\">gini = 0.252</text>\n<text text-anchor=\"middle\" x=\"1094.5\" y=\"-215.8\" font-family=\"Times,serif\" font-size=\"14.00\">samples = 27</text>\n<text text-anchor=\"middle\" x=\"1094.5\" y=\"-200.8\" font-family=\"Times,serif\" font-size=\"14.00\">value = [23, 4]</text>\n</g>\n<!-- 24&#45;&gt;26 -->\n<g id=\"edge26\" class=\"edge\"><title>24&#45;&gt;26</title>\n<path fill=\"none\" stroke=\"black\" d=\"M1076.27,-296.884C1078.44,-288.689 1080.79,-279.789 1083.07,-271.192\"/>\n<polygon fill=\"black\" stroke=\"black\" points=\"1086.51,-271.862 1085.69,-261.299 1079.74,-270.071 1086.51,-271.862\"/>\n</g>\n<!-- 27 -->\n<g id=\"node28\" class=\"node\"><title>27</title>\n<polygon fill=\"none\" stroke=\"black\" points=\"1035.5,-157 913.5,-157 913.5,-89 1035.5,-89 1035.5,-157\"/>\n<text text-anchor=\"middle\" x=\"974.5\" y=\"-141.8\" font-family=\"Times,serif\" font-size=\"14.00\">X[4] &lt;= 153.0</text>\n<text text-anchor=\"middle\" x=\"974.5\" y=\"-126.8\" font-family=\"Times,serif\" font-size=\"14.00\">gini = 0.204</text>\n<text text-anchor=\"middle\" x=\"974.5\" y=\"-111.8\" font-family=\"Times,serif\" font-size=\"14.00\">samples = 26</text>\n<text text-anchor=\"middle\" x=\"974.5\" y=\"-96.8\" font-family=\"Times,serif\" font-size=\"14.00\">value = [23, 3]</text>\n</g>\n<!-- 26&#45;&gt;27 -->\n<g id=\"edge27\" class=\"edge\"><title>26&#45;&gt;27</title>\n<path fill=\"none\" stroke=\"black\" d=\"M1055.54,-192.884C1044.64,-183.62 1032.68,-173.455 1021.38,-163.845\"/>\n<polygon fill=\"black\" stroke=\"black\" points=\"1023.56,-161.109 1013.68,-157.299 1019.03,-166.443 1023.56,-161.109\"/>\n</g>\n<!-- 30 -->\n<g id=\"node31\" class=\"node\"><title>30</title>\n<polygon fill=\"none\" stroke=\"black\" points=\"1167,-149.5 1054,-149.5 1054,-96.5 1167,-96.5 1167,-149.5\"/>\n<text text-anchor=\"middle\" x=\"1110.5\" y=\"-134.3\" font-family=\"Times,serif\" font-size=\"14.00\">gini = 0.0</text>\n<text text-anchor=\"middle\" x=\"1110.5\" y=\"-119.3\" font-family=\"Times,serif\" font-size=\"14.00\">samples = 1</text>\n<text text-anchor=\"middle\" x=\"1110.5\" y=\"-104.3\" font-family=\"Times,serif\" font-size=\"14.00\">value = [0, 1]</text>\n</g>\n<!-- 26&#45;&gt;30 -->\n<g id=\"edge30\" class=\"edge\"><title>26&#45;&gt;30</title>\n<path fill=\"none\" stroke=\"black\" d=\"M1099.69,-192.884C1101.37,-182.216 1103.23,-170.352 1104.93,-159.519\"/>\n<polygon fill=\"black\" stroke=\"black\" points=\"1108.4,-159.942 1106.5,-149.52 1101.49,-158.857 1108.4,-159.942\"/>\n</g>\n<!-- 28 -->\n<g id=\"node29\" class=\"node\"><title>28</title>\n<polygon fill=\"none\" stroke=\"black\" points=\"918.5,-53 796.5,-53 796.5,-0 918.5,-0 918.5,-53\"/>\n<text text-anchor=\"middle\" x=\"857.5\" y=\"-37.8\" font-family=\"Times,serif\" font-size=\"14.00\">gini = 0.147</text>\n<text text-anchor=\"middle\" x=\"857.5\" y=\"-22.8\" font-family=\"Times,serif\" font-size=\"14.00\">samples = 25</text>\n<text text-anchor=\"middle\" x=\"857.5\" y=\"-7.8\" font-family=\"Times,serif\" font-size=\"14.00\">value = [23, 2]</text>\n</g>\n<!-- 27&#45;&gt;28 -->\n<g id=\"edge28\" class=\"edge\"><title>27&#45;&gt;28</title>\n<path fill=\"none\" stroke=\"black\" d=\"M933.579,-88.9485C921.8,-79.4346 908.973,-69.074 897.265,-59.6175\"/>\n<polygon fill=\"black\" stroke=\"black\" points=\"899.343,-56.7973 889.364,-53.2367 894.945,-62.2429 899.343,-56.7973\"/>\n</g>\n<!-- 29 -->\n<g id=\"node30\" class=\"node\"><title>29</title>\n<polygon fill=\"none\" stroke=\"black\" points=\"1050,-53 937,-53 937,-0 1050,-0 1050,-53\"/>\n<text text-anchor=\"middle\" x=\"993.5\" y=\"-37.8\" font-family=\"Times,serif\" font-size=\"14.00\">gini = 0.0</text>\n<text text-anchor=\"middle\" x=\"993.5\" y=\"-22.8\" font-family=\"Times,serif\" font-size=\"14.00\">samples = 1</text>\n<text text-anchor=\"middle\" x=\"993.5\" y=\"-7.8\" font-family=\"Times,serif\" font-size=\"14.00\">value = [0, 1]</text>\n</g>\n<!-- 27&#45;&gt;29 -->\n<g id=\"edge29\" class=\"edge\"><title>27&#45;&gt;29</title>\n<path fill=\"none\" stroke=\"black\" d=\"M981.145,-88.9485C982.819,-80.6238 984.623,-71.6509 986.322,-63.2027\"/>\n<polygon fill=\"black\" stroke=\"black\" points=\"989.786,-63.7304 988.325,-53.2367 982.923,-62.3506 989.786,-63.7304\"/>\n</g>\n<!-- 32 -->\n<g id=\"node33\" class=\"node\"><title>32</title>\n<polygon fill=\"none\" stroke=\"black\" points=\"1332,-261 1201,-261 1201,-193 1332,-193 1332,-261\"/>\n<text text-anchor=\"middle\" x=\"1266.5\" y=\"-245.8\" font-family=\"Times,serif\" font-size=\"14.00\">X[6] &lt;= 0.549</text>\n<text text-anchor=\"middle\" x=\"1266.5\" y=\"-230.8\" font-family=\"Times,serif\" font-size=\"14.00\">gini = 0.498</text>\n<text text-anchor=\"middle\" x=\"1266.5\" y=\"-215.8\" font-family=\"Times,serif\" font-size=\"14.00\">samples = 71</text>\n<text text-anchor=\"middle\" x=\"1266.5\" y=\"-200.8\" font-family=\"Times,serif\" font-size=\"14.00\">value = [33, 38]</text>\n</g>\n<!-- 31&#45;&gt;32 -->\n<g id=\"edge32\" class=\"edge\"><title>31&#45;&gt;32</title>\n<path fill=\"none\" stroke=\"black\" d=\"M1266.5,-296.884C1266.5,-288.778 1266.5,-279.982 1266.5,-271.472\"/>\n<polygon fill=\"black\" stroke=\"black\" points=\"1270,-271.299 1266.5,-261.299 1263,-271.299 1270,-271.299\"/>\n</g>\n<!-- 39 -->\n<g id=\"node40\" class=\"node\"><title>39</title>\n<polygon fill=\"none\" stroke=\"black\" points=\"1463,-253.5 1350,-253.5 1350,-200.5 1463,-200.5 1463,-253.5\"/>\n<text text-anchor=\"middle\" x=\"1406.5\" y=\"-238.3\" font-family=\"Times,serif\" font-size=\"14.00\">gini = 0.0</text>\n<text text-anchor=\"middle\" x=\"1406.5\" y=\"-223.3\" font-family=\"Times,serif\" font-size=\"14.00\">samples = 5</text>\n<text text-anchor=\"middle\" x=\"1406.5\" y=\"-208.3\" font-family=\"Times,serif\" font-size=\"14.00\">value = [5, 0]</text>\n</g>\n<!-- 31&#45;&gt;39 -->\n<g id=\"edge39\" class=\"edge\"><title>31&#45;&gt;39</title>\n<path fill=\"none\" stroke=\"black\" d=\"M1311.95,-296.884C1328.41,-284.896 1346.93,-271.399 1363.2,-259.549\"/>\n<polygon fill=\"black\" stroke=\"black\" points=\"1365.45,-262.237 1371.47,-253.52 1361.33,-256.58 1365.45,-262.237\"/>\n</g>\n<!-- 33 -->\n<g id=\"node34\" class=\"node\"><title>33</title>\n<polygon fill=\"none\" stroke=\"black\" points=\"1332,-157 1201,-157 1201,-89 1332,-89 1332,-157\"/>\n<text text-anchor=\"middle\" x=\"1266.5\" y=\"-141.8\" font-family=\"Times,serif\" font-size=\"14.00\">X[3] &lt;= 28.0</text>\n<text text-anchor=\"middle\" x=\"1266.5\" y=\"-126.8\" font-family=\"Times,serif\" font-size=\"14.00\">gini = 0.495</text>\n<text text-anchor=\"middle\" x=\"1266.5\" y=\"-111.8\" font-family=\"Times,serif\" font-size=\"14.00\">samples = 49</text>\n<text text-anchor=\"middle\" x=\"1266.5\" y=\"-96.8\" font-family=\"Times,serif\" font-size=\"14.00\">value = [27, 22]</text>\n</g>\n<!-- 32&#45;&gt;33 -->\n<g id=\"edge33\" class=\"edge\"><title>32&#45;&gt;33</title>\n<path fill=\"none\" stroke=\"black\" d=\"M1266.5,-192.884C1266.5,-184.778 1266.5,-175.982 1266.5,-167.472\"/>\n<polygon fill=\"black\" stroke=\"black\" points=\"1270,-167.299 1266.5,-157.299 1263,-167.299 1270,-167.299\"/>\n</g>\n<!-- 36 -->\n<g id=\"node37\" class=\"node\"><title>36</title>\n<polygon fill=\"none\" stroke=\"black\" points=\"1479.5,-157 1357.5,-157 1357.5,-89 1479.5,-89 1479.5,-157\"/>\n<text text-anchor=\"middle\" x=\"1418.5\" y=\"-141.8\" font-family=\"Times,serif\" font-size=\"14.00\">X[3] &lt;= 47.5</text>\n<text text-anchor=\"middle\" x=\"1418.5\" y=\"-126.8\" font-family=\"Times,serif\" font-size=\"14.00\">gini = 0.397</text>\n<text text-anchor=\"middle\" x=\"1418.5\" y=\"-111.8\" font-family=\"Times,serif\" font-size=\"14.00\">samples = 22</text>\n<text text-anchor=\"middle\" x=\"1418.5\" y=\"-96.8\" font-family=\"Times,serif\" font-size=\"14.00\">value = [6, 16]</text>\n</g>\n<!-- 32&#45;&gt;36 -->\n<g id=\"edge36\" class=\"edge\"><title>32&#45;&gt;36</title>\n<path fill=\"none\" stroke=\"black\" d=\"M1315.85,-192.884C1330.13,-183.304 1345.84,-172.761 1360.58,-162.864\"/>\n<polygon fill=\"black\" stroke=\"black\" points=\"1362.78,-165.603 1369.14,-157.125 1358.88,-159.791 1362.78,-165.603\"/>\n</g>\n<!-- 34 -->\n<g id=\"node35\" class=\"node\"><title>34</title>\n<polygon fill=\"none\" stroke=\"black\" points=\"1199,-53 1068,-53 1068,-0 1199,-0 1199,-53\"/>\n<text text-anchor=\"middle\" x=\"1133.5\" y=\"-37.8\" font-family=\"Times,serif\" font-size=\"14.00\">gini = 0.487</text>\n<text text-anchor=\"middle\" x=\"1133.5\" y=\"-22.8\" font-family=\"Times,serif\" font-size=\"14.00\">samples = 31</text>\n<text text-anchor=\"middle\" x=\"1133.5\" y=\"-7.8\" font-family=\"Times,serif\" font-size=\"14.00\">value = [13, 18]</text>\n</g>\n<!-- 33&#45;&gt;34 -->\n<g id=\"edge34\" class=\"edge\"><title>33&#45;&gt;34</title>\n<path fill=\"none\" stroke=\"black\" d=\"M1219.98,-88.9485C1206.34,-79.2516 1191.45,-68.6752 1177.94,-59.073\"/>\n<polygon fill=\"black\" stroke=\"black\" points=\"1179.9,-56.1757 1169.72,-53.2367 1175.85,-61.882 1179.9,-56.1757\"/>\n</g>\n<!-- 35 -->\n<g id=\"node36\" class=\"node\"><title>35</title>\n<polygon fill=\"none\" stroke=\"black\" points=\"1339.5,-53 1217.5,-53 1217.5,-0 1339.5,-0 1339.5,-53\"/>\n<text text-anchor=\"middle\" x=\"1278.5\" y=\"-37.8\" font-family=\"Times,serif\" font-size=\"14.00\">gini = 0.346</text>\n<text text-anchor=\"middle\" x=\"1278.5\" y=\"-22.8\" font-family=\"Times,serif\" font-size=\"14.00\">samples = 18</text>\n<text text-anchor=\"middle\" x=\"1278.5\" y=\"-7.8\" font-family=\"Times,serif\" font-size=\"14.00\">value = [14, 4]</text>\n</g>\n<!-- 33&#45;&gt;35 -->\n<g id=\"edge35\" class=\"edge\"><title>33&#45;&gt;35</title>\n<path fill=\"none\" stroke=\"black\" d=\"M1270.7,-88.9485C1271.75,-80.6238 1272.89,-71.6509 1273.97,-63.2027\"/>\n<polygon fill=\"black\" stroke=\"black\" points=\"1277.44,-63.598 1275.23,-53.2367 1270.5,-62.7161 1277.44,-63.598\"/>\n</g>\n<!-- 37 -->\n<g id=\"node38\" class=\"node\"><title>37</title>\n<polygon fill=\"none\" stroke=\"black\" points=\"1479.5,-53 1357.5,-53 1357.5,-0 1479.5,-0 1479.5,-53\"/>\n<text text-anchor=\"middle\" x=\"1418.5\" y=\"-37.8\" font-family=\"Times,serif\" font-size=\"14.00\">gini = 0.32</text>\n<text text-anchor=\"middle\" x=\"1418.5\" y=\"-22.8\" font-family=\"Times,serif\" font-size=\"14.00\">samples = 20</text>\n<text text-anchor=\"middle\" x=\"1418.5\" y=\"-7.8\" font-family=\"Times,serif\" font-size=\"14.00\">value = [4, 16]</text>\n</g>\n<!-- 36&#45;&gt;37 -->\n<g id=\"edge37\" class=\"edge\"><title>36&#45;&gt;37</title>\n<path fill=\"none\" stroke=\"black\" d=\"M1418.5,-88.9485C1418.5,-80.7153 1418.5,-71.848 1418.5,-63.4814\"/>\n<polygon fill=\"black\" stroke=\"black\" points=\"1422,-63.2367 1418.5,-53.2367 1415,-63.2367 1422,-63.2367\"/>\n</g>\n<!-- 38 -->\n<g id=\"node39\" class=\"node\"><title>38</title>\n<polygon fill=\"none\" stroke=\"black\" points=\"1611,-53 1498,-53 1498,-0 1611,-0 1611,-53\"/>\n<text text-anchor=\"middle\" x=\"1554.5\" y=\"-37.8\" font-family=\"Times,serif\" font-size=\"14.00\">gini = 0.0</text>\n<text text-anchor=\"middle\" x=\"1554.5\" y=\"-22.8\" font-family=\"Times,serif\" font-size=\"14.00\">samples = 2</text>\n<text text-anchor=\"middle\" x=\"1554.5\" y=\"-7.8\" font-family=\"Times,serif\" font-size=\"14.00\">value = [2, 0]</text>\n</g>\n<!-- 36&#45;&gt;38 -->\n<g id=\"edge38\" class=\"edge\"><title>36&#45;&gt;38</title>\n<path fill=\"none\" stroke=\"black\" d=\"M1466.07,-88.9485C1480.02,-79.2516 1495.24,-68.6752 1509.06,-59.073\"/>\n<polygon fill=\"black\" stroke=\"black\" points=\"1511.25,-61.8172 1517.46,-53.2367 1507.25,-56.0687 1511.25,-61.8172\"/>\n</g>\n<!-- 41 -->\n<g id=\"node42\" class=\"node\"><title>41</title>\n<polygon fill=\"none\" stroke=\"black\" points=\"2150,-573 2019,-573 2019,-505 2150,-505 2150,-573\"/>\n<text text-anchor=\"middle\" x=\"2084.5\" y=\"-557.8\" font-family=\"Times,serif\" font-size=\"14.00\">X[7] &lt;= 22.5</text>\n<text text-anchor=\"middle\" x=\"2084.5\" y=\"-542.8\" font-family=\"Times,serif\" font-size=\"14.00\">gini = 0.459</text>\n<text text-anchor=\"middle\" x=\"2084.5\" y=\"-527.8\" font-family=\"Times,serif\" font-size=\"14.00\">samples = 56</text>\n<text text-anchor=\"middle\" x=\"2084.5\" y=\"-512.8\" font-family=\"Times,serif\" font-size=\"14.00\">value = [36, 20]</text>\n</g>\n<!-- 40&#45;&gt;41 -->\n<g id=\"edge41\" class=\"edge\"><title>40&#45;&gt;41</title>\n<path fill=\"none\" stroke=\"black\" d=\"M2084.5,-608.884C2084.5,-600.778 2084.5,-591.982 2084.5,-583.472\"/>\n<polygon fill=\"black\" stroke=\"black\" points=\"2088,-583.299 2084.5,-573.299 2081,-583.299 2088,-583.299\"/>\n</g>\n<!-- 60 -->\n<g id=\"node61\" class=\"node\"><title>60</title>\n<polygon fill=\"none\" stroke=\"black\" points=\"3035.5,-573 2895.5,-573 2895.5,-505 3035.5,-505 3035.5,-573\"/>\n<text text-anchor=\"middle\" x=\"2965.5\" y=\"-557.8\" font-family=\"Times,serif\" font-size=\"14.00\">X[1] &lt;= 154.5</text>\n<text text-anchor=\"middle\" x=\"2965.5\" y=\"-542.8\" font-family=\"Times,serif\" font-size=\"14.00\">gini = 0.407</text>\n<text text-anchor=\"middle\" x=\"2965.5\" y=\"-527.8\" font-family=\"Times,serif\" font-size=\"14.00\">samples = 165</text>\n<text text-anchor=\"middle\" x=\"2965.5\" y=\"-512.8\" font-family=\"Times,serif\" font-size=\"14.00\">value = [47, 118]</text>\n</g>\n<!-- 40&#45;&gt;60 -->\n<g id=\"edge60\" class=\"edge\"><title>40&#45;&gt;60</title>\n<path fill=\"none\" stroke=\"black\" d=\"M2154.74,-633.868C2316.51,-615.138 2714.58,-569.051 2885.46,-549.267\"/>\n<polygon fill=\"black\" stroke=\"black\" points=\"2885.87,-552.743 2895.4,-548.116 2885.06,-545.79 2885.87,-552.743\"/>\n</g>\n<!-- 42 -->\n<g id=\"node43\" class=\"node\"><title>42</title>\n<polygon fill=\"none\" stroke=\"black\" points=\"2073.5,-461.5 1951.5,-461.5 1951.5,-408.5 2073.5,-408.5 2073.5,-461.5\"/>\n<text text-anchor=\"middle\" x=\"2012.5\" y=\"-446.3\" font-family=\"Times,serif\" font-size=\"14.00\">gini = 0.0</text>\n<text text-anchor=\"middle\" x=\"2012.5\" y=\"-431.3\" font-family=\"Times,serif\" font-size=\"14.00\">samples = 12</text>\n<text text-anchor=\"middle\" x=\"2012.5\" y=\"-416.3\" font-family=\"Times,serif\" font-size=\"14.00\">value = [12, 0]</text>\n</g>\n<!-- 41&#45;&gt;42 -->\n<g id=\"edge42\" class=\"edge\"><title>41&#45;&gt;42</title>\n<path fill=\"none\" stroke=\"black\" d=\"M2061.12,-504.884C2053.21,-493.666 2044.35,-481.126 2036.4,-469.852\"/>\n<polygon fill=\"black\" stroke=\"black\" points=\"2039.14,-467.671 2030.51,-461.52 2033.42,-471.708 2039.14,-467.671\"/>\n</g>\n<!-- 43 -->\n<g id=\"node44\" class=\"node\"><title>43</title>\n<polygon fill=\"none\" stroke=\"black\" points=\"2223,-469 2092,-469 2092,-401 2223,-401 2223,-469\"/>\n<text text-anchor=\"middle\" x=\"2157.5\" y=\"-453.8\" font-family=\"Times,serif\" font-size=\"14.00\">X[7] &lt;= 53.5</text>\n<text text-anchor=\"middle\" x=\"2157.5\" y=\"-438.8\" font-family=\"Times,serif\" font-size=\"14.00\">gini = 0.496</text>\n<text text-anchor=\"middle\" x=\"2157.5\" y=\"-423.8\" font-family=\"Times,serif\" font-size=\"14.00\">samples = 44</text>\n<text text-anchor=\"middle\" x=\"2157.5\" y=\"-408.8\" font-family=\"Times,serif\" font-size=\"14.00\">value = [24, 20]</text>\n</g>\n<!-- 41&#45;&gt;43 -->\n<g id=\"edge43\" class=\"edge\"><title>41&#45;&gt;43</title>\n<path fill=\"none\" stroke=\"black\" d=\"M2108.2,-504.884C2114.45,-496.154 2121.27,-486.625 2127.79,-477.514\"/>\n<polygon fill=\"black\" stroke=\"black\" points=\"2130.69,-479.468 2133.67,-469.299 2125,-475.394 2130.69,-479.468\"/>\n</g>\n<!-- 44 -->\n<g id=\"node45\" class=\"node\"><title>44</title>\n<polygon fill=\"none\" stroke=\"black\" points=\"2151,-365 2020,-365 2020,-297 2151,-297 2151,-365\"/>\n<text text-anchor=\"middle\" x=\"2085.5\" y=\"-349.8\" font-family=\"Times,serif\" font-size=\"14.00\">X[0] &lt;= 7.5</text>\n<text text-anchor=\"middle\" x=\"2085.5\" y=\"-334.8\" font-family=\"Times,serif\" font-size=\"14.00\">gini = 0.48</text>\n<text text-anchor=\"middle\" x=\"2085.5\" y=\"-319.8\" font-family=\"Times,serif\" font-size=\"14.00\">samples = 30</text>\n<text text-anchor=\"middle\" x=\"2085.5\" y=\"-304.8\" font-family=\"Times,serif\" font-size=\"14.00\">value = [12, 18]</text>\n</g>\n<!-- 43&#45;&gt;44 -->\n<g id=\"edge44\" class=\"edge\"><title>43&#45;&gt;44</title>\n<path fill=\"none\" stroke=\"black\" d=\"M2134.12,-400.884C2127.96,-392.154 2121.24,-382.625 2114.8,-373.514\"/>\n<polygon fill=\"black\" stroke=\"black\" points=\"2117.63,-371.451 2109.01,-365.299 2111.91,-375.487 2117.63,-371.451\"/>\n</g>\n<!-- 53 -->\n<g id=\"node54\" class=\"node\"><title>53</title>\n<polygon fill=\"none\" stroke=\"black\" points=\"2291.5,-365 2169.5,-365 2169.5,-297 2291.5,-297 2291.5,-365\"/>\n<text text-anchor=\"middle\" x=\"2230.5\" y=\"-349.8\" font-family=\"Times,serif\" font-size=\"14.00\">X[4] &lt;= 102.5</text>\n<text text-anchor=\"middle\" x=\"2230.5\" y=\"-334.8\" font-family=\"Times,serif\" font-size=\"14.00\">gini = 0.245</text>\n<text text-anchor=\"middle\" x=\"2230.5\" y=\"-319.8\" font-family=\"Times,serif\" font-size=\"14.00\">samples = 14</text>\n<text text-anchor=\"middle\" x=\"2230.5\" y=\"-304.8\" font-family=\"Times,serif\" font-size=\"14.00\">value = [12, 2]</text>\n</g>\n<!-- 43&#45;&gt;53 -->\n<g id=\"edge53\" class=\"edge\"><title>43&#45;&gt;53</title>\n<path fill=\"none\" stroke=\"black\" d=\"M2181.2,-400.884C2187.45,-392.154 2194.27,-382.625 2200.79,-373.514\"/>\n<polygon fill=\"black\" stroke=\"black\" points=\"2203.69,-375.468 2206.67,-365.299 2198,-371.394 2203.69,-375.468\"/>\n</g>\n<!-- 45 -->\n<g id=\"node46\" class=\"node\"><title>45</title>\n<polygon fill=\"none\" stroke=\"black\" points=\"2013,-261 1882,-261 1882,-193 2013,-193 2013,-261\"/>\n<text text-anchor=\"middle\" x=\"1947.5\" y=\"-245.8\" font-family=\"Times,serif\" font-size=\"14.00\">X[0] &lt;= 3.5</text>\n<text text-anchor=\"middle\" x=\"1947.5\" y=\"-230.8\" font-family=\"Times,serif\" font-size=\"14.00\">gini = 0.499</text>\n<text text-anchor=\"middle\" x=\"1947.5\" y=\"-215.8\" font-family=\"Times,serif\" font-size=\"14.00\">samples = 25</text>\n<text text-anchor=\"middle\" x=\"1947.5\" y=\"-200.8\" font-family=\"Times,serif\" font-size=\"14.00\">value = [12, 13]</text>\n</g>\n<!-- 44&#45;&gt;45 -->\n<g id=\"edge45\" class=\"edge\"><title>44&#45;&gt;45</title>\n<path fill=\"none\" stroke=\"black\" d=\"M2040.7,-296.884C2027.92,-287.442 2013.88,-277.064 2000.66,-267.292\"/>\n<polygon fill=\"black\" stroke=\"black\" points=\"2002.67,-264.429 1992.55,-261.299 1998.51,-270.058 2002.67,-264.429\"/>\n</g>\n<!-- 52 -->\n<g id=\"node53\" class=\"node\"><title>52</title>\n<polygon fill=\"none\" stroke=\"black\" points=\"2144,-253.5 2031,-253.5 2031,-200.5 2144,-200.5 2144,-253.5\"/>\n<text text-anchor=\"middle\" x=\"2087.5\" y=\"-238.3\" font-family=\"Times,serif\" font-size=\"14.00\">gini = 0.0</text>\n<text text-anchor=\"middle\" x=\"2087.5\" y=\"-223.3\" font-family=\"Times,serif\" font-size=\"14.00\">samples = 5</text>\n<text text-anchor=\"middle\" x=\"2087.5\" y=\"-208.3\" font-family=\"Times,serif\" font-size=\"14.00\">value = [0, 5]</text>\n</g>\n<!-- 44&#45;&gt;52 -->\n<g id=\"edge52\" class=\"edge\"><title>44&#45;&gt;52</title>\n<path fill=\"none\" stroke=\"black\" d=\"M2086.15,-296.884C2086.36,-286.216 2086.59,-274.352 2086.8,-263.519\"/>\n<polygon fill=\"black\" stroke=\"black\" points=\"2090.3,-263.587 2087,-253.52 2083.3,-263.449 2090.3,-263.587\"/>\n</g>\n<!-- 46 -->\n<g id=\"node47\" class=\"node\"><title>46</title>\n<polygon fill=\"none\" stroke=\"black\" points=\"1873.5,-157 1753.5,-157 1753.5,-89 1873.5,-89 1873.5,-157\"/>\n<text text-anchor=\"middle\" x=\"1813.5\" y=\"-141.8\" font-family=\"Times,serif\" font-size=\"14.00\">X[5] &lt;= 26.15</text>\n<text text-anchor=\"middle\" x=\"1813.5\" y=\"-126.8\" font-family=\"Times,serif\" font-size=\"14.00\">gini = 0.375</text>\n<text text-anchor=\"middle\" x=\"1813.5\" y=\"-111.8\" font-family=\"Times,serif\" font-size=\"14.00\">samples = 12</text>\n<text text-anchor=\"middle\" x=\"1813.5\" y=\"-96.8\" font-family=\"Times,serif\" font-size=\"14.00\">value = [3, 9]</text>\n</g>\n<!-- 45&#45;&gt;46 -->\n<g id=\"edge46\" class=\"edge\"><title>45&#45;&gt;46</title>\n<path fill=\"none\" stroke=\"black\" d=\"M1903.99,-192.884C1891.71,-183.531 1878.21,-173.259 1865.48,-163.568\"/>\n<polygon fill=\"black\" stroke=\"black\" points=\"1867.32,-160.571 1857.25,-157.299 1863.08,-166.141 1867.32,-160.571\"/>\n</g>\n<!-- 49 -->\n<g id=\"node50\" class=\"node\"><title>49</title>\n<polygon fill=\"none\" stroke=\"black\" points=\"2011.5,-157 1891.5,-157 1891.5,-89 2011.5,-89 2011.5,-157\"/>\n<text text-anchor=\"middle\" x=\"1951.5\" y=\"-141.8\" font-family=\"Times,serif\" font-size=\"14.00\">X[1] &lt;= 160.5</text>\n<text text-anchor=\"middle\" x=\"1951.5\" y=\"-126.8\" font-family=\"Times,serif\" font-size=\"14.00\">gini = 0.426</text>\n<text text-anchor=\"middle\" x=\"1951.5\" y=\"-111.8\" font-family=\"Times,serif\" font-size=\"14.00\">samples = 13</text>\n<text text-anchor=\"middle\" x=\"1951.5\" y=\"-96.8\" font-family=\"Times,serif\" font-size=\"14.00\">value = [9, 4]</text>\n</g>\n<!-- 45&#45;&gt;49 -->\n<g id=\"edge49\" class=\"edge\"><title>45&#45;&gt;49</title>\n<path fill=\"none\" stroke=\"black\" d=\"M1948.8,-192.884C1949.12,-184.778 1949.46,-175.982 1949.8,-167.472\"/>\n<polygon fill=\"black\" stroke=\"black\" points=\"1953.3,-167.429 1950.19,-157.299 1946.3,-167.155 1953.3,-167.429\"/>\n</g>\n<!-- 47 -->\n<g id=\"node48\" class=\"node\"><title>47</title>\n<polygon fill=\"none\" stroke=\"black\" points=\"1742,-53 1629,-53 1629,-0 1742,-0 1742,-53\"/>\n<text text-anchor=\"middle\" x=\"1685.5\" y=\"-37.8\" font-family=\"Times,serif\" font-size=\"14.00\">gini = 0.375</text>\n<text text-anchor=\"middle\" x=\"1685.5\" y=\"-22.8\" font-family=\"Times,serif\" font-size=\"14.00\">samples = 4</text>\n<text text-anchor=\"middle\" x=\"1685.5\" y=\"-7.8\" font-family=\"Times,serif\" font-size=\"14.00\">value = [3, 1]</text>\n</g>\n<!-- 46&#45;&gt;47 -->\n<g id=\"edge47\" class=\"edge\"><title>46&#45;&gt;47</title>\n<path fill=\"none\" stroke=\"black\" d=\"M1768.73,-88.9485C1755.72,-79.3431 1741.54,-68.8747 1728.63,-59.345\"/>\n<polygon fill=\"black\" stroke=\"black\" points=\"1730.48,-56.3605 1720.36,-53.2367 1726.33,-61.992 1730.48,-56.3605\"/>\n</g>\n<!-- 48 -->\n<g id=\"node49\" class=\"node\"><title>48</title>\n<polygon fill=\"none\" stroke=\"black\" points=\"1873,-53 1760,-53 1760,-0 1873,-0 1873,-53\"/>\n<text text-anchor=\"middle\" x=\"1816.5\" y=\"-37.8\" font-family=\"Times,serif\" font-size=\"14.00\">gini = 0.0</text>\n<text text-anchor=\"middle\" x=\"1816.5\" y=\"-22.8\" font-family=\"Times,serif\" font-size=\"14.00\">samples = 8</text>\n<text text-anchor=\"middle\" x=\"1816.5\" y=\"-7.8\" font-family=\"Times,serif\" font-size=\"14.00\">value = [0, 8]</text>\n</g>\n<!-- 46&#45;&gt;48 -->\n<g id=\"edge48\" class=\"edge\"><title>46&#45;&gt;48</title>\n<path fill=\"none\" stroke=\"black\" d=\"M1814.55,-88.9485C1814.81,-80.7153 1815.09,-71.848 1815.36,-63.4814\"/>\n<polygon fill=\"black\" stroke=\"black\" points=\"1818.86,-63.3428 1815.68,-53.2367 1811.87,-63.1206 1818.86,-63.3428\"/>\n</g>\n<!-- 50 -->\n<g id=\"node51\" class=\"node\"><title>50</title>\n<polygon fill=\"none\" stroke=\"black\" points=\"2005.5,-53 1891.5,-53 1891.5,-0 2005.5,-0 2005.5,-53\"/>\n<text text-anchor=\"middle\" x=\"1948.5\" y=\"-37.8\" font-family=\"Times,serif\" font-size=\"14.00\">gini = 0.18</text>\n<text text-anchor=\"middle\" x=\"1948.5\" y=\"-22.8\" font-family=\"Times,serif\" font-size=\"14.00\">samples = 10</text>\n<text text-anchor=\"middle\" x=\"1948.5\" y=\"-7.8\" font-family=\"Times,serif\" font-size=\"14.00\">value = [9, 1]</text>\n</g>\n<!-- 49&#45;&gt;50 -->\n<g id=\"edge50\" class=\"edge\"><title>49&#45;&gt;50</title>\n<path fill=\"none\" stroke=\"black\" d=\"M1950.45,-88.9485C1950.19,-80.7153 1949.91,-71.848 1949.64,-63.4814\"/>\n<polygon fill=\"black\" stroke=\"black\" points=\"1953.13,-63.1206 1949.32,-53.2367 1946.14,-63.3428 1953.13,-63.1206\"/>\n</g>\n<!-- 51 -->\n<g id=\"node52\" class=\"node\"><title>51</title>\n<polygon fill=\"none\" stroke=\"black\" points=\"2137,-53 2024,-53 2024,-0 2137,-0 2137,-53\"/>\n<text text-anchor=\"middle\" x=\"2080.5\" y=\"-37.8\" font-family=\"Times,serif\" font-size=\"14.00\">gini = 0.0</text>\n<text text-anchor=\"middle\" x=\"2080.5\" y=\"-22.8\" font-family=\"Times,serif\" font-size=\"14.00\">samples = 3</text>\n<text text-anchor=\"middle\" x=\"2080.5\" y=\"-7.8\" font-family=\"Times,serif\" font-size=\"14.00\">value = [0, 3]</text>\n</g>\n<!-- 49&#45;&gt;51 -->\n<g id=\"edge51\" class=\"edge\"><title>49&#45;&gt;51</title>\n<path fill=\"none\" stroke=\"black\" d=\"M1996.62,-88.9485C2009.73,-79.3431 2024.02,-68.8747 2037.03,-59.345\"/>\n<polygon fill=\"black\" stroke=\"black\" points=\"2039.37,-61.9698 2045.37,-53.2367 2035.23,-56.3228 2039.37,-61.9698\"/>\n</g>\n<!-- 54 -->\n<g id=\"node55\" class=\"node\"><title>54</title>\n<polygon fill=\"none\" stroke=\"black\" points=\"2287.5,-261 2165.5,-261 2165.5,-193 2287.5,-193 2287.5,-261\"/>\n<text text-anchor=\"middle\" x=\"2226.5\" y=\"-245.8\" font-family=\"Times,serif\" font-size=\"14.00\">X[5] &lt;= 24.0</text>\n<text text-anchor=\"middle\" x=\"2226.5\" y=\"-230.8\" font-family=\"Times,serif\" font-size=\"14.00\">gini = 0.142</text>\n<text text-anchor=\"middle\" x=\"2226.5\" y=\"-215.8\" font-family=\"Times,serif\" font-size=\"14.00\">samples = 13</text>\n<text text-anchor=\"middle\" x=\"2226.5\" y=\"-200.8\" font-family=\"Times,serif\" font-size=\"14.00\">value = [12, 1]</text>\n</g>\n<!-- 53&#45;&gt;54 -->\n<g id=\"edge54\" class=\"edge\"><title>53&#45;&gt;54</title>\n<path fill=\"none\" stroke=\"black\" d=\"M2229.2,-296.884C2228.88,-288.778 2228.54,-279.982 2228.2,-271.472\"/>\n<polygon fill=\"black\" stroke=\"black\" points=\"2231.7,-271.155 2227.81,-261.299 2224.7,-271.429 2231.7,-271.155\"/>\n</g>\n<!-- 59 -->\n<g id=\"node60\" class=\"node\"><title>59</title>\n<polygon fill=\"none\" stroke=\"black\" points=\"2419,-253.5 2306,-253.5 2306,-200.5 2419,-200.5 2419,-253.5\"/>\n<text text-anchor=\"middle\" x=\"2362.5\" y=\"-238.3\" font-family=\"Times,serif\" font-size=\"14.00\">gini = 0.0</text>\n<text text-anchor=\"middle\" x=\"2362.5\" y=\"-223.3\" font-family=\"Times,serif\" font-size=\"14.00\">samples = 1</text>\n<text text-anchor=\"middle\" x=\"2362.5\" y=\"-208.3\" font-family=\"Times,serif\" font-size=\"14.00\">value = [0, 1]</text>\n</g>\n<!-- 53&#45;&gt;59 -->\n<g id=\"edge59\" class=\"edge\"><title>53&#45;&gt;59</title>\n<path fill=\"none\" stroke=\"black\" d=\"M2273.36,-296.884C2288.73,-285.006 2306.02,-271.646 2321.25,-259.876\"/>\n<polygon fill=\"black\" stroke=\"black\" points=\"2323.7,-262.404 2329.47,-253.52 2319.42,-256.865 2323.7,-262.404\"/>\n</g>\n<!-- 55 -->\n<g id=\"node56\" class=\"node\"><title>55</title>\n<polygon fill=\"none\" stroke=\"black\" points=\"2283.5,-157 2163.5,-157 2163.5,-89 2283.5,-89 2283.5,-157\"/>\n<text text-anchor=\"middle\" x=\"2223.5\" y=\"-141.8\" font-family=\"Times,serif\" font-size=\"14.00\">X[5] &lt;= 22.85</text>\n<text text-anchor=\"middle\" x=\"2223.5\" y=\"-126.8\" font-family=\"Times,serif\" font-size=\"14.00\">gini = 0.444</text>\n<text text-anchor=\"middle\" x=\"2223.5\" y=\"-111.8\" font-family=\"Times,serif\" font-size=\"14.00\">samples = 3</text>\n<text text-anchor=\"middle\" x=\"2223.5\" y=\"-96.8\" font-family=\"Times,serif\" font-size=\"14.00\">value = [2, 1]</text>\n</g>\n<!-- 54&#45;&gt;55 -->\n<g id=\"edge55\" class=\"edge\"><title>54&#45;&gt;55</title>\n<path fill=\"none\" stroke=\"black\" d=\"M2225.53,-192.884C2225.29,-184.778 2225.03,-175.982 2224.78,-167.472\"/>\n<polygon fill=\"black\" stroke=\"black\" points=\"2228.27,-167.192 2224.48,-157.299 2221.27,-167.398 2228.27,-167.192\"/>\n</g>\n<!-- 58 -->\n<g id=\"node59\" class=\"node\"><title>58</title>\n<polygon fill=\"none\" stroke=\"black\" points=\"2423.5,-149.5 2301.5,-149.5 2301.5,-96.5 2423.5,-96.5 2423.5,-149.5\"/>\n<text text-anchor=\"middle\" x=\"2362.5\" y=\"-134.3\" font-family=\"Times,serif\" font-size=\"14.00\">gini = 0.0</text>\n<text text-anchor=\"middle\" x=\"2362.5\" y=\"-119.3\" font-family=\"Times,serif\" font-size=\"14.00\">samples = 10</text>\n<text text-anchor=\"middle\" x=\"2362.5\" y=\"-104.3\" font-family=\"Times,serif\" font-size=\"14.00\">value = [10, 0]</text>\n</g>\n<!-- 54&#45;&gt;58 -->\n<g id=\"edge58\" class=\"edge\"><title>54&#45;&gt;58</title>\n<path fill=\"none\" stroke=\"black\" d=\"M2270.66,-192.884C2286.64,-180.896 2304.63,-167.399 2320.43,-155.549\"/>\n<polygon fill=\"black\" stroke=\"black\" points=\"2322.57,-158.32 2328.47,-149.52 2318.37,-152.72 2322.57,-158.32\"/>\n</g>\n<!-- 56 -->\n<g id=\"node57\" class=\"node\"><title>56</title>\n<polygon fill=\"none\" stroke=\"black\" points=\"2268,-53 2155,-53 2155,-0 2268,-0 2268,-53\"/>\n<text text-anchor=\"middle\" x=\"2211.5\" y=\"-37.8\" font-family=\"Times,serif\" font-size=\"14.00\">gini = 0.0</text>\n<text text-anchor=\"middle\" x=\"2211.5\" y=\"-22.8\" font-family=\"Times,serif\" font-size=\"14.00\">samples = 2</text>\n<text text-anchor=\"middle\" x=\"2211.5\" y=\"-7.8\" font-family=\"Times,serif\" font-size=\"14.00\">value = [2, 0]</text>\n</g>\n<!-- 55&#45;&gt;56 -->\n<g id=\"edge56\" class=\"edge\"><title>55&#45;&gt;56</title>\n<path fill=\"none\" stroke=\"black\" d=\"M2219.3,-88.9485C2218.25,-80.6238 2217.11,-71.6509 2216.03,-63.2027\"/>\n<polygon fill=\"black\" stroke=\"black\" points=\"2219.5,-62.7161 2214.77,-53.2367 2212.56,-63.598 2219.5,-62.7161\"/>\n</g>\n<!-- 57 -->\n<g id=\"node58\" class=\"node\"><title>57</title>\n<polygon fill=\"none\" stroke=\"black\" points=\"2399,-53 2286,-53 2286,-0 2399,-0 2399,-53\"/>\n<text text-anchor=\"middle\" x=\"2342.5\" y=\"-37.8\" font-family=\"Times,serif\" font-size=\"14.00\">gini = 0.0</text>\n<text text-anchor=\"middle\" x=\"2342.5\" y=\"-22.8\" font-family=\"Times,serif\" font-size=\"14.00\">samples = 1</text>\n<text text-anchor=\"middle\" x=\"2342.5\" y=\"-7.8\" font-family=\"Times,serif\" font-size=\"14.00\">value = [0, 1]</text>\n</g>\n<!-- 55&#45;&gt;57 -->\n<g id=\"edge57\" class=\"edge\"><title>55&#45;&gt;57</title>\n<path fill=\"none\" stroke=\"black\" d=\"M2265.12,-88.9485C2277.1,-79.4346 2290.15,-69.074 2302.06,-59.6175\"/>\n<polygon fill=\"black\" stroke=\"black\" points=\"2304.44,-62.1965 2310.09,-53.2367 2300.08,-56.7147 2304.44,-62.1965\"/>\n</g>\n<!-- 61 -->\n<g id=\"node62\" class=\"node\"><title>61</title>\n<polygon fill=\"none\" stroke=\"black\" points=\"3031,-469 2900,-469 2900,-401 3031,-401 3031,-469\"/>\n<text text-anchor=\"middle\" x=\"2965.5\" y=\"-453.8\" font-family=\"Times,serif\" font-size=\"14.00\">X[4] &lt;= 260.0</text>\n<text text-anchor=\"middle\" x=\"2965.5\" y=\"-438.8\" font-family=\"Times,serif\" font-size=\"14.00\">gini = 0.481</text>\n<text text-anchor=\"middle\" x=\"2965.5\" y=\"-423.8\" font-family=\"Times,serif\" font-size=\"14.00\">samples = 87</text>\n<text text-anchor=\"middle\" x=\"2965.5\" y=\"-408.8\" font-family=\"Times,serif\" font-size=\"14.00\">value = [35, 52]</text>\n</g>\n<!-- 60&#45;&gt;61 -->\n<g id=\"edge61\" class=\"edge\"><title>60&#45;&gt;61</title>\n<path fill=\"none\" stroke=\"black\" d=\"M2965.5,-504.884C2965.5,-496.778 2965.5,-487.982 2965.5,-479.472\"/>\n<polygon fill=\"black\" stroke=\"black\" points=\"2969,-479.299 2965.5,-469.299 2962,-479.299 2969,-479.299\"/>\n</g>\n<!-- 76 -->\n<g id=\"node77\" class=\"node\"><title>76</title>\n<polygon fill=\"none\" stroke=\"black\" points=\"3426,-469 3295,-469 3295,-401 3426,-401 3426,-469\"/>\n<text text-anchor=\"middle\" x=\"3360.5\" y=\"-453.8\" font-family=\"Times,serif\" font-size=\"14.00\">X[4] &lt;= 611.5</text>\n<text text-anchor=\"middle\" x=\"3360.5\" y=\"-438.8\" font-family=\"Times,serif\" font-size=\"14.00\">gini = 0.26</text>\n<text text-anchor=\"middle\" x=\"3360.5\" y=\"-423.8\" font-family=\"Times,serif\" font-size=\"14.00\">samples = 78</text>\n<text text-anchor=\"middle\" x=\"3360.5\" y=\"-408.8\" font-family=\"Times,serif\" font-size=\"14.00\">value = [12, 66]</text>\n</g>\n<!-- 60&#45;&gt;76 -->\n<g id=\"edge76\" class=\"edge\"><title>60&#45;&gt;76</title>\n<path fill=\"none\" stroke=\"black\" d=\"M3035.66,-519.882C3105.75,-501.784 3213.12,-474.056 3285.02,-455.49\"/>\n<polygon fill=\"black\" stroke=\"black\" points=\"3286.12,-458.822 3294.93,-452.933 3284.37,-452.044 3286.12,-458.822\"/>\n</g>\n<!-- 62 -->\n<g id=\"node63\" class=\"node\"><title>62</title>\n<polygon fill=\"none\" stroke=\"black\" points=\"2961,-365 2830,-365 2830,-297 2961,-297 2961,-365\"/>\n<text text-anchor=\"middle\" x=\"2895.5\" y=\"-349.8\" font-family=\"Times,serif\" font-size=\"14.00\">X[5] &lt;= 41.7</text>\n<text text-anchor=\"middle\" x=\"2895.5\" y=\"-334.8\" font-family=\"Times,serif\" font-size=\"14.00\">gini = 0.447</text>\n<text text-anchor=\"middle\" x=\"2895.5\" y=\"-319.8\" font-family=\"Times,serif\" font-size=\"14.00\">samples = 77</text>\n<text text-anchor=\"middle\" x=\"2895.5\" y=\"-304.8\" font-family=\"Times,serif\" font-size=\"14.00\">value = [26, 51]</text>\n</g>\n<!-- 61&#45;&gt;62 -->\n<g id=\"edge62\" class=\"edge\"><title>61&#45;&gt;62</title>\n<path fill=\"none\" stroke=\"black\" d=\"M2942.77,-400.884C2936.84,-392.243 2930.38,-382.819 2924.18,-373.793\"/>\n<polygon fill=\"black\" stroke=\"black\" points=\"2926.9,-371.564 2918.35,-365.299 2921.13,-375.525 2926.9,-371.564\"/>\n</g>\n<!-- 73 -->\n<g id=\"node74\" class=\"node\"><title>73</title>\n<polygon fill=\"none\" stroke=\"black\" points=\"3093.5,-365 2979.5,-365 2979.5,-297 3093.5,-297 3093.5,-365\"/>\n<text text-anchor=\"middle\" x=\"3036.5\" y=\"-349.8\" font-family=\"Times,serif\" font-size=\"14.00\">X[7] &lt;= 50.0</text>\n<text text-anchor=\"middle\" x=\"3036.5\" y=\"-334.8\" font-family=\"Times,serif\" font-size=\"14.00\">gini = 0.18</text>\n<text text-anchor=\"middle\" x=\"3036.5\" y=\"-319.8\" font-family=\"Times,serif\" font-size=\"14.00\">samples = 10</text>\n<text text-anchor=\"middle\" x=\"3036.5\" y=\"-304.8\" font-family=\"Times,serif\" font-size=\"14.00\">value = [9, 1]</text>\n</g>\n<!-- 61&#45;&gt;73 -->\n<g id=\"edge73\" class=\"edge\"><title>61&#45;&gt;73</title>\n<path fill=\"none\" stroke=\"black\" d=\"M2988.55,-400.884C2994.63,-392.154 3001.26,-382.625 3007.6,-373.514\"/>\n<polygon fill=\"black\" stroke=\"black\" points=\"3010.48,-375.506 3013.32,-365.299 3004.74,-371.507 3010.48,-375.506\"/>\n</g>\n<!-- 63 -->\n<g id=\"node64\" class=\"node\"><title>63</title>\n<polygon fill=\"none\" stroke=\"black\" points=\"2819,-261 2688,-261 2688,-193 2819,-193 2819,-261\"/>\n<text text-anchor=\"middle\" x=\"2753.5\" y=\"-245.8\" font-family=\"Times,serif\" font-size=\"14.00\">X[6] &lt;= 0.436</text>\n<text text-anchor=\"middle\" x=\"2753.5\" y=\"-230.8\" font-family=\"Times,serif\" font-size=\"14.00\">gini = 0.486</text>\n<text text-anchor=\"middle\" x=\"2753.5\" y=\"-215.8\" font-family=\"Times,serif\" font-size=\"14.00\">samples = 60</text>\n<text text-anchor=\"middle\" x=\"2753.5\" y=\"-200.8\" font-family=\"Times,serif\" font-size=\"14.00\">value = [25, 35]</text>\n</g>\n<!-- 62&#45;&gt;63 -->\n<g id=\"edge63\" class=\"edge\"><title>62&#45;&gt;63</title>\n<path fill=\"none\" stroke=\"black\" d=\"M2849.4,-296.884C2836.25,-287.442 2821.8,-277.064 2808.2,-267.292\"/>\n<polygon fill=\"black\" stroke=\"black\" points=\"2810.02,-264.291 2799.86,-261.299 2805.94,-269.976 2810.02,-264.291\"/>\n</g>\n<!-- 70 -->\n<g id=\"node71\" class=\"node\"><title>70</title>\n<polygon fill=\"none\" stroke=\"black\" points=\"2959.5,-261 2837.5,-261 2837.5,-193 2959.5,-193 2959.5,-261\"/>\n<text text-anchor=\"middle\" x=\"2898.5\" y=\"-245.8\" font-family=\"Times,serif\" font-size=\"14.00\">X[7] &lt;= 46.5</text>\n<text text-anchor=\"middle\" x=\"2898.5\" y=\"-230.8\" font-family=\"Times,serif\" font-size=\"14.00\">gini = 0.111</text>\n<text text-anchor=\"middle\" x=\"2898.5\" y=\"-215.8\" font-family=\"Times,serif\" font-size=\"14.00\">samples = 17</text>\n<text text-anchor=\"middle\" x=\"2898.5\" y=\"-200.8\" font-family=\"Times,serif\" font-size=\"14.00\">value = [1, 16]</text>\n</g>\n<!-- 62&#45;&gt;70 -->\n<g id=\"edge70\" class=\"edge\"><title>62&#45;&gt;70</title>\n<path fill=\"none\" stroke=\"black\" d=\"M2896.47,-296.884C2896.71,-288.778 2896.97,-279.982 2897.22,-271.472\"/>\n<polygon fill=\"black\" stroke=\"black\" points=\"2900.73,-271.398 2897.52,-261.299 2893.73,-271.192 2900.73,-271.398\"/>\n</g>\n<!-- 64 -->\n<g id=\"node65\" class=\"node\"><title>64</title>\n<polygon fill=\"none\" stroke=\"black\" points=\"2679,-157 2548,-157 2548,-89 2679,-89 2679,-157\"/>\n<text text-anchor=\"middle\" x=\"2613.5\" y=\"-141.8\" font-family=\"Times,serif\" font-size=\"14.00\">X[5] &lt;= 37.25</text>\n<text text-anchor=\"middle\" x=\"2613.5\" y=\"-126.8\" font-family=\"Times,serif\" font-size=\"14.00\">gini = 0.482</text>\n<text text-anchor=\"middle\" x=\"2613.5\" y=\"-111.8\" font-family=\"Times,serif\" font-size=\"14.00\">samples = 32</text>\n<text text-anchor=\"middle\" x=\"2613.5\" y=\"-96.8\" font-family=\"Times,serif\" font-size=\"14.00\">value = [19, 13]</text>\n</g>\n<!-- 63&#45;&gt;64 -->\n<g id=\"edge64\" class=\"edge\"><title>63&#45;&gt;64</title>\n<path fill=\"none\" stroke=\"black\" d=\"M2708.05,-192.884C2695.09,-183.442 2680.84,-173.064 2667.43,-163.292\"/>\n<polygon fill=\"black\" stroke=\"black\" points=\"2669.35,-160.359 2659.21,-157.299 2665.23,-166.017 2669.35,-160.359\"/>\n</g>\n<!-- 67 -->\n<g id=\"node68\" class=\"node\"><title>67</title>\n<polygon fill=\"none\" stroke=\"black\" points=\"2819.5,-157 2697.5,-157 2697.5,-89 2819.5,-89 2819.5,-157\"/>\n<text text-anchor=\"middle\" x=\"2758.5\" y=\"-141.8\" font-family=\"Times,serif\" font-size=\"14.00\">X[5] &lt;= 40.2</text>\n<text text-anchor=\"middle\" x=\"2758.5\" y=\"-126.8\" font-family=\"Times,serif\" font-size=\"14.00\">gini = 0.337</text>\n<text text-anchor=\"middle\" x=\"2758.5\" y=\"-111.8\" font-family=\"Times,serif\" font-size=\"14.00\">samples = 28</text>\n<text text-anchor=\"middle\" x=\"2758.5\" y=\"-96.8\" font-family=\"Times,serif\" font-size=\"14.00\">value = [6, 22]</text>\n</g>\n<!-- 63&#45;&gt;67 -->\n<g id=\"edge67\" class=\"edge\"><title>63&#45;&gt;67</title>\n<path fill=\"none\" stroke=\"black\" d=\"M2755.12,-192.884C2755.52,-184.778 2755.95,-175.982 2756.37,-167.472\"/>\n<polygon fill=\"black\" stroke=\"black\" points=\"2759.87,-167.459 2756.87,-157.299 2752.88,-167.116 2759.87,-167.459\"/>\n</g>\n<!-- 65 -->\n<g id=\"node66\" class=\"node\"><title>65</title>\n<polygon fill=\"none\" stroke=\"black\" points=\"2548,-53 2417,-53 2417,-0 2548,-0 2548,-53\"/>\n<text text-anchor=\"middle\" x=\"2482.5\" y=\"-37.8\" font-family=\"Times,serif\" font-size=\"14.00\">gini = 0.499</text>\n<text text-anchor=\"middle\" x=\"2482.5\" y=\"-22.8\" font-family=\"Times,serif\" font-size=\"14.00\">samples = 25</text>\n<text text-anchor=\"middle\" x=\"2482.5\" y=\"-7.8\" font-family=\"Times,serif\" font-size=\"14.00\">value = [13, 12]</text>\n</g>\n<!-- 64&#45;&gt;65 -->\n<g id=\"edge65\" class=\"edge\"><title>64&#45;&gt;65</title>\n<path fill=\"none\" stroke=\"black\" d=\"M2567.68,-88.9485C2554.37,-79.3431 2539.86,-68.8747 2526.64,-59.345\"/>\n<polygon fill=\"black\" stroke=\"black\" points=\"2528.34,-56.2486 2518.18,-53.2367 2524.24,-61.9257 2528.34,-56.2486\"/>\n</g>\n<!-- 66 -->\n<g id=\"node67\" class=\"node\"><title>66</title>\n<polygon fill=\"none\" stroke=\"black\" points=\"2679,-53 2566,-53 2566,-0 2679,-0 2679,-53\"/>\n<text text-anchor=\"middle\" x=\"2622.5\" y=\"-37.8\" font-family=\"Times,serif\" font-size=\"14.00\">gini = 0.245</text>\n<text text-anchor=\"middle\" x=\"2622.5\" y=\"-22.8\" font-family=\"Times,serif\" font-size=\"14.00\">samples = 7</text>\n<text text-anchor=\"middle\" x=\"2622.5\" y=\"-7.8\" font-family=\"Times,serif\" font-size=\"14.00\">value = [6, 1]</text>\n</g>\n<!-- 64&#45;&gt;66 -->\n<g id=\"edge66\" class=\"edge\"><title>64&#45;&gt;66</title>\n<path fill=\"none\" stroke=\"black\" d=\"M2616.65,-88.9485C2617.44,-80.6238 2618.3,-71.6509 2619.1,-63.2027\"/>\n<polygon fill=\"black\" stroke=\"black\" points=\"2622.58,-63.5235 2620.05,-53.2367 2615.62,-62.8598 2622.58,-63.5235\"/>\n</g>\n<!-- 68 -->\n<g id=\"node69\" class=\"node\"><title>68</title>\n<polygon fill=\"none\" stroke=\"black\" points=\"2819.5,-53 2697.5,-53 2697.5,-0 2819.5,-0 2819.5,-53\"/>\n<text text-anchor=\"middle\" x=\"2758.5\" y=\"-37.8\" font-family=\"Times,serif\" font-size=\"14.00\">gini = 0.227</text>\n<text text-anchor=\"middle\" x=\"2758.5\" y=\"-22.8\" font-family=\"Times,serif\" font-size=\"14.00\">samples = 23</text>\n<text text-anchor=\"middle\" x=\"2758.5\" y=\"-7.8\" font-family=\"Times,serif\" font-size=\"14.00\">value = [3, 20]</text>\n</g>\n<!-- 67&#45;&gt;68 -->\n<g id=\"edge68\" class=\"edge\"><title>67&#45;&gt;68</title>\n<path fill=\"none\" stroke=\"black\" d=\"M2758.5,-88.9485C2758.5,-80.7153 2758.5,-71.848 2758.5,-63.4814\"/>\n<polygon fill=\"black\" stroke=\"black\" points=\"2762,-63.2367 2758.5,-53.2367 2755,-63.2367 2762,-63.2367\"/>\n</g>\n<!-- 69 -->\n<g id=\"node70\" class=\"node\"><title>69</title>\n<polygon fill=\"none\" stroke=\"black\" points=\"2951,-53 2838,-53 2838,-0 2951,-0 2951,-53\"/>\n<text text-anchor=\"middle\" x=\"2894.5\" y=\"-37.8\" font-family=\"Times,serif\" font-size=\"14.00\">gini = 0.48</text>\n<text text-anchor=\"middle\" x=\"2894.5\" y=\"-22.8\" font-family=\"Times,serif\" font-size=\"14.00\">samples = 5</text>\n<text text-anchor=\"middle\" x=\"2894.5\" y=\"-7.8\" font-family=\"Times,serif\" font-size=\"14.00\">value = [3, 2]</text>\n</g>\n<!-- 67&#45;&gt;69 -->\n<g id=\"edge69\" class=\"edge\"><title>67&#45;&gt;69</title>\n<path fill=\"none\" stroke=\"black\" d=\"M2806.07,-88.9485C2820.02,-79.2516 2835.24,-68.6752 2849.06,-59.073\"/>\n<polygon fill=\"black\" stroke=\"black\" points=\"2851.25,-61.8172 2857.46,-53.2367 2847.25,-56.0687 2851.25,-61.8172\"/>\n</g>\n<!-- 71 -->\n<g id=\"node72\" class=\"node\"><title>71</title>\n<polygon fill=\"none\" stroke=\"black\" points=\"2959.5,-149.5 2837.5,-149.5 2837.5,-96.5 2959.5,-96.5 2959.5,-149.5\"/>\n<text text-anchor=\"middle\" x=\"2898.5\" y=\"-134.3\" font-family=\"Times,serif\" font-size=\"14.00\">gini = 0.0</text>\n<text text-anchor=\"middle\" x=\"2898.5\" y=\"-119.3\" font-family=\"Times,serif\" font-size=\"14.00\">samples = 16</text>\n<text text-anchor=\"middle\" x=\"2898.5\" y=\"-104.3\" font-family=\"Times,serif\" font-size=\"14.00\">value = [0, 16]</text>\n</g>\n<!-- 70&#45;&gt;71 -->\n<g id=\"edge71\" class=\"edge\"><title>70&#45;&gt;71</title>\n<path fill=\"none\" stroke=\"black\" d=\"M2898.5,-192.884C2898.5,-182.326 2898.5,-170.597 2898.5,-159.854\"/>\n<polygon fill=\"black\" stroke=\"black\" points=\"2902,-159.52 2898.5,-149.52 2895,-159.52 2902,-159.52\"/>\n</g>\n<!-- 72 -->\n<g id=\"node73\" class=\"node\"><title>72</title>\n<polygon fill=\"none\" stroke=\"black\" points=\"3091,-149.5 2978,-149.5 2978,-96.5 3091,-96.5 3091,-149.5\"/>\n<text text-anchor=\"middle\" x=\"3034.5\" y=\"-134.3\" font-family=\"Times,serif\" font-size=\"14.00\">gini = 0.0</text>\n<text text-anchor=\"middle\" x=\"3034.5\" y=\"-119.3\" font-family=\"Times,serif\" font-size=\"14.00\">samples = 1</text>\n<text text-anchor=\"middle\" x=\"3034.5\" y=\"-104.3\" font-family=\"Times,serif\" font-size=\"14.00\">value = [1, 0]</text>\n</g>\n<!-- 70&#45;&gt;72 -->\n<g id=\"edge72\" class=\"edge\"><title>70&#45;&gt;72</title>\n<path fill=\"none\" stroke=\"black\" d=\"M2942.66,-192.884C2958.64,-180.896 2976.63,-167.399 2992.43,-155.549\"/>\n<polygon fill=\"black\" stroke=\"black\" points=\"2994.57,-158.32 3000.47,-149.52 2990.37,-152.72 2994.57,-158.32\"/>\n</g>\n<!-- 74 -->\n<g id=\"node75\" class=\"node\"><title>74</title>\n<polygon fill=\"none\" stroke=\"black\" points=\"3091,-253.5 2978,-253.5 2978,-200.5 3091,-200.5 3091,-253.5\"/>\n<text text-anchor=\"middle\" x=\"3034.5\" y=\"-238.3\" font-family=\"Times,serif\" font-size=\"14.00\">gini = 0.0</text>\n<text text-anchor=\"middle\" x=\"3034.5\" y=\"-223.3\" font-family=\"Times,serif\" font-size=\"14.00\">samples = 9</text>\n<text text-anchor=\"middle\" x=\"3034.5\" y=\"-208.3\" font-family=\"Times,serif\" font-size=\"14.00\">value = [9, 0]</text>\n</g>\n<!-- 73&#45;&gt;74 -->\n<g id=\"edge74\" class=\"edge\"><title>73&#45;&gt;74</title>\n<path fill=\"none\" stroke=\"black\" d=\"M3035.85,-296.884C3035.64,-286.216 3035.41,-274.352 3035.2,-263.519\"/>\n<polygon fill=\"black\" stroke=\"black\" points=\"3038.7,-263.449 3035,-253.52 3031.7,-263.587 3038.7,-263.449\"/>\n</g>\n<!-- 75 -->\n<g id=\"node76\" class=\"node\"><title>75</title>\n<polygon fill=\"none\" stroke=\"black\" points=\"3222,-253.5 3109,-253.5 3109,-200.5 3222,-200.5 3222,-253.5\"/>\n<text text-anchor=\"middle\" x=\"3165.5\" y=\"-238.3\" font-family=\"Times,serif\" font-size=\"14.00\">gini = 0.0</text>\n<text text-anchor=\"middle\" x=\"3165.5\" y=\"-223.3\" font-family=\"Times,serif\" font-size=\"14.00\">samples = 1</text>\n<text text-anchor=\"middle\" x=\"3165.5\" y=\"-208.3\" font-family=\"Times,serif\" font-size=\"14.00\">value = [0, 1]</text>\n</g>\n<!-- 73&#45;&gt;75 -->\n<g id=\"edge75\" class=\"edge\"><title>73&#45;&gt;75</title>\n<path fill=\"none\" stroke=\"black\" d=\"M3078.38,-296.884C3093.4,-285.006 3110.3,-271.646 3125.19,-259.876\"/>\n<polygon fill=\"black\" stroke=\"black\" points=\"3127.55,-262.468 3133.22,-253.52 3123.21,-256.977 3127.55,-262.468\"/>\n</g>\n<!-- 77 -->\n<g id=\"node78\" class=\"node\"><title>77</title>\n<polygon fill=\"none\" stroke=\"black\" points=\"3426,-365 3295,-365 3295,-297 3426,-297 3426,-365\"/>\n<text text-anchor=\"middle\" x=\"3360.5\" y=\"-349.8\" font-family=\"Times,serif\" font-size=\"14.00\">X[6] &lt;= 0.135</text>\n<text text-anchor=\"middle\" x=\"3360.5\" y=\"-334.8\" font-family=\"Times,serif\" font-size=\"14.00\">gini = 0.231</text>\n<text text-anchor=\"middle\" x=\"3360.5\" y=\"-319.8\" font-family=\"Times,serif\" font-size=\"14.00\">samples = 75</text>\n<text text-anchor=\"middle\" x=\"3360.5\" y=\"-304.8\" font-family=\"Times,serif\" font-size=\"14.00\">value = [10, 65]</text>\n</g>\n<!-- 76&#45;&gt;77 -->\n<g id=\"edge77\" class=\"edge\"><title>76&#45;&gt;77</title>\n<path fill=\"none\" stroke=\"black\" d=\"M3360.5,-400.884C3360.5,-392.778 3360.5,-383.982 3360.5,-375.472\"/>\n<polygon fill=\"black\" stroke=\"black\" points=\"3364,-375.299 3360.5,-365.299 3357,-375.299 3364,-375.299\"/>\n</g>\n<!-- 86 -->\n<g id=\"node87\" class=\"node\"><title>86</title>\n<polygon fill=\"none\" stroke=\"black\" points=\"3628.5,-365 3508.5,-365 3508.5,-297 3628.5,-297 3628.5,-365\"/>\n<text text-anchor=\"middle\" x=\"3568.5\" y=\"-349.8\" font-family=\"Times,serif\" font-size=\"14.00\">X[4] &lt;= 795.0</text>\n<text text-anchor=\"middle\" x=\"3568.5\" y=\"-334.8\" font-family=\"Times,serif\" font-size=\"14.00\">gini = 0.444</text>\n<text text-anchor=\"middle\" x=\"3568.5\" y=\"-319.8\" font-family=\"Times,serif\" font-size=\"14.00\">samples = 3</text>\n<text text-anchor=\"middle\" x=\"3568.5\" y=\"-304.8\" font-family=\"Times,serif\" font-size=\"14.00\">value = [2, 1]</text>\n</g>\n<!-- 76&#45;&gt;86 -->\n<g id=\"edge86\" class=\"edge\"><title>76&#45;&gt;86</title>\n<path fill=\"none\" stroke=\"black\" d=\"M3426.03,-401.867C3449.26,-390.474 3475.47,-377.618 3499.02,-366.07\"/>\n<polygon fill=\"black\" stroke=\"black\" points=\"3500.81,-369.092 3508.25,-361.546 3497.73,-362.807 3500.81,-369.092\"/>\n</g>\n<!-- 78 -->\n<g id=\"node79\" class=\"node\"><title>78</title>\n<polygon fill=\"none\" stroke=\"black\" points=\"3353,-253.5 3240,-253.5 3240,-200.5 3353,-200.5 3353,-253.5\"/>\n<text text-anchor=\"middle\" x=\"3296.5\" y=\"-238.3\" font-family=\"Times,serif\" font-size=\"14.00\">gini = 0.0</text>\n<text text-anchor=\"middle\" x=\"3296.5\" y=\"-223.3\" font-family=\"Times,serif\" font-size=\"14.00\">samples = 1</text>\n<text text-anchor=\"middle\" x=\"3296.5\" y=\"-208.3\" font-family=\"Times,serif\" font-size=\"14.00\">value = [1, 0]</text>\n</g>\n<!-- 77&#45;&gt;78 -->\n<g id=\"edge78\" class=\"edge\"><title>77&#45;&gt;78</title>\n<path fill=\"none\" stroke=\"black\" d=\"M3339.72,-296.884C3332.75,-285.776 3324.97,-273.372 3317.95,-262.184\"/>\n<polygon fill=\"black\" stroke=\"black\" points=\"3320.79,-260.13 3312.51,-253.52 3314.86,-263.851 3320.79,-260.13\"/>\n</g>\n<!-- 79 -->\n<g id=\"node80\" class=\"node\"><title>79</title>\n<polygon fill=\"none\" stroke=\"black\" points=\"3493.5,-261 3371.5,-261 3371.5,-193 3493.5,-193 3493.5,-261\"/>\n<text text-anchor=\"middle\" x=\"3432.5\" y=\"-245.8\" font-family=\"Times,serif\" font-size=\"14.00\">X[6] &lt;= 0.348</text>\n<text text-anchor=\"middle\" x=\"3432.5\" y=\"-230.8\" font-family=\"Times,serif\" font-size=\"14.00\">gini = 0.214</text>\n<text text-anchor=\"middle\" x=\"3432.5\" y=\"-215.8\" font-family=\"Times,serif\" font-size=\"14.00\">samples = 74</text>\n<text text-anchor=\"middle\" x=\"3432.5\" y=\"-200.8\" font-family=\"Times,serif\" font-size=\"14.00\">value = [9, 65]</text>\n</g>\n<!-- 77&#45;&gt;79 -->\n<g id=\"edge79\" class=\"edge\"><title>77&#45;&gt;79</title>\n<path fill=\"none\" stroke=\"black\" d=\"M3383.88,-296.884C3390.04,-288.154 3396.76,-278.625 3403.2,-269.514\"/>\n<polygon fill=\"black\" stroke=\"black\" points=\"3406.09,-271.487 3408.99,-261.299 3400.37,-267.451 3406.09,-271.487\"/>\n</g>\n<!-- 80 -->\n<g id=\"node81\" class=\"node\"><title>80</title>\n<polygon fill=\"none\" stroke=\"black\" points=\"3423.5,-157 3301.5,-157 3301.5,-89 3423.5,-89 3423.5,-157\"/>\n<text text-anchor=\"middle\" x=\"3362.5\" y=\"-141.8\" font-family=\"Times,serif\" font-size=\"14.00\">X[6] &lt;= 0.34</text>\n<text text-anchor=\"middle\" x=\"3362.5\" y=\"-126.8\" font-family=\"Times,serif\" font-size=\"14.00\">gini = 0.355</text>\n<text text-anchor=\"middle\" x=\"3362.5\" y=\"-111.8\" font-family=\"Times,serif\" font-size=\"14.00\">samples = 26</text>\n<text text-anchor=\"middle\" x=\"3362.5\" y=\"-96.8\" font-family=\"Times,serif\" font-size=\"14.00\">value = [6, 20]</text>\n</g>\n<!-- 79&#45;&gt;80 -->\n<g id=\"edge80\" class=\"edge\"><title>79&#45;&gt;80</title>\n<path fill=\"none\" stroke=\"black\" d=\"M3409.77,-192.884C3403.84,-184.243 3397.38,-174.819 3391.18,-165.793\"/>\n<polygon fill=\"black\" stroke=\"black\" points=\"3393.9,-163.564 3385.35,-157.299 3388.13,-167.525 3393.9,-163.564\"/>\n</g>\n<!-- 83 -->\n<g id=\"node84\" class=\"node\"><title>83</title>\n<polygon fill=\"none\" stroke=\"black\" points=\"3563.5,-157 3441.5,-157 3441.5,-89 3563.5,-89 3563.5,-157\"/>\n<text text-anchor=\"middle\" x=\"3502.5\" y=\"-141.8\" font-family=\"Times,serif\" font-size=\"14.00\">X[7] &lt;= 43.5</text>\n<text text-anchor=\"middle\" x=\"3502.5\" y=\"-126.8\" font-family=\"Times,serif\" font-size=\"14.00\">gini = 0.117</text>\n<text text-anchor=\"middle\" x=\"3502.5\" y=\"-111.8\" font-family=\"Times,serif\" font-size=\"14.00\">samples = 48</text>\n<text text-anchor=\"middle\" x=\"3502.5\" y=\"-96.8\" font-family=\"Times,serif\" font-size=\"14.00\">value = [3, 45]</text>\n</g>\n<!-- 79&#45;&gt;83 -->\n<g id=\"edge83\" class=\"edge\"><title>79&#45;&gt;83</title>\n<path fill=\"none\" stroke=\"black\" d=\"M3455.23,-192.884C3461.16,-184.243 3467.62,-174.819 3473.82,-165.793\"/>\n<polygon fill=\"black\" stroke=\"black\" points=\"3476.87,-167.525 3479.65,-157.299 3471.1,-163.564 3476.87,-167.525\"/>\n</g>\n<!-- 81 -->\n<g id=\"node82\" class=\"node\"><title>81</title>\n<polygon fill=\"none\" stroke=\"black\" points=\"3289.5,-53 3167.5,-53 3167.5,-0 3289.5,-0 3289.5,-53\"/>\n<text text-anchor=\"middle\" x=\"3228.5\" y=\"-37.8\" font-family=\"Times,serif\" font-size=\"14.00\">gini = 0.32</text>\n<text text-anchor=\"middle\" x=\"3228.5\" y=\"-22.8\" font-family=\"Times,serif\" font-size=\"14.00\">samples = 25</text>\n<text text-anchor=\"middle\" x=\"3228.5\" y=\"-7.8\" font-family=\"Times,serif\" font-size=\"14.00\">value = [5, 20]</text>\n</g>\n<!-- 80&#45;&gt;81 -->\n<g id=\"edge81\" class=\"edge\"><title>80&#45;&gt;81</title>\n<path fill=\"none\" stroke=\"black\" d=\"M3315.63,-88.9485C3301.88,-79.2516 3286.89,-68.6752 3273.27,-59.073\"/>\n<polygon fill=\"black\" stroke=\"black\" points=\"3275.18,-56.1397 3264.99,-53.2367 3271.15,-61.8603 3275.18,-56.1397\"/>\n</g>\n<!-- 82 -->\n<g id=\"node83\" class=\"node\"><title>82</title>\n<polygon fill=\"none\" stroke=\"black\" points=\"3421,-53 3308,-53 3308,-0 3421,-0 3421,-53\"/>\n<text text-anchor=\"middle\" x=\"3364.5\" y=\"-37.8\" font-family=\"Times,serif\" font-size=\"14.00\">gini = 0.0</text>\n<text text-anchor=\"middle\" x=\"3364.5\" y=\"-22.8\" font-family=\"Times,serif\" font-size=\"14.00\">samples = 1</text>\n<text text-anchor=\"middle\" x=\"3364.5\" y=\"-7.8\" font-family=\"Times,serif\" font-size=\"14.00\">value = [1, 0]</text>\n</g>\n<!-- 80&#45;&gt;82 -->\n<g id=\"edge82\" class=\"edge\"><title>80&#45;&gt;82</title>\n<path fill=\"none\" stroke=\"black\" d=\"M3363.2,-88.9485C3363.37,-80.7153 3363.56,-71.848 3363.74,-63.4814\"/>\n<polygon fill=\"black\" stroke=\"black\" points=\"3367.24,-63.3086 3363.96,-53.2367 3360.24,-63.1604 3367.24,-63.3086\"/>\n</g>\n<!-- 84 -->\n<g id=\"node85\" class=\"node\"><title>84</title>\n<polygon fill=\"none\" stroke=\"black\" points=\"3562.5,-53 3440.5,-53 3440.5,-0 3562.5,-0 3562.5,-53\"/>\n<text text-anchor=\"middle\" x=\"3501.5\" y=\"-37.8\" font-family=\"Times,serif\" font-size=\"14.00\">gini = 0.0</text>\n<text text-anchor=\"middle\" x=\"3501.5\" y=\"-22.8\" font-family=\"Times,serif\" font-size=\"14.00\">samples = 35</text>\n<text text-anchor=\"middle\" x=\"3501.5\" y=\"-7.8\" font-family=\"Times,serif\" font-size=\"14.00\">value = [0, 35]</text>\n</g>\n<!-- 83&#45;&gt;84 -->\n<g id=\"edge84\" class=\"edge\"><title>83&#45;&gt;84</title>\n<path fill=\"none\" stroke=\"black\" d=\"M3502.15,-88.9485C3502.06,-80.7153 3501.97,-71.848 3501.88,-63.4814\"/>\n<polygon fill=\"black\" stroke=\"black\" points=\"3505.38,-63.1991 3501.77,-53.2367 3498.38,-63.2732 3505.38,-63.1991\"/>\n</g>\n<!-- 85 -->\n<g id=\"node86\" class=\"node\"><title>85</title>\n<polygon fill=\"none\" stroke=\"black\" points=\"3702.5,-53 3580.5,-53 3580.5,-0 3702.5,-0 3702.5,-53\"/>\n<text text-anchor=\"middle\" x=\"3641.5\" y=\"-37.8\" font-family=\"Times,serif\" font-size=\"14.00\">gini = 0.355</text>\n<text text-anchor=\"middle\" x=\"3641.5\" y=\"-22.8\" font-family=\"Times,serif\" font-size=\"14.00\">samples = 13</text>\n<text text-anchor=\"middle\" x=\"3641.5\" y=\"-7.8\" font-family=\"Times,serif\" font-size=\"14.00\">value = [3, 10]</text>\n</g>\n<!-- 83&#45;&gt;85 -->\n<g id=\"edge85\" class=\"edge\"><title>83&#45;&gt;85</title>\n<path fill=\"none\" stroke=\"black\" d=\"M3551.12,-88.9485C3565.38,-79.2516 3580.94,-68.6752 3595.06,-59.073\"/>\n<polygon fill=\"black\" stroke=\"black\" points=\"3597.34,-61.7535 3603.64,-53.2367 3593.41,-55.9646 3597.34,-61.7535\"/>\n</g>\n<!-- 87 -->\n<g id=\"node88\" class=\"node\"><title>87</title>\n<polygon fill=\"none\" stroke=\"black\" points=\"3625,-253.5 3512,-253.5 3512,-200.5 3625,-200.5 3625,-253.5\"/>\n<text text-anchor=\"middle\" x=\"3568.5\" y=\"-238.3\" font-family=\"Times,serif\" font-size=\"14.00\">gini = 0.0</text>\n<text text-anchor=\"middle\" x=\"3568.5\" y=\"-223.3\" font-family=\"Times,serif\" font-size=\"14.00\">samples = 2</text>\n<text text-anchor=\"middle\" x=\"3568.5\" y=\"-208.3\" font-family=\"Times,serif\" font-size=\"14.00\">value = [2, 0]</text>\n</g>\n<!-- 86&#45;&gt;87 -->\n<g id=\"edge87\" class=\"edge\"><title>86&#45;&gt;87</title>\n<path fill=\"none\" stroke=\"black\" d=\"M3568.5,-296.884C3568.5,-286.326 3568.5,-274.597 3568.5,-263.854\"/>\n<polygon fill=\"black\" stroke=\"black\" points=\"3572,-263.52 3568.5,-253.52 3565,-263.52 3572,-263.52\"/>\n</g>\n<!-- 88 -->\n<g id=\"node89\" class=\"node\"><title>88</title>\n<polygon fill=\"none\" stroke=\"black\" points=\"3756,-253.5 3643,-253.5 3643,-200.5 3756,-200.5 3756,-253.5\"/>\n<text text-anchor=\"middle\" x=\"3699.5\" y=\"-238.3\" font-family=\"Times,serif\" font-size=\"14.00\">gini = 0.0</text>\n<text text-anchor=\"middle\" x=\"3699.5\" y=\"-223.3\" font-family=\"Times,serif\" font-size=\"14.00\">samples = 1</text>\n<text text-anchor=\"middle\" x=\"3699.5\" y=\"-208.3\" font-family=\"Times,serif\" font-size=\"14.00\">value = [0, 1]</text>\n</g>\n<!-- 86&#45;&gt;88 -->\n<g id=\"edge88\" class=\"edge\"><title>86&#45;&gt;88</title>\n<path fill=\"none\" stroke=\"black\" d=\"M3611.03,-296.884C3626.29,-285.006 3643.44,-271.646 3658.56,-259.876\"/>\n<polygon fill=\"black\" stroke=\"black\" points=\"3660.98,-262.425 3666.72,-253.52 3656.68,-256.902 3660.98,-262.425\"/>\n</g>\n</g>\n</svg>\n"
          },
          "metadata": {
            "tags": []
          },
          "execution_count": 46
        }
      ]
    },
    {
      "metadata": {
        "id": "k7z9D4LktLm6",
        "colab_type": "code",
        "colab": {
          "base_uri": "https://localhost:8080/",
          "height": 816
        },
        "outputId": "59498ebf-097a-4def-dc6c-4b7b568ab009"
      },
      "cell_type": "code",
      "source": [
        "graph2 = graphviz.Source(tree.export_graphviz(clf_entropy, out_file=None))\n",
        "graph2"
      ],
      "execution_count": 47,
      "outputs": [
        {
          "output_type": "execute_result",
          "data": {
            "text/plain": [
              "<graphviz.files.Source at 0x7f84bfb6e4e0>"
            ],
            "image/svg+xml": "<?xml version=\"1.0\" encoding=\"UTF-8\" standalone=\"no\"?>\n<!DOCTYPE svg PUBLIC \"-//W3C//DTD SVG 1.1//EN\"\n \"http://www.w3.org/Graphics/SVG/1.1/DTD/svg11.dtd\">\n<!-- Generated by graphviz version 2.38.0 (20140413.2041)\n -->\n<!-- Title: Tree Pages: 1 -->\n<svg width=\"2464pt\" height=\"581pt\"\n viewBox=\"0.00 0.00 2464.00 581.00\" xmlns=\"http://www.w3.org/2000/svg\" xmlns:xlink=\"http://www.w3.org/1999/xlink\">\n<g id=\"graph0\" class=\"graph\" transform=\"scale(1 1) rotate(0) translate(4 577)\">\n<title>Tree</title>\n<polygon fill=\"white\" stroke=\"none\" points=\"-4,4 -4,-577 2460,-577 2460,4 -4,4\"/>\n<!-- 0 -->\n<g id=\"node1\" class=\"node\"><title>0</title>\n<polygon fill=\"none\" stroke=\"black\" points=\"1053.5,-573 904.5,-573 904.5,-505 1053.5,-505 1053.5,-573\"/>\n<text text-anchor=\"middle\" x=\"979\" y=\"-557.8\" font-family=\"Times,serif\" font-size=\"14.00\">X[1] &lt;= 127.5</text>\n<text text-anchor=\"middle\" x=\"979\" y=\"-542.8\" font-family=\"Times,serif\" font-size=\"14.00\">entropy = 0.941</text>\n<text text-anchor=\"middle\" x=\"979\" y=\"-527.8\" font-family=\"Times,serif\" font-size=\"14.00\">samples = 575</text>\n<text text-anchor=\"middle\" x=\"979\" y=\"-512.8\" font-family=\"Times,serif\" font-size=\"14.00\">value = [369, 206]</text>\n</g>\n<!-- 1 -->\n<g id=\"node2\" class=\"node\"><title>1</title>\n<polygon fill=\"none\" stroke=\"black\" points=\"758,-469 618,-469 618,-401 758,-401 758,-469\"/>\n<text text-anchor=\"middle\" x=\"688\" y=\"-453.8\" font-family=\"Times,serif\" font-size=\"14.00\">X[5] &lt;= 27.35</text>\n<text text-anchor=\"middle\" x=\"688\" y=\"-438.8\" font-family=\"Times,serif\" font-size=\"14.00\">entropy = 0.706</text>\n<text text-anchor=\"middle\" x=\"688\" y=\"-423.8\" font-family=\"Times,serif\" font-size=\"14.00\">samples = 354</text>\n<text text-anchor=\"middle\" x=\"688\" y=\"-408.8\" font-family=\"Times,serif\" font-size=\"14.00\">value = [286, 68]</text>\n</g>\n<!-- 0&#45;&gt;1 -->\n<g id=\"edge1\" class=\"edge\"><title>0&#45;&gt;1</title>\n<path fill=\"none\" stroke=\"black\" d=\"M904.438,-511.865C862.638,-497.213 810.495,-478.936 767.863,-463.993\"/>\n<polygon fill=\"black\" stroke=\"black\" points=\"768.957,-460.668 758.363,-460.663 766.642,-467.274 768.957,-460.668\"/>\n<text text-anchor=\"middle\" x=\"769.198\" y=\"-479.493\" font-family=\"Times,serif\" font-size=\"14.00\">True</text>\n</g>\n<!-- 22 -->\n<g id=\"node23\" class=\"node\"><title>22</title>\n<polygon fill=\"none\" stroke=\"black\" points=\"1489,-469 1349,-469 1349,-401 1489,-401 1489,-469\"/>\n<text text-anchor=\"middle\" x=\"1419\" y=\"-453.8\" font-family=\"Times,serif\" font-size=\"14.00\">X[5] &lt;= 29.95</text>\n<text text-anchor=\"middle\" x=\"1419\" y=\"-438.8\" font-family=\"Times,serif\" font-size=\"14.00\">entropy = 0.955</text>\n<text text-anchor=\"middle\" x=\"1419\" y=\"-423.8\" font-family=\"Times,serif\" font-size=\"14.00\">samples = 221</text>\n<text text-anchor=\"middle\" x=\"1419\" y=\"-408.8\" font-family=\"Times,serif\" font-size=\"14.00\">value = [83, 138]</text>\n</g>\n<!-- 0&#45;&gt;22 -->\n<g id=\"edge22\" class=\"edge\"><title>0&#45;&gt;22</title>\n<path fill=\"none\" stroke=\"black\" d=\"M1053.64,-520.697C1132.76,-502.356 1257.28,-473.489 1338.55,-454.651\"/>\n<polygon fill=\"black\" stroke=\"black\" points=\"1339.78,-457.958 1348.73,-452.29 1338.2,-451.139 1339.78,-457.958\"/>\n<text text-anchor=\"middle\" x=\"1335.5\" y=\"-469.804\" font-family=\"Times,serif\" font-size=\"14.00\">False</text>\n</g>\n<!-- 2 -->\n<g id=\"node3\" class=\"node\"><title>2</title>\n<polygon fill=\"none\" stroke=\"black\" points=\"280,-365 146,-365 146,-297 280,-297 280,-365\"/>\n<text text-anchor=\"middle\" x=\"213\" y=\"-349.8\" font-family=\"Times,serif\" font-size=\"14.00\">X[0] &lt;= 6.5</text>\n<text text-anchor=\"middle\" x=\"213\" y=\"-334.8\" font-family=\"Times,serif\" font-size=\"14.00\">entropy = 0.134</text>\n<text text-anchor=\"middle\" x=\"213\" y=\"-319.8\" font-family=\"Times,serif\" font-size=\"14.00\">samples = 107</text>\n<text text-anchor=\"middle\" x=\"213\" y=\"-304.8\" font-family=\"Times,serif\" font-size=\"14.00\">value = [105, 2]</text>\n</g>\n<!-- 1&#45;&gt;2 -->\n<g id=\"edge2\" class=\"edge\"><title>1&#45;&gt;2</title>\n<path fill=\"none\" stroke=\"black\" d=\"M617.912,-418.95C530.356,-400.148 381.036,-368.083 290.256,-348.59\"/>\n<polygon fill=\"black\" stroke=\"black\" points=\"290.812,-345.129 280.3,-346.452 289.342,-351.973 290.812,-345.129\"/>\n</g>\n<!-- 7 -->\n<g id=\"node8\" class=\"node\"><title>7</title>\n<polygon fill=\"none\" stroke=\"black\" points=\"758,-365 618,-365 618,-297 758,-297 758,-365\"/>\n<text text-anchor=\"middle\" x=\"688\" y=\"-349.8\" font-family=\"Times,serif\" font-size=\"14.00\">X[7] &lt;= 30.5</text>\n<text text-anchor=\"middle\" x=\"688\" y=\"-334.8\" font-family=\"Times,serif\" font-size=\"14.00\">entropy = 0.837</text>\n<text text-anchor=\"middle\" x=\"688\" y=\"-319.8\" font-family=\"Times,serif\" font-size=\"14.00\">samples = 247</text>\n<text text-anchor=\"middle\" x=\"688\" y=\"-304.8\" font-family=\"Times,serif\" font-size=\"14.00\">value = [181, 66]</text>\n</g>\n<!-- 1&#45;&gt;7 -->\n<g id=\"edge7\" class=\"edge\"><title>1&#45;&gt;7</title>\n<path fill=\"none\" stroke=\"black\" d=\"M688,-400.884C688,-392.778 688,-383.982 688,-375.472\"/>\n<polygon fill=\"black\" stroke=\"black\" points=\"691.5,-375.299 688,-365.299 684.5,-375.299 691.5,-375.299\"/>\n</g>\n<!-- 3 -->\n<g id=\"node4\" class=\"node\"><title>3</title>\n<polygon fill=\"none\" stroke=\"black\" points=\"128,-253.5 6,-253.5 6,-200.5 128,-200.5 128,-253.5\"/>\n<text text-anchor=\"middle\" x=\"67\" y=\"-238.3\" font-family=\"Times,serif\" font-size=\"14.00\">entropy = 0.0</text>\n<text text-anchor=\"middle\" x=\"67\" y=\"-223.3\" font-family=\"Times,serif\" font-size=\"14.00\">samples = 90</text>\n<text text-anchor=\"middle\" x=\"67\" y=\"-208.3\" font-family=\"Times,serif\" font-size=\"14.00\">value = [90, 0]</text>\n</g>\n<!-- 2&#45;&gt;3 -->\n<g id=\"edge3\" class=\"edge\"><title>2&#45;&gt;3</title>\n<path fill=\"none\" stroke=\"black\" d=\"M165.598,-296.884C148.439,-284.896 129.12,-271.399 112.159,-259.549\"/>\n<polygon fill=\"black\" stroke=\"black\" points=\"113.731,-256.378 103.529,-253.52 109.722,-262.116 113.731,-256.378\"/>\n</g>\n<!-- 4 -->\n<g id=\"node5\" class=\"node\"><title>4</title>\n<polygon fill=\"none\" stroke=\"black\" points=\"280,-261 146,-261 146,-193 280,-193 280,-261\"/>\n<text text-anchor=\"middle\" x=\"213\" y=\"-245.8\" font-family=\"Times,serif\" font-size=\"14.00\">X[7] &lt;= 32.0</text>\n<text text-anchor=\"middle\" x=\"213\" y=\"-230.8\" font-family=\"Times,serif\" font-size=\"14.00\">entropy = 0.523</text>\n<text text-anchor=\"middle\" x=\"213\" y=\"-215.8\" font-family=\"Times,serif\" font-size=\"14.00\">samples = 17</text>\n<text text-anchor=\"middle\" x=\"213\" y=\"-200.8\" font-family=\"Times,serif\" font-size=\"14.00\">value = [15, 2]</text>\n</g>\n<!-- 2&#45;&gt;4 -->\n<g id=\"edge4\" class=\"edge\"><title>2&#45;&gt;4</title>\n<path fill=\"none\" stroke=\"black\" d=\"M213,-296.884C213,-288.778 213,-279.982 213,-271.472\"/>\n<polygon fill=\"black\" stroke=\"black\" points=\"216.5,-271.299 213,-261.299 209.5,-271.299 216.5,-271.299\"/>\n</g>\n<!-- 5 -->\n<g id=\"node6\" class=\"node\"><title>5</title>\n<polygon fill=\"none\" stroke=\"black\" points=\"134,-149.5 0,-149.5 0,-96.5 134,-96.5 134,-149.5\"/>\n<text text-anchor=\"middle\" x=\"67\" y=\"-134.3\" font-family=\"Times,serif\" font-size=\"14.00\">entropy = 0.918</text>\n<text text-anchor=\"middle\" x=\"67\" y=\"-119.3\" font-family=\"Times,serif\" font-size=\"14.00\">samples = 3</text>\n<text text-anchor=\"middle\" x=\"67\" y=\"-104.3\" font-family=\"Times,serif\" font-size=\"14.00\">value = [1, 2]</text>\n</g>\n<!-- 4&#45;&gt;5 -->\n<g id=\"edge5\" class=\"edge\"><title>4&#45;&gt;5</title>\n<path fill=\"none\" stroke=\"black\" d=\"M165.598,-192.884C148.439,-180.896 129.12,-167.399 112.159,-155.549\"/>\n<polygon fill=\"black\" stroke=\"black\" points=\"113.731,-152.378 103.529,-149.52 109.722,-158.116 113.731,-152.378\"/>\n</g>\n<!-- 6 -->\n<g id=\"node7\" class=\"node\"><title>6</title>\n<polygon fill=\"none\" stroke=\"black\" points=\"274,-149.5 152,-149.5 152,-96.5 274,-96.5 274,-149.5\"/>\n<text text-anchor=\"middle\" x=\"213\" y=\"-134.3\" font-family=\"Times,serif\" font-size=\"14.00\">entropy = 0.0</text>\n<text text-anchor=\"middle\" x=\"213\" y=\"-119.3\" font-family=\"Times,serif\" font-size=\"14.00\">samples = 14</text>\n<text text-anchor=\"middle\" x=\"213\" y=\"-104.3\" font-family=\"Times,serif\" font-size=\"14.00\">value = [14, 0]</text>\n</g>\n<!-- 4&#45;&gt;6 -->\n<g id=\"edge6\" class=\"edge\"><title>4&#45;&gt;6</title>\n<path fill=\"none\" stroke=\"black\" d=\"M213,-192.884C213,-182.326 213,-170.597 213,-159.854\"/>\n<polygon fill=\"black\" stroke=\"black\" points=\"216.5,-159.52 213,-149.52 209.5,-159.52 216.5,-159.52\"/>\n</g>\n<!-- 8 -->\n<g id=\"node9\" class=\"node\"><title>8</title>\n<polygon fill=\"none\" stroke=\"black\" points=\"652,-261 512,-261 512,-193 652,-193 652,-261\"/>\n<text text-anchor=\"middle\" x=\"582\" y=\"-245.8\" font-family=\"Times,serif\" font-size=\"14.00\">X[6] &lt;= 0.664</text>\n<text text-anchor=\"middle\" x=\"582\" y=\"-230.8\" font-family=\"Times,serif\" font-size=\"14.00\">entropy = 0.622</text>\n<text text-anchor=\"middle\" x=\"582\" y=\"-215.8\" font-family=\"Times,serif\" font-size=\"14.00\">samples = 142</text>\n<text text-anchor=\"middle\" x=\"582\" y=\"-200.8\" font-family=\"Times,serif\" font-size=\"14.00\">value = [120, 22]</text>\n</g>\n<!-- 7&#45;&gt;8 -->\n<g id=\"edge8\" class=\"edge\"><title>7&#45;&gt;8</title>\n<path fill=\"none\" stroke=\"black\" d=\"M653.585,-296.884C644.143,-287.798 633.8,-277.845 623.985,-268.4\"/>\n<polygon fill=\"black\" stroke=\"black\" points=\"626.238,-265.711 616.605,-261.299 621.384,-270.755 626.238,-265.711\"/>\n</g>\n<!-- 15 -->\n<g id=\"node16\" class=\"node\"><title>15</title>\n<polygon fill=\"none\" stroke=\"black\" points=\"901,-261 767,-261 767,-193 901,-193 901,-261\"/>\n<text text-anchor=\"middle\" x=\"834\" y=\"-245.8\" font-family=\"Times,serif\" font-size=\"14.00\">X[1] &lt;= 96.5</text>\n<text text-anchor=\"middle\" x=\"834\" y=\"-230.8\" font-family=\"Times,serif\" font-size=\"14.00\">entropy = 0.981</text>\n<text text-anchor=\"middle\" x=\"834\" y=\"-215.8\" font-family=\"Times,serif\" font-size=\"14.00\">samples = 105</text>\n<text text-anchor=\"middle\" x=\"834\" y=\"-200.8\" font-family=\"Times,serif\" font-size=\"14.00\">value = [61, 44]</text>\n</g>\n<!-- 7&#45;&gt;15 -->\n<g id=\"edge15\" class=\"edge\"><title>7&#45;&gt;15</title>\n<path fill=\"none\" stroke=\"black\" d=\"M735.402,-296.884C748.917,-287.442 763.772,-277.064 777.759,-267.292\"/>\n<polygon fill=\"black\" stroke=\"black\" points=\"780.143,-269.896 786.336,-261.299 776.134,-264.157 780.143,-269.896\"/>\n</g>\n<!-- 9 -->\n<g id=\"node10\" class=\"node\"><title>9</title>\n<polygon fill=\"none\" stroke=\"black\" points=\"432,-157 292,-157 292,-89 432,-89 432,-157\"/>\n<text text-anchor=\"middle\" x=\"362\" y=\"-141.8\" font-family=\"Times,serif\" font-size=\"14.00\">X[4] &lt;= 99.5</text>\n<text text-anchor=\"middle\" x=\"362\" y=\"-126.8\" font-family=\"Times,serif\" font-size=\"14.00\">entropy = 0.491</text>\n<text text-anchor=\"middle\" x=\"362\" y=\"-111.8\" font-family=\"Times,serif\" font-size=\"14.00\">samples = 112</text>\n<text text-anchor=\"middle\" x=\"362\" y=\"-96.8\" font-family=\"Times,serif\" font-size=\"14.00\">value = [100, 12]</text>\n</g>\n<!-- 8&#45;&gt;9 -->\n<g id=\"edge9\" class=\"edge\"><title>8&#45;&gt;9</title>\n<path fill=\"none\" stroke=\"black\" d=\"M511.786,-193.446C489.46,-183.095 464.607,-171.572 441.664,-160.935\"/>\n<polygon fill=\"black\" stroke=\"black\" points=\"442.846,-157.625 432.302,-156.594 439.902,-163.976 442.846,-157.625\"/>\n</g>\n<!-- 12 -->\n<g id=\"node13\" class=\"node\"><title>12</title>\n<polygon fill=\"none\" stroke=\"black\" points=\"649,-157 515,-157 515,-89 649,-89 649,-157\"/>\n<text text-anchor=\"middle\" x=\"582\" y=\"-141.8\" font-family=\"Times,serif\" font-size=\"14.00\">X[5] &lt;= 32.7</text>\n<text text-anchor=\"middle\" x=\"582\" y=\"-126.8\" font-family=\"Times,serif\" font-size=\"14.00\">entropy = 0.918</text>\n<text text-anchor=\"middle\" x=\"582\" y=\"-111.8\" font-family=\"Times,serif\" font-size=\"14.00\">samples = 30</text>\n<text text-anchor=\"middle\" x=\"582\" y=\"-96.8\" font-family=\"Times,serif\" font-size=\"14.00\">value = [20, 10]</text>\n</g>\n<!-- 8&#45;&gt;12 -->\n<g id=\"edge12\" class=\"edge\"><title>8&#45;&gt;12</title>\n<path fill=\"none\" stroke=\"black\" d=\"M582,-192.884C582,-184.778 582,-175.982 582,-167.472\"/>\n<polygon fill=\"black\" stroke=\"black\" points=\"585.5,-167.299 582,-157.299 578.5,-167.299 585.5,-167.299\"/>\n</g>\n<!-- 10 -->\n<g id=\"node11\" class=\"node\"><title>10</title>\n<polygon fill=\"none\" stroke=\"black\" points=\"250,-53 116,-53 116,-0 250,-0 250,-53\"/>\n<text text-anchor=\"middle\" x=\"183\" y=\"-37.8\" font-family=\"Times,serif\" font-size=\"14.00\">entropy = 0.583</text>\n<text text-anchor=\"middle\" x=\"183\" y=\"-22.8\" font-family=\"Times,serif\" font-size=\"14.00\">samples = 86</text>\n<text text-anchor=\"middle\" x=\"183\" y=\"-7.8\" font-family=\"Times,serif\" font-size=\"14.00\">value = [74, 12]</text>\n</g>\n<!-- 9&#45;&gt;10 -->\n<g id=\"edge10\" class=\"edge\"><title>9&#45;&gt;10</title>\n<path fill=\"none\" stroke=\"black\" d=\"M299.394,-88.9485C280.247,-78.8399 259.289,-67.7756 240.499,-57.8555\"/>\n<polygon fill=\"black\" stroke=\"black\" points=\"241.943,-54.6602 231.466,-53.0867 238.675,-60.8506 241.943,-54.6602\"/>\n</g>\n<!-- 11 -->\n<g id=\"node12\" class=\"node\"><title>11</title>\n<polygon fill=\"none\" stroke=\"black\" points=\"390,-53 268,-53 268,-0 390,-0 390,-53\"/>\n<text text-anchor=\"middle\" x=\"329\" y=\"-37.8\" font-family=\"Times,serif\" font-size=\"14.00\">entropy = 0.0</text>\n<text text-anchor=\"middle\" x=\"329\" y=\"-22.8\" font-family=\"Times,serif\" font-size=\"14.00\">samples = 26</text>\n<text text-anchor=\"middle\" x=\"329\" y=\"-7.8\" font-family=\"Times,serif\" font-size=\"14.00\">value = [26, 0]</text>\n</g>\n<!-- 9&#45;&gt;11 -->\n<g id=\"edge11\" class=\"edge\"><title>9&#45;&gt;11</title>\n<path fill=\"none\" stroke=\"black\" d=\"M350.458,-88.9485C347.519,-80.5323 344.349,-71.4536 341.37,-62.9243\"/>\n<polygon fill=\"black\" stroke=\"black\" points=\"344.589,-61.5237 337.987,-53.2367 337.98,-63.8315 344.589,-61.5237\"/>\n</g>\n<!-- 13 -->\n<g id=\"node14\" class=\"node\"><title>13</title>\n<polygon fill=\"none\" stroke=\"black\" points=\"530,-53 408,-53 408,-0 530,-0 530,-53\"/>\n<text text-anchor=\"middle\" x=\"469\" y=\"-37.8\" font-family=\"Times,serif\" font-size=\"14.00\">entropy = 0.0</text>\n<text text-anchor=\"middle\" x=\"469\" y=\"-22.8\" font-family=\"Times,serif\" font-size=\"14.00\">samples = 13</text>\n<text text-anchor=\"middle\" x=\"469\" y=\"-7.8\" font-family=\"Times,serif\" font-size=\"14.00\">value = [13, 0]</text>\n</g>\n<!-- 12&#45;&gt;13 -->\n<g id=\"edge13\" class=\"edge\"><title>12&#45;&gt;13</title>\n<path fill=\"none\" stroke=\"black\" d=\"M542.478,-88.9485C531.211,-79.526 518.951,-69.2731 507.732,-59.8906\"/>\n<polygon fill=\"black\" stroke=\"black\" points=\"509.692,-56.967 499.775,-53.2367 505.201,-62.3368 509.692,-56.967\"/>\n</g>\n<!-- 14 -->\n<g id=\"node15\" class=\"node\"><title>14</title>\n<polygon fill=\"none\" stroke=\"black\" points=\"682,-53 548,-53 548,-0 682,-0 682,-53\"/>\n<text text-anchor=\"middle\" x=\"615\" y=\"-37.8\" font-family=\"Times,serif\" font-size=\"14.00\">entropy = 0.977</text>\n<text text-anchor=\"middle\" x=\"615\" y=\"-22.8\" font-family=\"Times,serif\" font-size=\"14.00\">samples = 17</text>\n<text text-anchor=\"middle\" x=\"615\" y=\"-7.8\" font-family=\"Times,serif\" font-size=\"14.00\">value = [7, 10]</text>\n</g>\n<!-- 12&#45;&gt;14 -->\n<g id=\"edge14\" class=\"edge\"><title>12&#45;&gt;14</title>\n<path fill=\"none\" stroke=\"black\" d=\"M593.542,-88.9485C596.481,-80.5323 599.651,-71.4536 602.63,-62.9243\"/>\n<polygon fill=\"black\" stroke=\"black\" points=\"606.02,-63.8315 606.013,-53.2367 599.411,-61.5237 606.02,-63.8315\"/>\n</g>\n<!-- 16 -->\n<g id=\"node17\" class=\"node\"><title>16</title>\n<polygon fill=\"none\" stroke=\"black\" points=\"901,-157 767,-157 767,-89 901,-89 901,-157\"/>\n<text text-anchor=\"middle\" x=\"834\" y=\"-141.8\" font-family=\"Times,serif\" font-size=\"14.00\">X[3] &lt;= 20.5</text>\n<text text-anchor=\"middle\" x=\"834\" y=\"-126.8\" font-family=\"Times,serif\" font-size=\"14.00\">entropy = 0.736</text>\n<text text-anchor=\"middle\" x=\"834\" y=\"-111.8\" font-family=\"Times,serif\" font-size=\"14.00\">samples = 29</text>\n<text text-anchor=\"middle\" x=\"834\" y=\"-96.8\" font-family=\"Times,serif\" font-size=\"14.00\">value = [23, 6]</text>\n</g>\n<!-- 15&#45;&gt;16 -->\n<g id=\"edge16\" class=\"edge\"><title>15&#45;&gt;16</title>\n<path fill=\"none\" stroke=\"black\" d=\"M834,-192.884C834,-184.778 834,-175.982 834,-167.472\"/>\n<polygon fill=\"black\" stroke=\"black\" points=\"837.5,-167.299 834,-157.299 830.5,-167.299 837.5,-167.299\"/>\n</g>\n<!-- 19 -->\n<g id=\"node20\" class=\"node\"><title>19</title>\n<polygon fill=\"none\" stroke=\"black\" points=\"1124.5,-157 993.5,-157 993.5,-89 1124.5,-89 1124.5,-157\"/>\n<text text-anchor=\"middle\" x=\"1059\" y=\"-141.8\" font-family=\"Times,serif\" font-size=\"14.00\">X[2] &lt;= 91.0</text>\n<text text-anchor=\"middle\" x=\"1059\" y=\"-126.8\" font-family=\"Times,serif\" font-size=\"14.00\">entropy = 1.0</text>\n<text text-anchor=\"middle\" x=\"1059\" y=\"-111.8\" font-family=\"Times,serif\" font-size=\"14.00\">samples = 76</text>\n<text text-anchor=\"middle\" x=\"1059\" y=\"-96.8\" font-family=\"Times,serif\" font-size=\"14.00\">value = [38, 38]</text>\n</g>\n<!-- 15&#45;&gt;19 -->\n<g id=\"edge19\" class=\"edge\"><title>15&#45;&gt;19</title>\n<path fill=\"none\" stroke=\"black\" d=\"M901.203,-195.535C927.265,-183.72 957.222,-170.139 983.984,-158.007\"/>\n<polygon fill=\"black\" stroke=\"black\" points=\"985.642,-161.099 993.305,-153.782 982.752,-154.723 985.642,-161.099\"/>\n</g>\n<!-- 17 -->\n<g id=\"node18\" class=\"node\"><title>17</title>\n<polygon fill=\"none\" stroke=\"black\" points=\"822,-53 700,-53 700,-0 822,-0 822,-53\"/>\n<text text-anchor=\"middle\" x=\"761\" y=\"-37.8\" font-family=\"Times,serif\" font-size=\"14.00\">entropy = 0.0</text>\n<text text-anchor=\"middle\" x=\"761\" y=\"-22.8\" font-family=\"Times,serif\" font-size=\"14.00\">samples = 12</text>\n<text text-anchor=\"middle\" x=\"761\" y=\"-7.8\" font-family=\"Times,serif\" font-size=\"14.00\">value = [12, 0]</text>\n</g>\n<!-- 16&#45;&gt;17 -->\n<g id=\"edge17\" class=\"edge\"><title>16&#45;&gt;17</title>\n<path fill=\"none\" stroke=\"black\" d=\"M808.468,-88.9485C801.543,-79.9834 794.037,-70.2666 787.081,-61.2629\"/>\n<polygon fill=\"black\" stroke=\"black\" points=\"789.764,-59.0108 780.881,-53.2367 784.225,-63.2902 789.764,-59.0108\"/>\n</g>\n<!-- 18 -->\n<g id=\"node19\" class=\"node\"><title>18</title>\n<polygon fill=\"none\" stroke=\"black\" points=\"974,-53 840,-53 840,-0 974,-0 974,-53\"/>\n<text text-anchor=\"middle\" x=\"907\" y=\"-37.8\" font-family=\"Times,serif\" font-size=\"14.00\">entropy = 0.937</text>\n<text text-anchor=\"middle\" x=\"907\" y=\"-22.8\" font-family=\"Times,serif\" font-size=\"14.00\">samples = 17</text>\n<text text-anchor=\"middle\" x=\"907\" y=\"-7.8\" font-family=\"Times,serif\" font-size=\"14.00\">value = [11, 6]</text>\n</g>\n<!-- 16&#45;&gt;18 -->\n<g id=\"edge18\" class=\"edge\"><title>16&#45;&gt;18</title>\n<path fill=\"none\" stroke=\"black\" d=\"M859.532,-88.9485C866.457,-79.9834 873.963,-70.2666 880.919,-61.2629\"/>\n<polygon fill=\"black\" stroke=\"black\" points=\"883.775,-63.2902 887.119,-53.2367 878.236,-59.0108 883.775,-63.2902\"/>\n</g>\n<!-- 20 -->\n<g id=\"node21\" class=\"node\"><title>20</title>\n<polygon fill=\"none\" stroke=\"black\" points=\"1126,-53 992,-53 992,-0 1126,-0 1126,-53\"/>\n<text text-anchor=\"middle\" x=\"1059\" y=\"-37.8\" font-family=\"Times,serif\" font-size=\"14.00\">entropy = 0.996</text>\n<text text-anchor=\"middle\" x=\"1059\" y=\"-22.8\" font-family=\"Times,serif\" font-size=\"14.00\">samples = 71</text>\n<text text-anchor=\"middle\" x=\"1059\" y=\"-7.8\" font-family=\"Times,serif\" font-size=\"14.00\">value = [33, 38]</text>\n</g>\n<!-- 19&#45;&gt;20 -->\n<g id=\"edge20\" class=\"edge\"><title>19&#45;&gt;20</title>\n<path fill=\"none\" stroke=\"black\" d=\"M1059,-88.9485C1059,-80.7153 1059,-71.848 1059,-63.4814\"/>\n<polygon fill=\"black\" stroke=\"black\" points=\"1062.5,-63.2367 1059,-53.2367 1055.5,-63.2367 1062.5,-63.2367\"/>\n</g>\n<!-- 21 -->\n<g id=\"node22\" class=\"node\"><title>21</title>\n<polygon fill=\"none\" stroke=\"black\" points=\"1260,-53 1144,-53 1144,-0 1260,-0 1260,-53\"/>\n<text text-anchor=\"middle\" x=\"1202\" y=\"-37.8\" font-family=\"Times,serif\" font-size=\"14.00\">entropy = 0.0</text>\n<text text-anchor=\"middle\" x=\"1202\" y=\"-22.8\" font-family=\"Times,serif\" font-size=\"14.00\">samples = 5</text>\n<text text-anchor=\"middle\" x=\"1202\" y=\"-7.8\" font-family=\"Times,serif\" font-size=\"14.00\">value = [5, 0]</text>\n</g>\n<!-- 19&#45;&gt;21 -->\n<g id=\"edge21\" class=\"edge\"><title>19&#45;&gt;21</title>\n<path fill=\"none\" stroke=\"black\" d=\"M1109.01,-88.9485C1123.83,-79.1601 1139.99,-68.4756 1154.63,-58.8015\"/>\n<polygon fill=\"black\" stroke=\"black\" points=\"1156.64,-61.6701 1163.05,-53.2367 1152.78,-55.83 1156.64,-61.6701\"/>\n</g>\n<!-- 23 -->\n<g id=\"node24\" class=\"node\"><title>23</title>\n<polygon fill=\"none\" stroke=\"black\" points=\"1484.5,-365 1353.5,-365 1353.5,-297 1484.5,-297 1484.5,-365\"/>\n<text text-anchor=\"middle\" x=\"1419\" y=\"-349.8\" font-family=\"Times,serif\" font-size=\"14.00\">X[7] &lt;= 22.5</text>\n<text text-anchor=\"middle\" x=\"1419\" y=\"-334.8\" font-family=\"Times,serif\" font-size=\"14.00\">entropy = 0.94</text>\n<text text-anchor=\"middle\" x=\"1419\" y=\"-319.8\" font-family=\"Times,serif\" font-size=\"14.00\">samples = 56</text>\n<text text-anchor=\"middle\" x=\"1419\" y=\"-304.8\" font-family=\"Times,serif\" font-size=\"14.00\">value = [36, 20]</text>\n</g>\n<!-- 22&#45;&gt;23 -->\n<g id=\"edge23\" class=\"edge\"><title>22&#45;&gt;23</title>\n<path fill=\"none\" stroke=\"black\" d=\"M1419,-400.884C1419,-392.778 1419,-383.982 1419,-375.472\"/>\n<polygon fill=\"black\" stroke=\"black\" points=\"1422.5,-375.299 1419,-365.299 1415.5,-375.299 1422.5,-375.299\"/>\n</g>\n<!-- 30 -->\n<g id=\"node31\" class=\"node\"><title>30</title>\n<polygon fill=\"none\" stroke=\"black\" points=\"1945,-365 1805,-365 1805,-297 1945,-297 1945,-365\"/>\n<text text-anchor=\"middle\" x=\"1875\" y=\"-349.8\" font-family=\"Times,serif\" font-size=\"14.00\">X[1] &lt;= 154.5</text>\n<text text-anchor=\"middle\" x=\"1875\" y=\"-334.8\" font-family=\"Times,serif\" font-size=\"14.00\">entropy = 0.862</text>\n<text text-anchor=\"middle\" x=\"1875\" y=\"-319.8\" font-family=\"Times,serif\" font-size=\"14.00\">samples = 165</text>\n<text text-anchor=\"middle\" x=\"1875\" y=\"-304.8\" font-family=\"Times,serif\" font-size=\"14.00\">value = [47, 118]</text>\n</g>\n<!-- 22&#45;&gt;30 -->\n<g id=\"edge30\" class=\"edge\"><title>22&#45;&gt;30</title>\n<path fill=\"none\" stroke=\"black\" d=\"M1489.25,-418.286C1571.76,-399.83 1708.34,-369.28 1794.89,-349.919\"/>\n<polygon fill=\"black\" stroke=\"black\" points=\"1795.67,-353.33 1804.67,-347.732 1794.15,-346.499 1795.67,-353.33\"/>\n</g>\n<!-- 24 -->\n<g id=\"node25\" class=\"node\"><title>24</title>\n<polygon fill=\"none\" stroke=\"black\" points=\"1407,-253.5 1285,-253.5 1285,-200.5 1407,-200.5 1407,-253.5\"/>\n<text text-anchor=\"middle\" x=\"1346\" y=\"-238.3\" font-family=\"Times,serif\" font-size=\"14.00\">entropy = 0.0</text>\n<text text-anchor=\"middle\" x=\"1346\" y=\"-223.3\" font-family=\"Times,serif\" font-size=\"14.00\">samples = 12</text>\n<text text-anchor=\"middle\" x=\"1346\" y=\"-208.3\" font-family=\"Times,serif\" font-size=\"14.00\">value = [12, 0]</text>\n</g>\n<!-- 23&#45;&gt;24 -->\n<g id=\"edge24\" class=\"edge\"><title>23&#45;&gt;24</title>\n<path fill=\"none\" stroke=\"black\" d=\"M1395.3,-296.884C1387.27,-285.666 1378.3,-273.126 1370.23,-261.852\"/>\n<polygon fill=\"black\" stroke=\"black\" points=\"1372.93,-259.615 1364.26,-253.52 1367.24,-263.689 1372.93,-259.615\"/>\n</g>\n<!-- 25 -->\n<g id=\"node26\" class=\"node\"><title>25</title>\n<polygon fill=\"none\" stroke=\"black\" points=\"1559,-261 1425,-261 1425,-193 1559,-193 1559,-261\"/>\n<text text-anchor=\"middle\" x=\"1492\" y=\"-245.8\" font-family=\"Times,serif\" font-size=\"14.00\">X[7] &lt;= 61.0</text>\n<text text-anchor=\"middle\" x=\"1492\" y=\"-230.8\" font-family=\"Times,serif\" font-size=\"14.00\">entropy = 0.994</text>\n<text text-anchor=\"middle\" x=\"1492\" y=\"-215.8\" font-family=\"Times,serif\" font-size=\"14.00\">samples = 44</text>\n<text text-anchor=\"middle\" x=\"1492\" y=\"-200.8\" font-family=\"Times,serif\" font-size=\"14.00\">value = [24, 20]</text>\n</g>\n<!-- 23&#45;&gt;25 -->\n<g id=\"edge25\" class=\"edge\"><title>23&#45;&gt;25</title>\n<path fill=\"none\" stroke=\"black\" d=\"M1442.7,-296.884C1448.95,-288.154 1455.77,-278.625 1462.29,-269.514\"/>\n<polygon fill=\"black\" stroke=\"black\" points=\"1465.19,-271.468 1468.17,-261.299 1459.5,-267.394 1465.19,-271.468\"/>\n</g>\n<!-- 26 -->\n<g id=\"node27\" class=\"node\"><title>26</title>\n<polygon fill=\"none\" stroke=\"black\" points=\"1488,-157 1354,-157 1354,-89 1488,-89 1488,-157\"/>\n<text text-anchor=\"middle\" x=\"1421\" y=\"-141.8\" font-family=\"Times,serif\" font-size=\"14.00\">X[1] &lt;= 145.0</text>\n<text text-anchor=\"middle\" x=\"1421\" y=\"-126.8\" font-family=\"Times,serif\" font-size=\"14.00\">entropy = 0.995</text>\n<text text-anchor=\"middle\" x=\"1421\" y=\"-111.8\" font-family=\"Times,serif\" font-size=\"14.00\">samples = 37</text>\n<text text-anchor=\"middle\" x=\"1421\" y=\"-96.8\" font-family=\"Times,serif\" font-size=\"14.00\">value = [17, 20]</text>\n</g>\n<!-- 25&#45;&gt;26 -->\n<g id=\"edge26\" class=\"edge\"><title>25&#45;&gt;26</title>\n<path fill=\"none\" stroke=\"black\" d=\"M1468.95,-192.884C1462.87,-184.154 1456.24,-174.625 1449.9,-165.514\"/>\n<polygon fill=\"black\" stroke=\"black\" points=\"1452.76,-163.507 1444.18,-157.299 1447.02,-167.506 1452.76,-163.507\"/>\n</g>\n<!-- 29 -->\n<g id=\"node30\" class=\"node\"><title>29</title>\n<polygon fill=\"none\" stroke=\"black\" points=\"1622,-149.5 1506,-149.5 1506,-96.5 1622,-96.5 1622,-149.5\"/>\n<text text-anchor=\"middle\" x=\"1564\" y=\"-134.3\" font-family=\"Times,serif\" font-size=\"14.00\">entropy = 0.0</text>\n<text text-anchor=\"middle\" x=\"1564\" y=\"-119.3\" font-family=\"Times,serif\" font-size=\"14.00\">samples = 7</text>\n<text text-anchor=\"middle\" x=\"1564\" y=\"-104.3\" font-family=\"Times,serif\" font-size=\"14.00\">value = [7, 0]</text>\n</g>\n<!-- 25&#45;&gt;29 -->\n<g id=\"edge29\" class=\"edge\"><title>25&#45;&gt;29</title>\n<path fill=\"none\" stroke=\"black\" d=\"M1515.38,-192.884C1523.29,-181.666 1532.15,-169.126 1540.1,-157.852\"/>\n<polygon fill=\"black\" stroke=\"black\" points=\"1543.08,-159.708 1545.99,-149.52 1537.36,-155.671 1543.08,-159.708\"/>\n</g>\n<!-- 27 -->\n<g id=\"node28\" class=\"node\"><title>27</title>\n<polygon fill=\"none\" stroke=\"black\" points=\"1412,-53 1278,-53 1278,-0 1412,-0 1412,-53\"/>\n<text text-anchor=\"middle\" x=\"1345\" y=\"-37.8\" font-family=\"Times,serif\" font-size=\"14.00\">entropy = 0.918</text>\n<text text-anchor=\"middle\" x=\"1345\" y=\"-22.8\" font-family=\"Times,serif\" font-size=\"14.00\">samples = 15</text>\n<text text-anchor=\"middle\" x=\"1345\" y=\"-7.8\" font-family=\"Times,serif\" font-size=\"14.00\">value = [10, 5]</text>\n</g>\n<!-- 26&#45;&gt;27 -->\n<g id=\"edge27\" class=\"edge\"><title>26&#45;&gt;27</title>\n<path fill=\"none\" stroke=\"black\" d=\"M1394.42,-88.9485C1387.21,-79.9834 1379.39,-70.2666 1372.15,-61.2629\"/>\n<polygon fill=\"black\" stroke=\"black\" points=\"1374.69,-58.8358 1365.7,-53.2367 1369.24,-63.2228 1374.69,-58.8358\"/>\n</g>\n<!-- 28 -->\n<g id=\"node29\" class=\"node\"><title>28</title>\n<polygon fill=\"none\" stroke=\"black\" points=\"1564,-53 1430,-53 1430,-0 1564,-0 1564,-53\"/>\n<text text-anchor=\"middle\" x=\"1497\" y=\"-37.8\" font-family=\"Times,serif\" font-size=\"14.00\">entropy = 0.902</text>\n<text text-anchor=\"middle\" x=\"1497\" y=\"-22.8\" font-family=\"Times,serif\" font-size=\"14.00\">samples = 22</text>\n<text text-anchor=\"middle\" x=\"1497\" y=\"-7.8\" font-family=\"Times,serif\" font-size=\"14.00\">value = [7, 15]</text>\n</g>\n<!-- 26&#45;&gt;28 -->\n<g id=\"edge28\" class=\"edge\"><title>26&#45;&gt;28</title>\n<path fill=\"none\" stroke=\"black\" d=\"M1447.58,-88.9485C1454.79,-79.9834 1462.61,-70.2666 1469.85,-61.2629\"/>\n<polygon fill=\"black\" stroke=\"black\" points=\"1472.76,-63.2228 1476.3,-53.2367 1467.31,-58.8358 1472.76,-63.2228\"/>\n</g>\n<!-- 31 -->\n<g id=\"node32\" class=\"node\"><title>31</title>\n<polygon fill=\"none\" stroke=\"black\" points=\"1942,-261 1808,-261 1808,-193 1942,-193 1942,-261\"/>\n<text text-anchor=\"middle\" x=\"1875\" y=\"-245.8\" font-family=\"Times,serif\" font-size=\"14.00\">X[4] &lt;= 260.0</text>\n<text text-anchor=\"middle\" x=\"1875\" y=\"-230.8\" font-family=\"Times,serif\" font-size=\"14.00\">entropy = 0.972</text>\n<text text-anchor=\"middle\" x=\"1875\" y=\"-215.8\" font-family=\"Times,serif\" font-size=\"14.00\">samples = 87</text>\n<text text-anchor=\"middle\" x=\"1875\" y=\"-200.8\" font-family=\"Times,serif\" font-size=\"14.00\">value = [35, 52]</text>\n</g>\n<!-- 30&#45;&gt;31 -->\n<g id=\"edge31\" class=\"edge\"><title>30&#45;&gt;31</title>\n<path fill=\"none\" stroke=\"black\" d=\"M1875,-296.884C1875,-288.778 1875,-279.982 1875,-271.472\"/>\n<polygon fill=\"black\" stroke=\"black\" points=\"1878.5,-271.299 1875,-261.299 1871.5,-271.299 1878.5,-271.299\"/>\n</g>\n<!-- 38 -->\n<g id=\"node39\" class=\"node\"><title>38</title>\n<polygon fill=\"none\" stroke=\"black\" points=\"2304,-261 2170,-261 2170,-193 2304,-193 2304,-261\"/>\n<text text-anchor=\"middle\" x=\"2237\" y=\"-245.8\" font-family=\"Times,serif\" font-size=\"14.00\">X[4] &lt;= 611.5</text>\n<text text-anchor=\"middle\" x=\"2237\" y=\"-230.8\" font-family=\"Times,serif\" font-size=\"14.00\">entropy = 0.619</text>\n<text text-anchor=\"middle\" x=\"2237\" y=\"-215.8\" font-family=\"Times,serif\" font-size=\"14.00\">samples = 78</text>\n<text text-anchor=\"middle\" x=\"2237\" y=\"-200.8\" font-family=\"Times,serif\" font-size=\"14.00\">value = [12, 66]</text>\n</g>\n<!-- 30&#45;&gt;38 -->\n<g id=\"edge38\" class=\"edge\"><title>30&#45;&gt;38</title>\n<path fill=\"none\" stroke=\"black\" d=\"M1945.23,-310.212C2006.8,-292.862 2096.17,-267.682 2159.75,-249.767\"/>\n<polygon fill=\"black\" stroke=\"black\" points=\"2161.05,-253.037 2169.72,-246.957 2159.15,-246.3 2161.05,-253.037\"/>\n</g>\n<!-- 32 -->\n<g id=\"node33\" class=\"node\"><title>32</title>\n<polygon fill=\"none\" stroke=\"black\" points=\"1866,-157 1732,-157 1732,-89 1866,-89 1866,-157\"/>\n<text text-anchor=\"middle\" x=\"1799\" y=\"-141.8\" font-family=\"Times,serif\" font-size=\"14.00\">X[5] &lt;= 41.7</text>\n<text text-anchor=\"middle\" x=\"1799\" y=\"-126.8\" font-family=\"Times,serif\" font-size=\"14.00\">entropy = 0.923</text>\n<text text-anchor=\"middle\" x=\"1799\" y=\"-111.8\" font-family=\"Times,serif\" font-size=\"14.00\">samples = 77</text>\n<text text-anchor=\"middle\" x=\"1799\" y=\"-96.8\" font-family=\"Times,serif\" font-size=\"14.00\">value = [26, 51]</text>\n</g>\n<!-- 31&#45;&gt;32 -->\n<g id=\"edge32\" class=\"edge\"><title>31&#45;&gt;32</title>\n<path fill=\"none\" stroke=\"black\" d=\"M1850.32,-192.884C1843.82,-184.154 1836.72,-174.625 1829.93,-165.514\"/>\n<polygon fill=\"black\" stroke=\"black\" points=\"1832.59,-163.227 1823.81,-157.299 1826.98,-167.409 1832.59,-163.227\"/>\n</g>\n<!-- 35 -->\n<g id=\"node36\" class=\"node\"><title>35</title>\n<polygon fill=\"none\" stroke=\"black\" points=\"2018,-157 1884,-157 1884,-89 2018,-89 2018,-157\"/>\n<text text-anchor=\"middle\" x=\"1951\" y=\"-141.8\" font-family=\"Times,serif\" font-size=\"14.00\">X[5] &lt;= 33.75</text>\n<text text-anchor=\"middle\" x=\"1951\" y=\"-126.8\" font-family=\"Times,serif\" font-size=\"14.00\">entropy = 0.469</text>\n<text text-anchor=\"middle\" x=\"1951\" y=\"-111.8\" font-family=\"Times,serif\" font-size=\"14.00\">samples = 10</text>\n<text text-anchor=\"middle\" x=\"1951\" y=\"-96.8\" font-family=\"Times,serif\" font-size=\"14.00\">value = [9, 1]</text>\n</g>\n<!-- 31&#45;&gt;35 -->\n<g id=\"edge35\" class=\"edge\"><title>31&#45;&gt;35</title>\n<path fill=\"none\" stroke=\"black\" d=\"M1899.68,-192.884C1906.18,-184.154 1913.28,-174.625 1920.07,-165.514\"/>\n<polygon fill=\"black\" stroke=\"black\" points=\"1923.02,-167.409 1926.19,-157.299 1917.41,-163.227 1923.02,-167.409\"/>\n</g>\n<!-- 33 -->\n<g id=\"node34\" class=\"node\"><title>33</title>\n<polygon fill=\"none\" stroke=\"black\" points=\"1713.5,-53 1582.5,-53 1582.5,-0 1713.5,-0 1713.5,-53\"/>\n<text text-anchor=\"middle\" x=\"1648\" y=\"-37.8\" font-family=\"Times,serif\" font-size=\"14.00\">entropy = 0.98</text>\n<text text-anchor=\"middle\" x=\"1648\" y=\"-22.8\" font-family=\"Times,serif\" font-size=\"14.00\">samples = 60</text>\n<text text-anchor=\"middle\" x=\"1648\" y=\"-7.8\" font-family=\"Times,serif\" font-size=\"14.00\">value = [25, 35]</text>\n</g>\n<!-- 32&#45;&gt;33 -->\n<g id=\"edge33\" class=\"edge\"><title>32&#45;&gt;33</title>\n<path fill=\"none\" stroke=\"black\" d=\"M1746.19,-88.9485C1730.55,-79.1601 1713.47,-68.4756 1698.02,-58.8015\"/>\n<polygon fill=\"black\" stroke=\"black\" points=\"1699.46,-55.5749 1689.12,-53.2367 1695.74,-61.5087 1699.46,-55.5749\"/>\n</g>\n<!-- 34 -->\n<g id=\"node35\" class=\"node\"><title>34</title>\n<polygon fill=\"none\" stroke=\"black\" points=\"1866,-53 1732,-53 1732,-0 1866,-0 1866,-53\"/>\n<text text-anchor=\"middle\" x=\"1799\" y=\"-37.8\" font-family=\"Times,serif\" font-size=\"14.00\">entropy = 0.323</text>\n<text text-anchor=\"middle\" x=\"1799\" y=\"-22.8\" font-family=\"Times,serif\" font-size=\"14.00\">samples = 17</text>\n<text text-anchor=\"middle\" x=\"1799\" y=\"-7.8\" font-family=\"Times,serif\" font-size=\"14.00\">value = [1, 16]</text>\n</g>\n<!-- 32&#45;&gt;34 -->\n<g id=\"edge34\" class=\"edge\"><title>32&#45;&gt;34</title>\n<path fill=\"none\" stroke=\"black\" d=\"M1799,-88.9485C1799,-80.7153 1799,-71.848 1799,-63.4814\"/>\n<polygon fill=\"black\" stroke=\"black\" points=\"1802.5,-63.2367 1799,-53.2367 1795.5,-63.2367 1802.5,-63.2367\"/>\n</g>\n<!-- 36 -->\n<g id=\"node37\" class=\"node\"><title>36</title>\n<polygon fill=\"none\" stroke=\"black\" points=\"2018,-53 1884,-53 1884,-0 2018,-0 2018,-53\"/>\n<text text-anchor=\"middle\" x=\"1951\" y=\"-37.8\" font-family=\"Times,serif\" font-size=\"14.00\">entropy = 0.918</text>\n<text text-anchor=\"middle\" x=\"1951\" y=\"-22.8\" font-family=\"Times,serif\" font-size=\"14.00\">samples = 3</text>\n<text text-anchor=\"middle\" x=\"1951\" y=\"-7.8\" font-family=\"Times,serif\" font-size=\"14.00\">value = [2, 1]</text>\n</g>\n<!-- 35&#45;&gt;36 -->\n<g id=\"edge36\" class=\"edge\"><title>35&#45;&gt;36</title>\n<path fill=\"none\" stroke=\"black\" d=\"M1951,-88.9485C1951,-80.7153 1951,-71.848 1951,-63.4814\"/>\n<polygon fill=\"black\" stroke=\"black\" points=\"1954.5,-63.2367 1951,-53.2367 1947.5,-63.2367 1954.5,-63.2367\"/>\n</g>\n<!-- 37 -->\n<g id=\"node38\" class=\"node\"><title>37</title>\n<polygon fill=\"none\" stroke=\"black\" points=\"2152,-53 2036,-53 2036,-0 2152,-0 2152,-53\"/>\n<text text-anchor=\"middle\" x=\"2094\" y=\"-37.8\" font-family=\"Times,serif\" font-size=\"14.00\">entropy = 0.0</text>\n<text text-anchor=\"middle\" x=\"2094\" y=\"-22.8\" font-family=\"Times,serif\" font-size=\"14.00\">samples = 7</text>\n<text text-anchor=\"middle\" x=\"2094\" y=\"-7.8\" font-family=\"Times,serif\" font-size=\"14.00\">value = [7, 0]</text>\n</g>\n<!-- 35&#45;&gt;37 -->\n<g id=\"edge37\" class=\"edge\"><title>35&#45;&gt;37</title>\n<path fill=\"none\" stroke=\"black\" d=\"M2001.01,-88.9485C2015.83,-79.1601 2031.99,-68.4756 2046.63,-58.8015\"/>\n<polygon fill=\"black\" stroke=\"black\" points=\"2048.64,-61.6701 2055.05,-53.2367 2044.78,-55.83 2048.64,-61.6701\"/>\n</g>\n<!-- 39 -->\n<g id=\"node40\" class=\"node\"><title>39</title>\n<polygon fill=\"none\" stroke=\"black\" points=\"2304,-157 2170,-157 2170,-89 2304,-89 2304,-157\"/>\n<text text-anchor=\"middle\" x=\"2237\" y=\"-141.8\" font-family=\"Times,serif\" font-size=\"14.00\">X[6] &lt;= 0.348</text>\n<text text-anchor=\"middle\" x=\"2237\" y=\"-126.8\" font-family=\"Times,serif\" font-size=\"14.00\">entropy = 0.567</text>\n<text text-anchor=\"middle\" x=\"2237\" y=\"-111.8\" font-family=\"Times,serif\" font-size=\"14.00\">samples = 75</text>\n<text text-anchor=\"middle\" x=\"2237\" y=\"-96.8\" font-family=\"Times,serif\" font-size=\"14.00\">value = [10, 65]</text>\n</g>\n<!-- 38&#45;&gt;39 -->\n<g id=\"edge39\" class=\"edge\"><title>38&#45;&gt;39</title>\n<path fill=\"none\" stroke=\"black\" d=\"M2237,-192.884C2237,-184.778 2237,-175.982 2237,-167.472\"/>\n<polygon fill=\"black\" stroke=\"black\" points=\"2240.5,-167.299 2237,-157.299 2233.5,-167.299 2240.5,-167.299\"/>\n</g>\n<!-- 42 -->\n<g id=\"node43\" class=\"node\"><title>42</title>\n<polygon fill=\"none\" stroke=\"black\" points=\"2456,-149.5 2322,-149.5 2322,-96.5 2456,-96.5 2456,-149.5\"/>\n<text text-anchor=\"middle\" x=\"2389\" y=\"-134.3\" font-family=\"Times,serif\" font-size=\"14.00\">entropy = 0.918</text>\n<text text-anchor=\"middle\" x=\"2389\" y=\"-119.3\" font-family=\"Times,serif\" font-size=\"14.00\">samples = 3</text>\n<text text-anchor=\"middle\" x=\"2389\" y=\"-104.3\" font-family=\"Times,serif\" font-size=\"14.00\">value = [2, 1]</text>\n</g>\n<!-- 38&#45;&gt;42 -->\n<g id=\"edge42\" class=\"edge\"><title>38&#45;&gt;42</title>\n<path fill=\"none\" stroke=\"black\" d=\"M2286.35,-192.884C2304.38,-180.786 2324.7,-167.151 2342.47,-155.224\"/>\n<polygon fill=\"black\" stroke=\"black\" points=\"2344.62,-157.998 2350.97,-149.52 2340.72,-152.186 2344.62,-157.998\"/>\n</g>\n<!-- 40 -->\n<g id=\"node41\" class=\"node\"><title>40</title>\n<polygon fill=\"none\" stroke=\"black\" points=\"2304,-53 2170,-53 2170,-0 2304,-0 2304,-53\"/>\n<text text-anchor=\"middle\" x=\"2237\" y=\"-37.8\" font-family=\"Times,serif\" font-size=\"14.00\">entropy = 0.826</text>\n<text text-anchor=\"middle\" x=\"2237\" y=\"-22.8\" font-family=\"Times,serif\" font-size=\"14.00\">samples = 27</text>\n<text text-anchor=\"middle\" x=\"2237\" y=\"-7.8\" font-family=\"Times,serif\" font-size=\"14.00\">value = [7, 20]</text>\n</g>\n<!-- 39&#45;&gt;40 -->\n<g id=\"edge40\" class=\"edge\"><title>39&#45;&gt;40</title>\n<path fill=\"none\" stroke=\"black\" d=\"M2237,-88.9485C2237,-80.7153 2237,-71.848 2237,-63.4814\"/>\n<polygon fill=\"black\" stroke=\"black\" points=\"2240.5,-63.2367 2237,-53.2367 2233.5,-63.2367 2240.5,-63.2367\"/>\n</g>\n<!-- 41 -->\n<g id=\"node42\" class=\"node\"><title>41</title>\n<polygon fill=\"none\" stroke=\"black\" points=\"2456,-53 2322,-53 2322,-0 2456,-0 2456,-53\"/>\n<text text-anchor=\"middle\" x=\"2389\" y=\"-37.8\" font-family=\"Times,serif\" font-size=\"14.00\">entropy = 0.337</text>\n<text text-anchor=\"middle\" x=\"2389\" y=\"-22.8\" font-family=\"Times,serif\" font-size=\"14.00\">samples = 48</text>\n<text text-anchor=\"middle\" x=\"2389\" y=\"-7.8\" font-family=\"Times,serif\" font-size=\"14.00\">value = [3, 45]</text>\n</g>\n<!-- 39&#45;&gt;41 -->\n<g id=\"edge41\" class=\"edge\"><title>39&#45;&gt;41</title>\n<path fill=\"none\" stroke=\"black\" d=\"M2290.16,-88.9485C2306.05,-79.0686 2323.41,-68.2758 2339.09,-58.5305\"/>\n<polygon fill=\"black\" stroke=\"black\" points=\"2340.96,-61.489 2347.6,-53.2367 2337.26,-55.5443 2340.96,-61.489\"/>\n</g>\n</g>\n</svg>\n"
          },
          "metadata": {
            "tags": []
          },
          "execution_count": 47
        }
      ]
    },
    {
      "metadata": {
        "id": "4iz4meWDVmo2",
        "colab_type": "text"
      },
      "cell_type": "markdown",
      "source": [
        "#### Use the graph above to answer the questions below"
      ]
    },
    {
      "metadata": {
        "id": "K5b6COUwWTtT",
        "colab_type": "text"
      },
      "cell_type": "markdown",
      "source": [
        "Question 1: If you add up the samples from the leaf nodes, how many samples are there?"
      ]
    },
    {
      "metadata": {
        "id": "K7dFAUhht0wE",
        "colab_type": "code",
        "colab": {
          "base_uri": "https://localhost:8080/",
          "height": 34
        },
        "outputId": "a6d3d326-f5d5-4309-a9ef-1d53cfaebb44"
      },
      "cell_type": "code",
      "source": [
        "X_train.shape"
      ],
      "execution_count": 49,
      "outputs": [
        {
          "output_type": "execute_result",
          "data": {
            "text/plain": [
              "(575, 8)"
            ]
          },
          "metadata": {
            "tags": []
          },
          "execution_count": 49
        }
      ]
    },
    {
      "metadata": {
        "id": "u1yM9h10WUEv",
        "colab_type": "text"
      },
      "cell_type": "markdown",
      "source": [
        "Question 2: What do you think X[n] represents in the nodes from the graph? <br>"
      ]
    },
    {
      "metadata": {
        "id": "mdW8cH6ht9RU",
        "colab_type": "code",
        "colab": {
          "base_uri": "https://localhost:8080/",
          "height": 17
        },
        "outputId": "1334119f-0af9-4e7c-9b6f-c7563b902195"
      },
      "cell_type": "code",
      "source": [
        "#represents nth column"
      ],
      "execution_count": 55,
      "outputs": []
    },
    {
      "metadata": {
        "id": "rA7B0oTaWUIe",
        "colab_type": "text"
      },
      "cell_type": "markdown",
      "source": [
        "Question 3: What is the root feature? Does it make sense as the root feature?"
      ]
    },
    {
      "metadata": {
        "id": "lFkXt8EQuoVZ",
        "colab_type": "code",
        "colab": {
          "base_uri": "https://localhost:8080/",
          "height": 17
        },
        "outputId": "4eafa907-cfce-4734-f652-cc5645bd0247"
      },
      "cell_type": "code",
      "source": [
        "#whether or not they had a certain amount of plas concentration"
      ],
      "execution_count": 56,
      "outputs": []
    },
    {
      "metadata": {
        "id": "1t559pS3ZHES",
        "colab_type": "text"
      },
      "cell_type": "markdown",
      "source": [
        "#### If you were to change the parameters to have a max_depth of 500 and min_samples_leaf of 1, what do you think the effect would be on the test accuracy? Training accuracy?"
      ]
    },
    {
      "metadata": {
        "id": "xIFTJIB9u3NB",
        "colab_type": "code",
        "colab": {
          "base_uri": "https://localhost:8080/",
          "height": 17
        },
        "outputId": "aced0763-21db-4c36-d94b-a41326c3045a"
      },
      "cell_type": "code",
      "source": [
        "#the training accuracy would get to 100% accuracy because of overfitting"
      ],
      "execution_count": 57,
      "outputs": []
    },
    {
      "metadata": {
        "id": "7dnlqId2bIcR",
        "colab_type": "text"
      },
      "cell_type": "markdown",
      "source": [
        "#### Test your guesses, create a model with max_depth=500 and min_samples_leaf=1, and predict values for the training and test data <br>\n",
        "you only need to predict part of the training data"
      ]
    },
    {
      "metadata": {
        "id": "hnUQKX9vl9Gy",
        "colab_type": "code",
        "colab": {
          "base_uri": "https://localhost:8080/",
          "height": 34
        },
        "outputId": "7d5a7134-7d4c-4934-a94e-8df1a316a14c"
      },
      "cell_type": "code",
      "source": [
        "clf_temp1 = DecisionTreeClassifier(criterion=\"gini\", random_state=0, max_depth=500, min_samples_leaf=1)\n",
        "clf_temp1.fit(X_train, y_train)\n",
        "y_pred_temp1 = clf_temp1.predict(X_train)\n",
        "\n",
        "acc_temp1 = accuracy_score(y_pred_temp1, y_train)\n",
        "acc_temp1"
      ],
      "execution_count": 63,
      "outputs": [
        {
          "output_type": "execute_result",
          "data": {
            "text/plain": [
              "1.0"
            ]
          },
          "metadata": {
            "tags": []
          },
          "execution_count": 63
        }
      ]
    },
    {
      "metadata": {
        "id": "rH_hP9Y1vdT8",
        "colab_type": "code",
        "colab": {
          "base_uri": "https://localhost:8080/",
          "height": 34
        },
        "outputId": "8f45405a-7e80-4ffc-adf4-94bd734a69d1"
      },
      "cell_type": "code",
      "source": [
        "clf_temp2 = DecisionTreeClassifier(criterion=\"entropy\", random_state=0, max_depth=500, min_samples_leaf=1)\n",
        "clf_temp2.fit(X_train, y_train)\n",
        "y_pred_temp2 = clf_temp2.predict(X_train)\n",
        "\n",
        "acc_temp2 = accuracy_score(y_pred_temp2, y_train)\n",
        "acc_temp2"
      ],
      "execution_count": 65,
      "outputs": [
        {
          "output_type": "execute_result",
          "data": {
            "text/plain": [
              "1.0"
            ]
          },
          "metadata": {
            "tags": []
          },
          "execution_count": 65
        }
      ]
    },
    {
      "metadata": {
        "id": "40Psyt65pD8p",
        "colab_type": "text"
      },
      "cell_type": "markdown",
      "source": [
        "# Random Forest"
      ]
    },
    {
      "metadata": {
        "id": "mjLu1MLIpGNF",
        "colab_type": "text"
      },
      "cell_type": "markdown",
      "source": [
        "#### Create a model with sklearn's RandomForestClassifier and predict values on your test set"
      ]
    },
    {
      "metadata": {
        "id": "TYwbpWxUfDIY",
        "colab_type": "code",
        "colab": {
          "base_uri": "https://localhost:8080/",
          "height": 34
        },
        "outputId": "b53ec812-4801-4164-aaec-9504b518ce27"
      },
      "cell_type": "code",
      "source": [
        "rf = RandomForestClassifier(n_estimators=9, criterion=\"gini\", max_depth=5, random_state=0)\n",
        "rf.fit(X_train, y_train)\n",
        "y_pred_rf = rf.predict(X_test)\n",
        "\n",
        "accuracy_score(y_pred_rf, y_test)"
      ],
      "execution_count": 90,
      "outputs": [
        {
          "output_type": "execute_result",
          "data": {
            "text/plain": [
              "0.7760416666666666"
            ]
          },
          "metadata": {
            "tags": []
          },
          "execution_count": 90
        }
      ]
    },
    {
      "metadata": {
        "id": "6Ys_J3O4pd0u",
        "colab_type": "text"
      },
      "cell_type": "markdown",
      "source": [
        "#### Print the accuracy on the test data, play with the parameters and try to improve the accuracy<br>\n",
        "how did the accuracy compare to the decision tree's accuracy?<br>"
      ]
    },
    {
      "metadata": {
        "id": "aQdfjEWdfDOH",
        "colab_type": "code",
        "colab": {
          "base_uri": "https://localhost:8080/",
          "height": 34
        },
        "outputId": "5f6b87cc-c21d-43e2-f717-ad9193bf35df"
      },
      "cell_type": "code",
      "source": [
        "rf2 = RandomForestClassifier(n_estimators=10, criterion=\"entropy\", max_depth=5, random_state=0)\n",
        "rf2.fit(X_train, y_train)\n",
        "y_pred_rf2 = rf2.predict(X_test)\n",
        "\n",
        "accuracy_score(y_pred_rf2, y_test)"
      ],
      "execution_count": 91,
      "outputs": [
        {
          "output_type": "execute_result",
          "data": {
            "text/plain": [
              "0.8125"
            ]
          },
          "metadata": {
            "tags": []
          },
          "execution_count": 91
        }
      ]
    },
    {
      "metadata": {
        "id": "jGlSHxuUqAnX",
        "colab_type": "text"
      },
      "cell_type": "markdown",
      "source": [
        "#### Print the 3 most important features<br>\n",
        "hint: sklearn has an attribute to help you find these "
      ]
    },
    {
      "metadata": {
        "id": "5rVekWn0qw3r",
        "colab_type": "code",
        "colab": {
          "base_uri": "https://localhost:8080/",
          "height": 102
        },
        "outputId": "1a49f908-f970-44ca-fa35-9eff3c5f433a"
      },
      "cell_type": "code",
      "source": [
        "print(rf.feature_importances_)\n",
        "print()\n",
        "print(rf2.feature_importances_)"
      ],
      "execution_count": 93,
      "outputs": [
        {
          "output_type": "stream",
          "text": [
            "[0.08660718 0.230026   0.0666834  0.04884051 0.07684446 0.20202394\n",
            " 0.11332787 0.17564664]\n",
            "\n",
            "[0.08156208 0.24891985 0.04936366 0.07374095 0.05879288 0.1994006\n",
            " 0.10903626 0.17918373]\n"
          ],
          "name": "stdout"
        }
      ]
    },
    {
      "metadata": {
        "id": "lynu8pLDtd0S",
        "colab_type": "text"
      },
      "cell_type": "markdown",
      "source": [
        "#### Find the accuracy for random forests with 1 to 100 trees, counting by 5. Plot these accuracies"
      ]
    },
    {
      "metadata": {
        "id": "e2hG7npcuM7f",
        "colab_type": "code",
        "colab": {
          "base_uri": "https://localhost:8080/",
          "height": 364
        },
        "outputId": "6367bbdb-3e69-43d5-ddf4-f7e9232b49a6"
      },
      "cell_type": "code",
      "source": [
        "accuracies = []\n",
        "\n",
        "for i in range(1, 100, 5):\n",
        "  rfc = RandomForestClassifier(n_estimators=i)\n",
        "  rfc.fit(X_train, y_train)\n",
        "  temp = rfc.predict(X_test)\n",
        "  acc = accuracy_score(temp, y_test)\n",
        "  accuracies.append(acc)\n",
        "\n",
        "plt.plot(accuracies)"
      ],
      "execution_count": 97,
      "outputs": [
        {
          "output_type": "execute_result",
          "data": {
            "text/plain": [
              "[<matplotlib.lines.Line2D at 0x7f84be87f7f0>]"
            ]
          },
          "metadata": {
            "tags": []
          },
          "execution_count": 97
        },
        {
          "output_type": "display_data",
          "data": {
            "image/png": "[encoded data removed]",
            "text/plain": [
              "<matplotlib.figure.Figure at 0x7f84bfb7ceb8>"
            ]
          },
          "metadata": {
            "tags": []
          }
        }
      ]
    },
    {
      "metadata": {
        "id": "ZjaVPWZqVP6l",
        "colab_type": "text"
      },
      "cell_type": "markdown",
      "source": [
        "#### Plot the roc_curve using predict_proba a function for our random forest model, and metrics. roc_curve <br>\n",
        "It might help to google these functions and look at sklearn's documentation"
      ]
    },
    {
      "metadata": {
        "id": "REk_yvdTfDa3",
        "colab_type": "code",
        "colab": {}
      },
      "cell_type": "code",
      "source": [
        "# your code here"
      ],
      "execution_count": 0,
      "outputs": []
    },
    {
      "metadata": {
        "id": "YAml_sdbYqIm",
        "colab_type": "text"
      },
      "cell_type": "markdown",
      "source": [
        "#### To view the trees in the random_forest you can loop through your model's '.estimators_\" attribute <br>\n",
        "If you have time look at pictures of the trees"
      ]
    },
    {
      "metadata": {
        "id": "k5pacJabuKXx",
        "colab_type": "code",
        "colab": {}
      },
      "cell_type": "code",
      "source": [
        "# your code here"
      ],
      "execution_count": 0,
      "outputs": []
    }
  ]
}