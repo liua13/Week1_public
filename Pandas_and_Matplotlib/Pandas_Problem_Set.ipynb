{
  "nbformat": 4,
  "nbformat_minor": 0,
  "metadata": {
    "colab": {
      "name": "Pandas Problem Set.ipynb",
      "version": "0.3.2",
      "provenance": [],
      "collapsed_sections": []
    },
    "kernelspec": {
      "name": "python3",
      "display_name": "Python 3"
    }
  },
  "cells": [
    {
      "metadata": {
        "id": "bSU6eKZTdMXZ",
        "colab_type": "text"
      },
      "cell_type": "markdown",
      "source": [
        "# Pandas Problem Set"
      ]
    },
    {
      "metadata": {
        "id": "c5ewTg7vdQFm",
        "colab_type": "code",
        "colab": {}
      },
      "cell_type": "code",
      "source": [
        "import pandas as pd\n",
        "from google.colab import files\n",
        "import numpy as np\n",
        "import matplotlib.pyplot as plt"
      ],
      "execution_count": 0,
      "outputs": []
    },
    {
      "metadata": {
        "id": "MytzEzg-fyb7",
        "colab_type": "text"
      },
      "cell_type": "markdown",
      "source": [
        "### Dataset for tutorial and problem set:\n",
        "\n",
        "    Pima Indian Heritage Diabetes\n",
        "\n",
        "    Each person in the dataset is a female who is at least 21 years\n",
        "    \n",
        "  #### Below are the variables for each person in the dataset\n",
        "      'preg': number of pregnancies  \n",
        "      'plas': plasma glucose concentration \n",
        "      'pres': blood pressure \n",
        "      'skin': skin thickness\n",
        "      'test': Insluin\n",
        "      'mass': BMI\n",
        "      'pedi': diabetes pedigree function\n",
        "      'age': age\n",
        "      'class': '0' means does not have diabetes and '1' means has diabetes"
      ]
    },
    {
      "metadata": {
        "id": "F4btIg8vdSyb",
        "colab_type": "code",
        "colab": {}
      },
      "cell_type": "code",
      "source": [
        "url = \"https://raw.githubusercontent.com/jbrownlee/Datasets/master/pima-indians-diabetes.data.csv\"\n",
        "names = ['preg', 'plas', 'pres', 'skin', 'test', 'mass', 'pedi', 'age', 'class']"
      ],
      "execution_count": 0,
      "outputs": []
    },
    {
      "metadata": {
        "id": "QOLgFaSKeShR",
        "colab_type": "text"
      },
      "cell_type": "markdown",
      "source": [
        "Read in csv above to a pandas dataframe"
      ]
    },
    {
      "metadata": {
        "id": "Okcb8dnXeX2C",
        "colab_type": "code",
        "colab": {
          "base_uri": "https://localhost:8080/",
          "height": 204
        },
        "outputId": "cc66fd70-b447-42e0-e3fd-f3153701977a"
      },
      "cell_type": "code",
      "source": [
        "data = pd.read_csv(url)\n",
        "data.columns = names\n",
        "data.head()"
      ],
      "execution_count": 38,
      "outputs": [
        {
          "output_type": "execute_result",
          "data": {
            "text/html": [
              "<div>\n",
              "<style scoped>\n",
              "    .dataframe tbody tr th:only-of-type {\n",
              "        vertical-align: middle;\n",
              "    }\n",
              "\n",
              "    .dataframe tbody tr th {\n",
              "        vertical-align: top;\n",
              "    }\n",
              "\n",
              "    .dataframe thead th {\n",
              "        text-align: right;\n",
              "    }\n",
              "</style>\n",
              "<table border=\"1\" class=\"dataframe\">\n",
              "  <thead>\n",
              "    <tr style=\"text-align: right;\">\n",
              "      <th></th>\n",
              "      <th>preg</th>\n",
              "      <th>plas</th>\n",
              "      <th>pres</th>\n",
              "      <th>skin</th>\n",
              "      <th>test</th>\n",
              "      <th>mass</th>\n",
              "      <th>pedi</th>\n",
              "      <th>age</th>\n",
              "      <th>class</th>\n",
              "    </tr>\n",
              "  </thead>\n",
              "  <tbody>\n",
              "    <tr>\n",
              "      <th>0</th>\n",
              "      <td>1</td>\n",
              "      <td>85</td>\n",
              "      <td>66</td>\n",
              "      <td>29</td>\n",
              "      <td>0</td>\n",
              "      <td>26.6</td>\n",
              "      <td>0.351</td>\n",
              "      <td>31</td>\n",
              "      <td>0</td>\n",
              "    </tr>\n",
              "    <tr>\n",
              "      <th>1</th>\n",
              "      <td>8</td>\n",
              "      <td>183</td>\n",
              "      <td>64</td>\n",
              "      <td>0</td>\n",
              "      <td>0</td>\n",
              "      <td>23.3</td>\n",
              "      <td>0.672</td>\n",
              "      <td>32</td>\n",
              "      <td>1</td>\n",
              "    </tr>\n",
              "    <tr>\n",
              "      <th>2</th>\n",
              "      <td>1</td>\n",
              "      <td>89</td>\n",
              "      <td>66</td>\n",
              "      <td>23</td>\n",
              "      <td>94</td>\n",
              "      <td>28.1</td>\n",
              "      <td>0.167</td>\n",
              "      <td>21</td>\n",
              "      <td>0</td>\n",
              "    </tr>\n",
              "    <tr>\n",
              "      <th>3</th>\n",
              "      <td>0</td>\n",
              "      <td>137</td>\n",
              "      <td>40</td>\n",
              "      <td>35</td>\n",
              "      <td>168</td>\n",
              "      <td>43.1</td>\n",
              "      <td>2.288</td>\n",
              "      <td>33</td>\n",
              "      <td>1</td>\n",
              "    </tr>\n",
              "    <tr>\n",
              "      <th>4</th>\n",
              "      <td>5</td>\n",
              "      <td>116</td>\n",
              "      <td>74</td>\n",
              "      <td>0</td>\n",
              "      <td>0</td>\n",
              "      <td>25.6</td>\n",
              "      <td>0.201</td>\n",
              "      <td>30</td>\n",
              "      <td>0</td>\n",
              "    </tr>\n",
              "  </tbody>\n",
              "</table>\n",
              "</div>"
            ],
            "text/plain": [
              "   preg  plas  pres  skin  test  mass   pedi  age  class\n",
              "0     1    85    66    29     0  26.6  0.351   31      0\n",
              "1     8   183    64     0     0  23.3  0.672   32      1\n",
              "2     1    89    66    23    94  28.1  0.167   21      0\n",
              "3     0   137    40    35   168  43.1  2.288   33      1\n",
              "4     5   116    74     0     0  25.6  0.201   30      0"
            ]
          },
          "metadata": {
            "tags": []
          },
          "execution_count": 38
        }
      ]
    },
    {
      "metadata": {
        "id": "d4DyOsuoewE2",
        "colab_type": "text"
      },
      "cell_type": "markdown",
      "source": [
        "Print out the age and class of the 100th patient"
      ]
    },
    {
      "metadata": {
        "id": "xZqBsg39eY8_",
        "colab_type": "code",
        "colab": {
          "base_uri": "https://localhost:8080/",
          "height": 68
        },
        "outputId": "6ebd246e-40ed-4a97-b22f-4eba0ddb663e"
      },
      "cell_type": "code",
      "source": [
        "data.loc[99,[\"age\", \"class\"]]"
      ],
      "execution_count": 39,
      "outputs": [
        {
          "output_type": "execute_result",
          "data": {
            "text/plain": [
              "age      33.0\n",
              "class     1.0\n",
              "Name: 99, dtype: float64"
            ]
          },
          "metadata": {
            "tags": []
          },
          "execution_count": 39
        }
      ]
    },
    {
      "metadata": {
        "id": "j8L2EM-5iOWc",
        "colab_type": "text"
      },
      "cell_type": "markdown",
      "source": [
        "Write code to figure out how many people are classified as not having diabetes, class is 1"
      ]
    },
    {
      "metadata": {
        "id": "vohzS51WiWvD",
        "colab_type": "code",
        "colab": {
          "base_uri": "https://localhost:8080/",
          "height": 34
        },
        "outputId": "a45c3d5f-a056-4a42-b850-dc4f7a0de7c9"
      },
      "cell_type": "code",
      "source": [
        "len(data[data[\"class\"]==1])"
      ],
      "execution_count": 40,
      "outputs": [
        {
          "output_type": "execute_result",
          "data": {
            "text/plain": [
              "267"
            ]
          },
          "metadata": {
            "tags": []
          },
          "execution_count": 40
        }
      ]
    },
    {
      "metadata": {
        "id": "ieGRz4iiiX4E",
        "colab_type": "text"
      },
      "cell_type": "markdown",
      "source": [
        "Write code to figure out how many people are classified as having diabetes, class is 0"
      ]
    },
    {
      "metadata": {
        "id": "-jq2O-vriXRT",
        "colab_type": "code",
        "colab": {
          "base_uri": "https://localhost:8080/",
          "height": 34
        },
        "outputId": "ac0d6645-f15b-4f5f-d0f2-f98295813989"
      },
      "cell_type": "code",
      "source": [
        "len(data[data[\"class\"]==0])"
      ],
      "execution_count": 41,
      "outputs": [
        {
          "output_type": "execute_result",
          "data": {
            "text/plain": [
              "500"
            ]
          },
          "metadata": {
            "tags": []
          },
          "execution_count": 41
        }
      ]
    },
    {
      "metadata": {
        "id": "oeFT7T9OnuSd",
        "colab_type": "text"
      },
      "cell_type": "markdown",
      "source": [
        "What percent of people have diabetes in the study"
      ]
    },
    {
      "metadata": {
        "id": "zGGHptFYnwq0",
        "colab_type": "code",
        "colab": {
          "base_uri": "https://localhost:8080/",
          "height": 34
        },
        "outputId": "58d1e47f-9202-4cf6-e21a-a097a34b2f4d"
      },
      "cell_type": "code",
      "source": [
        "print(len(data[data[\"class\"]==1])/len(data)*100, \"%\")"
      ],
      "execution_count": 42,
      "outputs": [
        {
          "output_type": "stream",
          "text": [
            "34.8109517601043 %\n"
          ],
          "name": "stdout"
        }
      ]
    },
    {
      "metadata": {
        "id": "nbrjnRPafs0p",
        "colab_type": "text"
      },
      "cell_type": "markdown",
      "source": [
        "Print out the pressure and class (no other columns) for the first 5 people\n",
        "\n",
        "hint: this was not shown in our tutorial google how to select multiple columns with loc\n",
        "\n",
        "Being able to effectively google is a very important coding tool"
      ]
    },
    {
      "metadata": {
        "id": "GiNCJ19KfHJQ",
        "colab_type": "code",
        "colab": {
          "base_uri": "https://localhost:8080/",
          "height": 204
        },
        "outputId": "41eca347-e5b4-4f0b-827a-518b0be0b8b8"
      },
      "cell_type": "code",
      "source": [
        "data.loc[[0,1,2,3,4], [\"pres\", \"class\"]]"
      ],
      "execution_count": 43,
      "outputs": [
        {
          "output_type": "execute_result",
          "data": {
            "text/html": [
              "<div>\n",
              "<style scoped>\n",
              "    .dataframe tbody tr th:only-of-type {\n",
              "        vertical-align: middle;\n",
              "    }\n",
              "\n",
              "    .dataframe tbody tr th {\n",
              "        vertical-align: top;\n",
              "    }\n",
              "\n",
              "    .dataframe thead th {\n",
              "        text-align: right;\n",
              "    }\n",
              "</style>\n",
              "<table border=\"1\" class=\"dataframe\">\n",
              "  <thead>\n",
              "    <tr style=\"text-align: right;\">\n",
              "      <th></th>\n",
              "      <th>pres</th>\n",
              "      <th>class</th>\n",
              "    </tr>\n",
              "  </thead>\n",
              "  <tbody>\n",
              "    <tr>\n",
              "      <th>0</th>\n",
              "      <td>66</td>\n",
              "      <td>0</td>\n",
              "    </tr>\n",
              "    <tr>\n",
              "      <th>1</th>\n",
              "      <td>64</td>\n",
              "      <td>1</td>\n",
              "    </tr>\n",
              "    <tr>\n",
              "      <th>2</th>\n",
              "      <td>66</td>\n",
              "      <td>0</td>\n",
              "    </tr>\n",
              "    <tr>\n",
              "      <th>3</th>\n",
              "      <td>40</td>\n",
              "      <td>1</td>\n",
              "    </tr>\n",
              "    <tr>\n",
              "      <th>4</th>\n",
              "      <td>74</td>\n",
              "      <td>0</td>\n",
              "    </tr>\n",
              "  </tbody>\n",
              "</table>\n",
              "</div>"
            ],
            "text/plain": [
              "   pres  class\n",
              "0    66      0\n",
              "1    64      1\n",
              "2    66      0\n",
              "3    40      1\n",
              "4    74      0"
            ]
          },
          "metadata": {
            "tags": []
          },
          "execution_count": 43
        }
      ]
    },
    {
      "metadata": {
        "id": "O-CcsoqlhxUn",
        "colab_type": "text"
      },
      "cell_type": "markdown",
      "source": [
        "Run the cell below, it will print out the correlation among the columns"
      ]
    },
    {
      "metadata": {
        "id": "pXpVFt6MffQt",
        "colab_type": "code",
        "colab": {
          "base_uri": "https://localhost:8080/",
          "height": 328
        },
        "outputId": "48dc0c25-ece4-47d4-8a17-57020a8acaad"
      },
      "cell_type": "code",
      "source": [
        "data.corr()"
      ],
      "execution_count": 44,
      "outputs": [
        {
          "output_type": "execute_result",
          "data": {
            "text/html": [
              "<div>\n",
              "<style scoped>\n",
              "    .dataframe tbody tr th:only-of-type {\n",
              "        vertical-align: middle;\n",
              "    }\n",
              "\n",
              "    .dataframe tbody tr th {\n",
              "        vertical-align: top;\n",
              "    }\n",
              "\n",
              "    .dataframe thead th {\n",
              "        text-align: right;\n",
              "    }\n",
              "</style>\n",
              "<table border=\"1\" class=\"dataframe\">\n",
              "  <thead>\n",
              "    <tr style=\"text-align: right;\">\n",
              "      <th></th>\n",
              "      <th>preg</th>\n",
              "      <th>plas</th>\n",
              "      <th>pres</th>\n",
              "      <th>skin</th>\n",
              "      <th>test</th>\n",
              "      <th>mass</th>\n",
              "      <th>pedi</th>\n",
              "      <th>age</th>\n",
              "      <th>class</th>\n",
              "    </tr>\n",
              "  </thead>\n",
              "  <tbody>\n",
              "    <tr>\n",
              "      <th>preg</th>\n",
              "      <td>1.000000</td>\n",
              "      <td>0.128846</td>\n",
              "      <td>0.141197</td>\n",
              "      <td>-0.082495</td>\n",
              "      <td>-0.072999</td>\n",
              "      <td>0.017518</td>\n",
              "      <td>-0.033927</td>\n",
              "      <td>0.544018</td>\n",
              "      <td>0.221087</td>\n",
              "    </tr>\n",
              "    <tr>\n",
              "      <th>plas</th>\n",
              "      <td>0.128846</td>\n",
              "      <td>1.000000</td>\n",
              "      <td>0.152498</td>\n",
              "      <td>0.056381</td>\n",
              "      <td>0.332383</td>\n",
              "      <td>0.220955</td>\n",
              "      <td>0.136903</td>\n",
              "      <td>0.262408</td>\n",
              "      <td>0.465856</td>\n",
              "    </tr>\n",
              "    <tr>\n",
              "      <th>pres</th>\n",
              "      <td>0.141197</td>\n",
              "      <td>0.152498</td>\n",
              "      <td>1.000000</td>\n",
              "      <td>0.207308</td>\n",
              "      <td>0.089098</td>\n",
              "      <td>0.281777</td>\n",
              "      <td>0.041180</td>\n",
              "      <td>0.239571</td>\n",
              "      <td>0.064882</td>\n",
              "    </tr>\n",
              "    <tr>\n",
              "      <th>skin</th>\n",
              "      <td>-0.082495</td>\n",
              "      <td>0.056381</td>\n",
              "      <td>0.207308</td>\n",
              "      <td>1.000000</td>\n",
              "      <td>0.437974</td>\n",
              "      <td>0.392553</td>\n",
              "      <td>0.183498</td>\n",
              "      <td>-0.115873</td>\n",
              "      <td>0.073265</td>\n",
              "    </tr>\n",
              "    <tr>\n",
              "      <th>test</th>\n",
              "      <td>-0.072999</td>\n",
              "      <td>0.332383</td>\n",
              "      <td>0.089098</td>\n",
              "      <td>0.437974</td>\n",
              "      <td>1.000000</td>\n",
              "      <td>0.198111</td>\n",
              "      <td>0.185579</td>\n",
              "      <td>-0.040942</td>\n",
              "      <td>0.131984</td>\n",
              "    </tr>\n",
              "    <tr>\n",
              "      <th>mass</th>\n",
              "      <td>0.017518</td>\n",
              "      <td>0.220955</td>\n",
              "      <td>0.281777</td>\n",
              "      <td>0.392553</td>\n",
              "      <td>0.198111</td>\n",
              "      <td>1.000000</td>\n",
              "      <td>0.140546</td>\n",
              "      <td>0.035911</td>\n",
              "      <td>0.292695</td>\n",
              "    </tr>\n",
              "    <tr>\n",
              "      <th>pedi</th>\n",
              "      <td>-0.033927</td>\n",
              "      <td>0.136903</td>\n",
              "      <td>0.041180</td>\n",
              "      <td>0.183498</td>\n",
              "      <td>0.185579</td>\n",
              "      <td>0.140546</td>\n",
              "      <td>1.000000</td>\n",
              "      <td>0.032738</td>\n",
              "      <td>0.173245</td>\n",
              "    </tr>\n",
              "    <tr>\n",
              "      <th>age</th>\n",
              "      <td>0.544018</td>\n",
              "      <td>0.262408</td>\n",
              "      <td>0.239571</td>\n",
              "      <td>-0.115873</td>\n",
              "      <td>-0.040942</td>\n",
              "      <td>0.035911</td>\n",
              "      <td>0.032738</td>\n",
              "      <td>1.000000</td>\n",
              "      <td>0.236417</td>\n",
              "    </tr>\n",
              "    <tr>\n",
              "      <th>class</th>\n",
              "      <td>0.221087</td>\n",
              "      <td>0.465856</td>\n",
              "      <td>0.064882</td>\n",
              "      <td>0.073265</td>\n",
              "      <td>0.131984</td>\n",
              "      <td>0.292695</td>\n",
              "      <td>0.173245</td>\n",
              "      <td>0.236417</td>\n",
              "      <td>1.000000</td>\n",
              "    </tr>\n",
              "  </tbody>\n",
              "</table>\n",
              "</div>"
            ],
            "text/plain": [
              "           preg      plas      pres      skin      test      mass      pedi  \\\n",
              "preg   1.000000  0.128846  0.141197 -0.082495 -0.072999  0.017518 -0.033927   \n",
              "plas   0.128846  1.000000  0.152498  0.056381  0.332383  0.220955  0.136903   \n",
              "pres   0.141197  0.152498  1.000000  0.207308  0.089098  0.281777  0.041180   \n",
              "skin  -0.082495  0.056381  0.207308  1.000000  0.437974  0.392553  0.183498   \n",
              "test  -0.072999  0.332383  0.089098  0.437974  1.000000  0.198111  0.185579   \n",
              "mass   0.017518  0.220955  0.281777  0.392553  0.198111  1.000000  0.140546   \n",
              "pedi  -0.033927  0.136903  0.041180  0.183498  0.185579  0.140546  1.000000   \n",
              "age    0.544018  0.262408  0.239571 -0.115873 -0.040942  0.035911  0.032738   \n",
              "class  0.221087  0.465856  0.064882  0.073265  0.131984  0.292695  0.173245   \n",
              "\n",
              "            age     class  \n",
              "preg   0.544018  0.221087  \n",
              "plas   0.262408  0.465856  \n",
              "pres   0.239571  0.064882  \n",
              "skin  -0.115873  0.073265  \n",
              "test  -0.040942  0.131984  \n",
              "mass   0.035911  0.292695  \n",
              "pedi   0.032738  0.173245  \n",
              "age    1.000000  0.236417  \n",
              "class  0.236417  1.000000  "
            ]
          },
          "metadata": {
            "tags": []
          },
          "execution_count": 44
        }
      ]
    },
    {
      "metadata": {
        "id": "P_7xRF11h4Uf",
        "colab_type": "text"
      },
      "cell_type": "markdown",
      "source": [
        "What column has the highest correlation with class? Find the mean() value of that column"
      ]
    },
    {
      "metadata": {
        "id": "clb2Gh8Mn9d4",
        "colab_type": "code",
        "colab": {
          "base_uri": "https://localhost:8080/",
          "height": 34
        },
        "outputId": "5ec5d80e-d153-452a-fa06-e051edeefb52"
      },
      "cell_type": "code",
      "source": [
        "plas_mean = data[\"plas\"].mean()\n",
        "plas_mean"
      ],
      "execution_count": 74,
      "outputs": [
        {
          "output_type": "execute_result",
          "data": {
            "text/plain": [
              "120.85919165580182"
            ]
          },
          "metadata": {
            "tags": []
          },
          "execution_count": 74
        }
      ]
    },
    {
      "metadata": {
        "id": "64yWhAARoWw-",
        "colab_type": "text"
      },
      "cell_type": "markdown",
      "source": [
        "Create a new dataframe with only people that are above the mean found above"
      ]
    },
    {
      "metadata": {
        "id": "HRLjs3agkdPY",
        "colab_type": "code",
        "colab": {
          "base_uri": "https://localhost:8080/",
          "height": 204
        },
        "outputId": "85324288-30af-4327-9e65-6515a75123a3"
      },
      "cell_type": "code",
      "source": [
        "plas_above = data[data[\"plas\"]>plas_mean]\n",
        "plas_above.head()"
      ],
      "execution_count": 77,
      "outputs": [
        {
          "output_type": "execute_result",
          "data": {
            "text/html": [
              "<div>\n",
              "<style scoped>\n",
              "    .dataframe tbody tr th:only-of-type {\n",
              "        vertical-align: middle;\n",
              "    }\n",
              "\n",
              "    .dataframe tbody tr th {\n",
              "        vertical-align: top;\n",
              "    }\n",
              "\n",
              "    .dataframe thead th {\n",
              "        text-align: right;\n",
              "    }\n",
              "</style>\n",
              "<table border=\"1\" class=\"dataframe\">\n",
              "  <thead>\n",
              "    <tr style=\"text-align: right;\">\n",
              "      <th></th>\n",
              "      <th>preg</th>\n",
              "      <th>plas</th>\n",
              "      <th>pres</th>\n",
              "      <th>skin</th>\n",
              "      <th>test</th>\n",
              "      <th>mass</th>\n",
              "      <th>pedi</th>\n",
              "      <th>age</th>\n",
              "      <th>class</th>\n",
              "    </tr>\n",
              "  </thead>\n",
              "  <tbody>\n",
              "    <tr>\n",
              "      <th>1</th>\n",
              "      <td>8</td>\n",
              "      <td>183</td>\n",
              "      <td>64</td>\n",
              "      <td>0</td>\n",
              "      <td>0</td>\n",
              "      <td>23.3</td>\n",
              "      <td>0.672</td>\n",
              "      <td>32</td>\n",
              "      <td>1</td>\n",
              "    </tr>\n",
              "    <tr>\n",
              "      <th>3</th>\n",
              "      <td>0</td>\n",
              "      <td>137</td>\n",
              "      <td>40</td>\n",
              "      <td>35</td>\n",
              "      <td>168</td>\n",
              "      <td>43.1</td>\n",
              "      <td>2.288</td>\n",
              "      <td>33</td>\n",
              "      <td>1</td>\n",
              "    </tr>\n",
              "    <tr>\n",
              "      <th>7</th>\n",
              "      <td>2</td>\n",
              "      <td>197</td>\n",
              "      <td>70</td>\n",
              "      <td>45</td>\n",
              "      <td>543</td>\n",
              "      <td>30.5</td>\n",
              "      <td>0.158</td>\n",
              "      <td>53</td>\n",
              "      <td>1</td>\n",
              "    </tr>\n",
              "    <tr>\n",
              "      <th>8</th>\n",
              "      <td>8</td>\n",
              "      <td>125</td>\n",
              "      <td>96</td>\n",
              "      <td>0</td>\n",
              "      <td>0</td>\n",
              "      <td>0.0</td>\n",
              "      <td>0.232</td>\n",
              "      <td>54</td>\n",
              "      <td>1</td>\n",
              "    </tr>\n",
              "    <tr>\n",
              "      <th>10</th>\n",
              "      <td>10</td>\n",
              "      <td>168</td>\n",
              "      <td>74</td>\n",
              "      <td>0</td>\n",
              "      <td>0</td>\n",
              "      <td>38.0</td>\n",
              "      <td>0.537</td>\n",
              "      <td>34</td>\n",
              "      <td>1</td>\n",
              "    </tr>\n",
              "  </tbody>\n",
              "</table>\n",
              "</div>"
            ],
            "text/plain": [
              "    preg  plas  pres  skin  test  mass   pedi  age  class\n",
              "1      8   183    64     0     0  23.3  0.672   32      1\n",
              "3      0   137    40    35   168  43.1  2.288   33      1\n",
              "7      2   197    70    45   543  30.5  0.158   53      1\n",
              "8      8   125    96     0     0   0.0  0.232   54      1\n",
              "10    10   168    74     0     0  38.0  0.537   34      1"
            ]
          },
          "metadata": {
            "tags": []
          },
          "execution_count": 77
        }
      ]
    },
    {
      "metadata": {
        "id": "VvUV0lrRmiB7",
        "colab_type": "text"
      },
      "cell_type": "markdown",
      "source": [
        "What percent of the new dataframe have diabetes"
      ]
    },
    {
      "metadata": {
        "id": "tx3x0WsFl3ya",
        "colab_type": "code",
        "colab": {
          "base_uri": "https://localhost:8080/",
          "height": 34
        },
        "outputId": "46718b2b-c336-4ea3-9ac2-a9073ea5141c"
      },
      "cell_type": "code",
      "source": [
        "print(len(plas_above[plas_above[\"class\"]==0])/len(plas_above)*100, \"%\")"
      ],
      "execution_count": 80,
      "outputs": [
        {
          "output_type": "stream",
          "text": [
            "44.252873563218394 %\n"
          ],
          "name": "stdout"
        }
      ]
    },
    {
      "metadata": {
        "id": "RxGIQp0JrUnq",
        "colab_type": "text"
      },
      "cell_type": "markdown",
      "source": [
        "Create a new dataframe that only includes people who are above the average value for each column in the dataset (except 'class'). In other words, find the average value for each column, and then find which users have values above all of these average column values"
      ]
    },
    {
      "metadata": {
        "id": "Ylf4p6NNrfME",
        "colab_type": "code",
        "colab": {
          "base_uri": "https://localhost:8080/",
          "height": 204
        },
        "outputId": "4abed883-159b-4b5e-a162-597e50a1cb92"
      },
      "cell_type": "code",
      "source": [
        "preg_val = data[\"preg\"].mean()\n",
        "plas_val = data[\"plas\"].mean()\n",
        "pres_val = data[\"pres\"].mean()\n",
        "skin_val = data[\"skin\"].mean()\n",
        "test_val = data[\"test\"].mean()\n",
        "mass_val = data[\"mass\"].mean()\n",
        "pedi_val = data[\"pedi\"].mean()\n",
        "age_val = data[\"age\"].mean()\n",
        "\n",
        "new_data = data.loc[(data[\"preg\"]>preg_val) & (data[\"plas\"]>plas_val) & (data[\"pres\"]>pres_val) & (data[\"skin\"]>skin_val) & (data[\"test\"]>test_val) & (data[\"mass\"]>mass_val) & (data[\"pedi\"]>pedi_val) & (data[\"age\"]>age_val), :]\n",
        "new_data.head()"
      ],
      "execution_count": 82,
      "outputs": [
        {
          "output_type": "execute_result",
          "data": {
            "text/html": [
              "<div>\n",
              "<style scoped>\n",
              "    .dataframe tbody tr th:only-of-type {\n",
              "        vertical-align: middle;\n",
              "    }\n",
              "\n",
              "    .dataframe tbody tr th {\n",
              "        vertical-align: top;\n",
              "    }\n",
              "\n",
              "    .dataframe thead th {\n",
              "        text-align: right;\n",
              "    }\n",
              "</style>\n",
              "<table border=\"1\" class=\"dataframe\">\n",
              "  <thead>\n",
              "    <tr style=\"text-align: right;\">\n",
              "      <th></th>\n",
              "      <th>preg</th>\n",
              "      <th>plas</th>\n",
              "      <th>pres</th>\n",
              "      <th>skin</th>\n",
              "      <th>test</th>\n",
              "      <th>mass</th>\n",
              "      <th>pedi</th>\n",
              "      <th>age</th>\n",
              "      <th>class</th>\n",
              "    </tr>\n",
              "  </thead>\n",
              "  <tbody>\n",
              "    <tr>\n",
              "      <th>42</th>\n",
              "      <td>9</td>\n",
              "      <td>171</td>\n",
              "      <td>110</td>\n",
              "      <td>24</td>\n",
              "      <td>240</td>\n",
              "      <td>45.4</td>\n",
              "      <td>0.721</td>\n",
              "      <td>54</td>\n",
              "      <td>1</td>\n",
              "    </tr>\n",
              "    <tr>\n",
              "      <th>151</th>\n",
              "      <td>9</td>\n",
              "      <td>156</td>\n",
              "      <td>86</td>\n",
              "      <td>28</td>\n",
              "      <td>155</td>\n",
              "      <td>34.3</td>\n",
              "      <td>1.189</td>\n",
              "      <td>42</td>\n",
              "      <td>1</td>\n",
              "    </tr>\n",
              "    <tr>\n",
              "      <th>158</th>\n",
              "      <td>17</td>\n",
              "      <td>163</td>\n",
              "      <td>72</td>\n",
              "      <td>41</td>\n",
              "      <td>114</td>\n",
              "      <td>40.9</td>\n",
              "      <td>0.817</td>\n",
              "      <td>47</td>\n",
              "      <td>1</td>\n",
              "    </tr>\n",
              "    <tr>\n",
              "      <th>174</th>\n",
              "      <td>8</td>\n",
              "      <td>179</td>\n",
              "      <td>72</td>\n",
              "      <td>42</td>\n",
              "      <td>130</td>\n",
              "      <td>32.7</td>\n",
              "      <td>0.719</td>\n",
              "      <td>36</td>\n",
              "      <td>1</td>\n",
              "    </tr>\n",
              "    <tr>\n",
              "      <th>205</th>\n",
              "      <td>8</td>\n",
              "      <td>196</td>\n",
              "      <td>76</td>\n",
              "      <td>29</td>\n",
              "      <td>280</td>\n",
              "      <td>37.5</td>\n",
              "      <td>0.605</td>\n",
              "      <td>57</td>\n",
              "      <td>1</td>\n",
              "    </tr>\n",
              "  </tbody>\n",
              "</table>\n",
              "</div>"
            ],
            "text/plain": [
              "     preg  plas  pres  skin  test  mass   pedi  age  class\n",
              "42      9   171   110    24   240  45.4  0.721   54      1\n",
              "151     9   156    86    28   155  34.3  1.189   42      1\n",
              "158    17   163    72    41   114  40.9  0.817   47      1\n",
              "174     8   179    72    42   130  32.7  0.719   36      1\n",
              "205     8   196    76    29   280  37.5  0.605   57      1"
            ]
          },
          "metadata": {
            "tags": []
          },
          "execution_count": 82
        }
      ]
    },
    {
      "metadata": {
        "id": "BIJkXsK4ch-u",
        "colab_type": "text"
      },
      "cell_type": "markdown",
      "source": [
        "Using what you have learned (and google) explore the data. Discuss what you find with people around you or the instructors"
      ]
    },
    {
      "metadata": {
        "id": "kSl28jLLdAF9",
        "colab_type": "code",
        "colab": {}
      },
      "cell_type": "code",
      "source": [
        "# write code here"
      ],
      "execution_count": 0,
      "outputs": []
    }
  ]
}